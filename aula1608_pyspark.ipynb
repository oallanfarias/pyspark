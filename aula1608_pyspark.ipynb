{
  "nbformat": 4,
  "nbformat_minor": 0,
  "metadata": {
    "colab": {
      "name": "aula1608_pyspark.ipynb",
      "provenance": [],
      "collapsed_sections": [],
      "mount_file_id": "1tkz1W6yFjIGN2j3o_Z7BZW4488ORy7Co",
      "authorship_tag": "ABX9TyOXP6VS4foXK7TNLfF8+Vov",
      "include_colab_link": true
    },
    "kernelspec": {
      "name": "python3",
      "display_name": "Python 3"
    },
    "language_info": {
      "name": "python"
    }
  },
  "cells": [
    {
      "cell_type": "markdown",
      "metadata": {
        "id": "view-in-github",
        "colab_type": "text"
      },
      "source": [
        "<a href=\"https://colab.research.google.com/github/oallanfarias/pyspark/blob/main/aula1608_pyspark.ipynb\" target=\"_parent\"><img src=\"https://colab.research.google.com/assets/colab-badge.svg\" alt=\"Open In Colab\"/></a>"
      ]
    },
    {
      "cell_type": "markdown",
      "source": [
        "# Instalação do PYSPARK"
      ],
      "metadata": {
        "id": "IEh8flLPFvoi"
      }
    },
    {
      "cell_type": "code",
      "execution_count": null,
      "metadata": {
        "colab": {
          "base_uri": "https://localhost:8080/"
        },
        "id": "y84ZqRf7FZBb",
        "outputId": "7512e6af-16b2-405c-b113-f54e2d575b52"
      },
      "outputs": [
        {
          "output_type": "stream",
          "name": "stdout",
          "text": [
            "Looking in indexes: https://pypi.org/simple, https://us-python.pkg.dev/colab-wheels/public/simple/\n",
            "Collecting pyspark\n",
            "  Downloading pyspark-3.3.0.tar.gz (281.3 MB)\n",
            "\u001b[K     |████████████████████████████████| 281.3 MB 47 kB/s \n",
            "\u001b[?25hCollecting py4j==0.10.9.5\n",
            "  Downloading py4j-0.10.9.5-py2.py3-none-any.whl (199 kB)\n",
            "\u001b[K     |████████████████████████████████| 199 kB 51.7 MB/s \n",
            "\u001b[?25hBuilding wheels for collected packages: pyspark\n",
            "  Building wheel for pyspark (setup.py) ... \u001b[?25l\u001b[?25hdone\n",
            "  Created wheel for pyspark: filename=pyspark-3.3.0-py2.py3-none-any.whl size=281764026 sha256=34398939ed4818b0a70a3cb04ec0cd1d7b8dd4faf46ea41cc7da082b21f91187\n",
            "  Stored in directory: /root/.cache/pip/wheels/7a/8e/1b/f73a52650d2e5f337708d9f6a1750d451a7349a867f928b885\n",
            "Successfully built pyspark\n",
            "Installing collected packages: py4j, pyspark\n",
            "Successfully installed py4j-0.10.9.5 pyspark-3.3.0\n"
          ]
        }
      ],
      "source": [
        "!pip install pyspark"
      ]
    },
    {
      "cell_type": "markdown",
      "source": [
        "#Importação do PYSPARK"
      ],
      "metadata": {
        "id": "mhhnuFHvhHF9"
      }
    },
    {
      "cell_type": "code",
      "source": [
        "#COMANDO PARA IMPORTAR O SPARKSESSION\n",
        "from pyspark.sql import SparkSession\n",
        "\n",
        "#UTILIZAR UMA FUNCTION\n",
        "import pyspark.sql.functions as F"
      ],
      "metadata": {
        "id": "A-bbNrg8Fubt"
      },
      "execution_count": 24,
      "outputs": []
    },
    {
      "cell_type": "markdown",
      "source": [
        "#Configuração da SPARKSESSION"
      ],
      "metadata": {
        "id": "bmJclujdhLpZ"
      }
    },
    {
      "cell_type": "code",
      "source": [
        "# spark = (SparkSession.builder    |  Constrói a sessão\n",
        "# .master('local[4]')              |  Define a máquina master. Parênteses indicam a máquina (pode ser local, seu pc ou cloud). [] Define o número de núcleos\n",
        "# .appName('intro-pyspark')        |  Define o nome da aplicação (a própria sessão)\n",
        "# .config('spark.ui.port', '4050') |  Define as porta da aplicação\n",
        "# .getOrCreate()                   |  Função que cria a session\n",
        "# )\n",
        "spark = (SparkSession.builder\n",
        "          .master('local[4]')\n",
        "          .appName('intro-pyspark')\n",
        "          .config('spark.ui.port', '4050')\n",
        "          .getOrCreate()\n",
        "        )"
      ],
      "metadata": {
        "id": "Yr6NNM8xIoM7"
      },
      "execution_count": null,
      "outputs": []
    },
    {
      "cell_type": "code",
      "source": [
        "spark"
      ],
      "metadata": {
        "colab": {
          "base_uri": "https://localhost:8080/",
          "height": 221
        },
        "id": "Iix4TmhHTjUR",
        "outputId": "099e580f-06b0-44de-c8d4-13b04f774f5d"
      },
      "execution_count": null,
      "outputs": [
        {
          "output_type": "execute_result",
          "data": {
            "text/plain": [
              "<pyspark.sql.session.SparkSession at 0x7f0e03a52510>"
            ],
            "text/html": [
              "\n",
              "            <div>\n",
              "                <p><b>SparkSession - in-memory</b></p>\n",
              "                \n",
              "        <div>\n",
              "            <p><b>SparkContext</b></p>\n",
              "\n",
              "            <p><a href=\"http://b4a40d682ec4:4050\">Spark UI</a></p>\n",
              "\n",
              "            <dl>\n",
              "              <dt>Version</dt>\n",
              "                <dd><code>v3.3.0</code></dd>\n",
              "              <dt>Master</dt>\n",
              "                <dd><code>local[4]</code></dd>\n",
              "              <dt>AppName</dt>\n",
              "                <dd><code>intro-pyspark</code></dd>\n",
              "            </dl>\n",
              "        </div>\n",
              "        \n",
              "            </div>\n",
              "        "
            ]
          },
          "metadata": {},
          "execution_count": 4
        }
      ]
    },
    {
      "cell_type": "markdown",
      "source": [
        "#DATAFRAMES"
      ],
      "metadata": {
        "id": "4nWnx1shhihC"
      }
    },
    {
      "cell_type": "code",
      "source": [
        "#FORMA DE SE TRABALHAR COM OS DADOS (DATAFRAME - Estrutura de Dados)\n",
        "#CRIAR UM SCHEMA E SUAS INSTÂNCIAS\n",
        "esquema = ['nome', 'cidade', 'estado', 'salario']\n",
        "\n",
        "dados = [\n",
        "    ('João da Silva', 'São Paulo', 'SP', 1100.00),\n",
        "    ('Maria dos Santos', 'São Paulo', 'SP', 2100.00),\n",
        "    ('Carlos Victor', 'Rio de Janeiro', 'RJ', 2100.00),\n",
        "    ('Pedro José', 'Maceió', 'AL', 3600.00)\n",
        "]\n",
        "\n",
        "df = spark.createDataFrame(data = dados, schema = esquema)"
      ],
      "metadata": {
        "id": "tZ5XRsMUTlsN"
      },
      "execution_count": null,
      "outputs": []
    },
    {
      "cell_type": "code",
      "source": [
        "#MOSTRA DO DATAFRAME GERAL (DF)\n",
        "df.show()"
      ],
      "metadata": {
        "id": "phL_vneWTnld",
        "colab": {
          "base_uri": "https://localhost:8080/"
        },
        "outputId": "4784fedb-776e-40c6-9e04-61fe51629b2c"
      },
      "execution_count": 6,
      "outputs": [
        {
          "output_type": "stream",
          "name": "stdout",
          "text": [
            "+----------------+--------------+------+-------+\n",
            "|            nome|        cidade|estado|salario|\n",
            "+----------------+--------------+------+-------+\n",
            "|   João da Silva|     São Paulo|    SP| 1100.0|\n",
            "|Maria dos Santos|     São Paulo|    SP| 2100.0|\n",
            "|   Carlos Victor|Rio de Janeiro|    RJ| 2100.0|\n",
            "|      Pedro José|        Maceió|    AL| 3600.0|\n",
            "+----------------+--------------+------+-------+\n",
            "\n"
          ]
        }
      ]
    },
    {
      "cell_type": "code",
      "source": [
        "#MOSTRA O SCHEMA\n",
        "df.printSchema()"
      ],
      "metadata": {
        "id": "OoFOYzD8TpLl",
        "colab": {
          "base_uri": "https://localhost:8080/"
        },
        "outputId": "01c10b58-6efe-43e2-84ba-624b948a5af0"
      },
      "execution_count": 7,
      "outputs": [
        {
          "output_type": "stream",
          "name": "stdout",
          "text": [
            "root\n",
            " |-- nome: string (nullable = true)\n",
            " |-- cidade: string (nullable = true)\n",
            " |-- estado: string (nullable = true)\n",
            " |-- salario: double (nullable = true)\n",
            "\n"
          ]
        }
      ]
    },
    {
      "cell_type": "markdown",
      "source": [
        "#Importação de dados CSV em PYSPARK"
      ],
      "metadata": {
        "id": "K80H9psih6Ga"
      }
    },
    {
      "cell_type": "code",
      "source": [
        "''' \n",
        "df2 = ( spark                               |\n",
        "        .read                               |   Lê o arquivo\n",
        "        .format('csv')                      |   O formato do arquivo. Poderiam ser outros formatos.\n",
        "        .option('header', 'false')          |   Escolher se queremos ou não o header. Se usar 'False' ele não mostra a primeira linha, o padrão fica C1. \n",
        "        .option('inferschema', 'false')     |   Infere o qual é o tipo de cada dado dentro do esquema. Também 'liga' ou 'desliga' com True ou False.\n",
        "        .option('delimiter', ';').          |   Indica qual o separador\n",
        "        .load('/caminho/arquivo_geral.csv') |   Inserir o caminho dos dados\n",
        "        )'''\n",
        "df2 = ( spark\n",
        "       .read\n",
        "       .format('csv')\n",
        "       .option('header', 'true')\n",
        "       .option('inferschema', 'true')\n",
        "       .option('delimiter', ';')\n",
        "       .load('/content/drive/MyDrive/Datasets/arquivo_geral.csv')\n",
        "    \n",
        "      )"
      ],
      "metadata": {
        "id": "m9u9KOqwV2oD"
      },
      "execution_count": 16,
      "outputs": []
    },
    {
      "cell_type": "code",
      "source": [
        "df2.show()"
      ],
      "metadata": {
        "colab": {
          "base_uri": "https://localhost:8080/"
        },
        "id": "Q5Y0rNLEXhqQ",
        "outputId": "a0f28916-846b-43dc-f0d6-0826483ac611"
      },
      "execution_count": 17,
      "outputs": [
        {
          "output_type": "stream",
          "name": "stdout",
          "text": [
            "+------+------+-------------------+----------+---------------+-----------+----------------+\n",
            "|regiao|estado|               data|casosNovos|casosAcumulados|obitosNovos|obitosAcumulados|\n",
            "+------+------+-------------------+----------+---------------+-----------+----------------+\n",
            "| Norte|    RO|2020-01-30 00:00:00|         0|              0|          0|               0|\n",
            "| Norte|    RO|2020-01-31 00:00:00|         0|              0|          0|               0|\n",
            "| Norte|    RO|2020-02-01 00:00:00|         0|              0|          0|               0|\n",
            "| Norte|    RO|2020-02-02 00:00:00|         0|              0|          0|               0|\n",
            "| Norte|    RO|2020-02-03 00:00:00|         0|              0|          0|               0|\n",
            "| Norte|    RO|2020-02-04 00:00:00|         0|              0|          0|               0|\n",
            "| Norte|    RO|2020-02-05 00:00:00|         0|              0|          0|               0|\n",
            "| Norte|    RO|2020-02-06 00:00:00|         0|              0|          0|               0|\n",
            "| Norte|    RO|2020-02-07 00:00:00|         0|              0|          0|               0|\n",
            "| Norte|    RO|2020-02-08 00:00:00|         0|              0|          0|               0|\n",
            "| Norte|    RO|2020-02-09 00:00:00|         0|              0|          0|               0|\n",
            "| Norte|    RO|2020-02-10 00:00:00|         0|              0|          0|               0|\n",
            "| Norte|    RO|2020-02-11 00:00:00|         0|              0|          0|               0|\n",
            "| Norte|    RO|2020-02-12 00:00:00|         0|              0|          0|               0|\n",
            "| Norte|    RO|2020-02-13 00:00:00|         0|              0|          0|               0|\n",
            "| Norte|    RO|2020-02-14 00:00:00|         0|              0|          0|               0|\n",
            "| Norte|    RO|2020-02-15 00:00:00|         0|              0|          0|               0|\n",
            "| Norte|    RO|2020-02-16 00:00:00|         0|              0|          0|               0|\n",
            "| Norte|    RO|2020-02-17 00:00:00|         0|              0|          0|               0|\n",
            "| Norte|    RO|2020-02-18 00:00:00|         0|              0|          0|               0|\n",
            "+------+------+-------------------+----------+---------------+-----------+----------------+\n",
            "only showing top 20 rows\n",
            "\n"
          ]
        }
      ]
    },
    {
      "cell_type": "code",
      "source": [
        "df2.dtypes"
      ],
      "metadata": {
        "colab": {
          "base_uri": "https://localhost:8080/"
        },
        "id": "_WeIj63PXjK4",
        "outputId": "1807b84e-33c7-4846-fb04-1e461ea44803"
      },
      "execution_count": 18,
      "outputs": [
        {
          "output_type": "execute_result",
          "data": {
            "text/plain": [
              "[('regiao', 'string'),\n",
              " ('estado', 'string'),\n",
              " ('data', 'timestamp'),\n",
              " ('casosNovos', 'int'),\n",
              " ('casosAcumulados', 'int'),\n",
              " ('obitosNovos', 'int'),\n",
              " ('obitosAcumulados', 'int')]"
            ]
          },
          "metadata": {},
          "execution_count": 18
        }
      ]
    },
    {
      "cell_type": "code",
      "source": [
        "df2.printSchema()"
      ],
      "metadata": {
        "colab": {
          "base_uri": "https://localhost:8080/"
        },
        "id": "_Ee7nRclXsGR",
        "outputId": "a56f4d70-1a27-4f59-809e-e346a27f1858"
      },
      "execution_count": 19,
      "outputs": [
        {
          "output_type": "stream",
          "name": "stdout",
          "text": [
            "root\n",
            " |-- regiao: string (nullable = true)\n",
            " |-- estado: string (nullable = true)\n",
            " |-- data: timestamp (nullable = true)\n",
            " |-- casosNovos: integer (nullable = true)\n",
            " |-- casosAcumulados: integer (nullable = true)\n",
            " |-- obitosNovos: integer (nullable = true)\n",
            " |-- obitosAcumulados: integer (nullable = true)\n",
            "\n"
          ]
        }
      ]
    },
    {
      "cell_type": "code",
      "source": [
        "#QUANTIDADE DE REGISTROS NO DATAFRAME\n",
        "df2.count()"
      ],
      "metadata": {
        "colab": {
          "base_uri": "https://localhost:8080/"
        },
        "id": "QzOIfXpecPFO",
        "outputId": "f62f1a65-d5ca-4744-9943-12f04c1d2641"
      },
      "execution_count": 20,
      "outputs": [
        {
          "output_type": "execute_result",
          "data": {
            "text/plain": [
              "2349"
            ]
          },
          "metadata": {},
          "execution_count": 20
        }
      ]
    },
    {
      "cell_type": "markdown",
      "source": [
        "#Backup do DF no PYSPARK"
      ],
      "metadata": {
        "id": "LHI_lvHAio_m"
      }
    },
    {
      "cell_type": "code",
      "source": [
        "#BACKUP DO DATAFRAME\n",
        "df_backup = df"
      ],
      "metadata": {
        "id": "skmzaWS1cRJQ"
      },
      "execution_count": 21,
      "outputs": []
    },
    {
      "cell_type": "code",
      "source": [
        "#DATAFRAME É IMUTÁVEL. PARA MODIFICAR UM DATAFRAME É NECESSÁRIO SOBRESCREVÊ-LO\n",
        "df = df."
      ],
      "metadata": {
        "id": "aasiylvAcT5e"
      },
      "execution_count": 22,
      "outputs": []
    },
    {
      "cell_type": "markdown",
      "source": [
        "#Aplicando filtros"
      ],
      "metadata": {
        "id": "BJs2BRZ0izLT"
      }
    },
    {
      "cell_type": "code",
      "source": [
        "#APLICANDO UM FILTRO PARA MOSTRAR APENAS COLUNAS ESPECÍFICAS\n",
        "df2.select('regiao', 'estado', 'casosAcumulados').show()"
      ],
      "metadata": {
        "colab": {
          "base_uri": "https://localhost:8080/"
        },
        "id": "oqiz4EC7cVyZ",
        "outputId": "4dfc557a-251e-44a6-d5d7-3349458f4839"
      },
      "execution_count": 23,
      "outputs": [
        {
          "output_type": "stream",
          "name": "stdout",
          "text": [
            "+------+------+---------------+\n",
            "|regiao|estado|casosAcumulados|\n",
            "+------+------+---------------+\n",
            "| Norte|    RO|              0|\n",
            "| Norte|    RO|              0|\n",
            "| Norte|    RO|              0|\n",
            "| Norte|    RO|              0|\n",
            "| Norte|    RO|              0|\n",
            "| Norte|    RO|              0|\n",
            "| Norte|    RO|              0|\n",
            "| Norte|    RO|              0|\n",
            "| Norte|    RO|              0|\n",
            "| Norte|    RO|              0|\n",
            "| Norte|    RO|              0|\n",
            "| Norte|    RO|              0|\n",
            "| Norte|    RO|              0|\n",
            "| Norte|    RO|              0|\n",
            "| Norte|    RO|              0|\n",
            "| Norte|    RO|              0|\n",
            "| Norte|    RO|              0|\n",
            "| Norte|    RO|              0|\n",
            "| Norte|    RO|              0|\n",
            "| Norte|    RO|              0|\n",
            "+------+------+---------------+\n",
            "only showing top 20 rows\n",
            "\n"
          ]
        }
      ]
    },
    {
      "cell_type": "code",
      "source": [
        "#APLICANDO UM FILTRO PARA MOSTRAR APENAS COLUNAS ESPECÍFICAS COM FUNCTIONS\n",
        "df2.select(F.col('regiao'), F.col('estado'), F.col('casosAcumulados')).show()"
      ],
      "metadata": {
        "colab": {
          "base_uri": "https://localhost:8080/"
        },
        "id": "ny2UYsETcusF",
        "outputId": "c565415d-d2e2-4d20-833b-c26e8062b8b8"
      },
      "execution_count": 25,
      "outputs": [
        {
          "output_type": "stream",
          "name": "stdout",
          "text": [
            "+------+------+---------------+\n",
            "|regiao|estado|casosAcumulados|\n",
            "+------+------+---------------+\n",
            "| Norte|    RO|              0|\n",
            "| Norte|    RO|              0|\n",
            "| Norte|    RO|              0|\n",
            "| Norte|    RO|              0|\n",
            "| Norte|    RO|              0|\n",
            "| Norte|    RO|              0|\n",
            "| Norte|    RO|              0|\n",
            "| Norte|    RO|              0|\n",
            "| Norte|    RO|              0|\n",
            "| Norte|    RO|              0|\n",
            "| Norte|    RO|              0|\n",
            "| Norte|    RO|              0|\n",
            "| Norte|    RO|              0|\n",
            "| Norte|    RO|              0|\n",
            "| Norte|    RO|              0|\n",
            "| Norte|    RO|              0|\n",
            "| Norte|    RO|              0|\n",
            "| Norte|    RO|              0|\n",
            "| Norte|    RO|              0|\n",
            "| Norte|    RO|              0|\n",
            "+------+------+---------------+\n",
            "only showing top 20 rows\n",
            "\n"
          ]
        }
      ]
    }
  ]
}
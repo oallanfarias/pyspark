{
  "nbformat": 4,
  "nbformat_minor": 0,
  "metadata": {
    "colab": {
      "name": "aula1608_pyspark.ipynb",
      "provenance": [],
      "collapsed_sections": [],
      "mount_file_id": "1tkz1W6yFjIGN2j3o_Z7BZW4488ORy7Co",
      "authorship_tag": "ABX9TyMweWRMmpD2lepniCD6dRC/",
      "include_colab_link": true
    },
    "kernelspec": {
      "name": "python3",
      "display_name": "Python 3"
    },
    "language_info": {
      "name": "python"
    }
  },
  "cells": [
    {
      "cell_type": "markdown",
      "metadata": {
        "id": "view-in-github",
        "colab_type": "text"
      },
      "source": [
        "<a href=\"https://colab.research.google.com/github/oallanfarias/pyspark/blob/main/aula1608_pyspark.ipynb\" target=\"_parent\"><img src=\"https://colab.research.google.com/assets/colab-badge.svg\" alt=\"Open In Colab\"/></a>"
      ]
    },
    {
      "cell_type": "markdown",
      "source": [
        "# Instalação do PySpark"
      ],
      "metadata": {
        "id": "IEh8flLPFvoi"
      }
    },
    {
      "cell_type": "code",
      "execution_count": null,
      "metadata": {
        "colab": {
          "base_uri": "https://localhost:8080/"
        },
        "id": "y84ZqRf7FZBb",
        "outputId": "7ef6bd2c-a3cf-4f8c-b9f1-1fa69ed372b4"
      },
      "outputs": [
        {
          "output_type": "stream",
          "name": "stdout",
          "text": [
            "Looking in indexes: https://pypi.org/simple, https://us-python.pkg.dev/colab-wheels/public/simple/\n",
            "Requirement already satisfied: pyspark in /usr/local/lib/python3.7/dist-packages (3.3.0)\n",
            "Requirement already satisfied: py4j==0.10.9.5 in /usr/local/lib/python3.7/dist-packages (from pyspark) (0.10.9.5)\n"
          ]
        }
      ],
      "source": [
        "!pip install pyspark"
      ]
    },
    {
      "cell_type": "markdown",
      "source": [
        "#Importação do PySpark"
      ],
      "metadata": {
        "id": "mhhnuFHvhHF9"
      }
    },
    {
      "cell_type": "code",
      "source": [
        "#COMANDO PARA IMPORTAR O SPARKSESSION\n",
        "from pyspark.sql import SparkSession\n",
        "\n",
        "#UTILIZAR UMA FUNCTION\n",
        "import pyspark.sql.functions as F"
      ],
      "metadata": {
        "id": "A-bbNrg8Fubt"
      },
      "execution_count": null,
      "outputs": []
    },
    {
      "cell_type": "markdown",
      "source": [
        "#Configuração da SparkSession"
      ],
      "metadata": {
        "id": "bmJclujdhLpZ"
      }
    },
    {
      "cell_type": "code",
      "source": [
        "# spark = (SparkSession.builder    |  Constrói a sessão\n",
        "# .master('local[4]')              |  Define a máquina master. Parênteses indicam a máquina (pode ser local, seu pc ou cloud). [] Define o número de núcleos\n",
        "# .appName('intro-pyspark')        |  Define o nome da aplicação (a própria sessão)\n",
        "# .config('spark.ui.port', '4050') |  Define as porta da aplicação\n",
        "# .getOrCreate()                   |  Função que cria a session\n",
        "# )\n",
        "spark = (SparkSession.builder\n",
        "          .master('local[4]')\n",
        "          .appName('intro-pyspark')\n",
        "          .config('spark.ui.port', '4050')\n",
        "          .getOrCreate()\n",
        "        )"
      ],
      "metadata": {
        "id": "Yr6NNM8xIoM7"
      },
      "execution_count": null,
      "outputs": []
    },
    {
      "cell_type": "code",
      "source": [
        "spark"
      ],
      "metadata": {
        "colab": {
          "base_uri": "https://localhost:8080/",
          "height": 221
        },
        "id": "Iix4TmhHTjUR",
        "outputId": "056154e2-f7cf-4eac-ef9b-104299a5a22f"
      },
      "execution_count": null,
      "outputs": [
        {
          "output_type": "execute_result",
          "data": {
            "text/plain": [
              "<pyspark.sql.session.SparkSession at 0x7fb0edb47150>"
            ],
            "text/html": [
              "\n",
              "            <div>\n",
              "                <p><b>SparkSession - in-memory</b></p>\n",
              "                \n",
              "        <div>\n",
              "            <p><b>SparkContext</b></p>\n",
              "\n",
              "            <p><a href=\"http://47b0e86e9291:4050\">Spark UI</a></p>\n",
              "\n",
              "            <dl>\n",
              "              <dt>Version</dt>\n",
              "                <dd><code>v3.3.0</code></dd>\n",
              "              <dt>Master</dt>\n",
              "                <dd><code>local[4]</code></dd>\n",
              "              <dt>AppName</dt>\n",
              "                <dd><code>intro-pyspark</code></dd>\n",
              "            </dl>\n",
              "        </div>\n",
              "        \n",
              "            </div>\n",
              "        "
            ]
          },
          "metadata": {},
          "execution_count": 4
        }
      ]
    },
    {
      "cell_type": "markdown",
      "source": [
        "#DATAFRAMES"
      ],
      "metadata": {
        "id": "4nWnx1shhihC"
      }
    },
    {
      "cell_type": "code",
      "source": [
        "#FORMA DE SE TRABALHAR COM OS DADOS (DATAFRAME - Estrutura de Dados)\n",
        "#CRIAR UM SCHEMA E SUAS INSTÂNCIAS\n",
        "esquema = ['nome', 'cidade', 'estado', 'salario']\n",
        "\n",
        "dados = [\n",
        "    ('João da Silva', 'São Paulo', 'SP', 1100.00),\n",
        "    ('Maria dos Santos', 'São Paulo', 'SP', 2100.00),\n",
        "    ('Carlos Victor', 'Rio de Janeiro', 'RJ', 2100.00),\n",
        "    ('Pedro José', 'Maceió', 'AL', 3600.00)\n",
        "]\n",
        "\n",
        "df = spark.createDataFrame(data = dados, schema = esquema)"
      ],
      "metadata": {
        "id": "tZ5XRsMUTlsN"
      },
      "execution_count": null,
      "outputs": []
    },
    {
      "cell_type": "code",
      "source": [
        "#MOSTRA DO DATAFRAME GERAL (DF)\n",
        "df.show()"
      ],
      "metadata": {
        "id": "phL_vneWTnld",
        "colab": {
          "base_uri": "https://localhost:8080/"
        },
        "outputId": "aa188180-f1b0-46d0-cf12-9225e2c3fb54"
      },
      "execution_count": null,
      "outputs": [
        {
          "output_type": "stream",
          "name": "stdout",
          "text": [
            "+----------------+--------------+------+-------+\n",
            "|            nome|        cidade|estado|salario|\n",
            "+----------------+--------------+------+-------+\n",
            "|   João da Silva|     São Paulo|    SP| 1100.0|\n",
            "|Maria dos Santos|     São Paulo|    SP| 2100.0|\n",
            "|   Carlos Victor|Rio de Janeiro|    RJ| 2100.0|\n",
            "|      Pedro José|        Maceió|    AL| 3600.0|\n",
            "+----------------+--------------+------+-------+\n",
            "\n"
          ]
        }
      ]
    },
    {
      "cell_type": "code",
      "source": [
        "#MOSTRA O SCHEMA\n",
        "df.printSchema()"
      ],
      "metadata": {
        "id": "OoFOYzD8TpLl",
        "colab": {
          "base_uri": "https://localhost:8080/"
        },
        "outputId": "9c0f5ce7-d4fe-4056-fee2-3556fa958cb1"
      },
      "execution_count": null,
      "outputs": [
        {
          "output_type": "stream",
          "name": "stdout",
          "text": [
            "root\n",
            " |-- nome: string (nullable = true)\n",
            " |-- cidade: string (nullable = true)\n",
            " |-- estado: string (nullable = true)\n",
            " |-- salario: double (nullable = true)\n",
            "\n"
          ]
        }
      ]
    },
    {
      "cell_type": "markdown",
      "source": [
        "#Importação de dados CSV em PYSPARK"
      ],
      "metadata": {
        "id": "K80H9psih6Ga"
      }
    },
    {
      "cell_type": "code",
      "source": [
        "''' \n",
        "df2 = ( spark                               |\n",
        "        .read                               |   Lê o arquivo\n",
        "        .format('csv')                      |   O formato do arquivo. Poderiam ser outros formatos.\n",
        "        .option('header', 'false')          |   Escolher se queremos ou não o header. Se usar 'False' ele não mostra a primeira linha, o padrão fica C1. \n",
        "        .option('inferschema', 'false')     |   Infere o qual é o tipo de cada dado dentro do esquema. Também 'liga' ou 'desliga' com True ou False.\n",
        "        .option('delimiter', ';').          |   Indica qual o separador\n",
        "        .load('/caminho/arquivo_geral.csv') |   Inserir o caminho dos dados\n",
        "        )'''\n",
        "df2 = ( spark\n",
        "       .read\n",
        "       .format('csv')\n",
        "       .option('header', 'true')\n",
        "       .option('inferschema', 'true')\n",
        "       .option('delimiter', ';')\n",
        "       .load('/content/drive/MyDrive/Datasets/arquivo_geral.csv')\n",
        "    \n",
        "      )"
      ],
      "metadata": {
        "id": "m9u9KOqwV2oD"
      },
      "execution_count": null,
      "outputs": []
    },
    {
      "cell_type": "code",
      "source": [
        "df2.show(10)"
      ],
      "metadata": {
        "colab": {
          "base_uri": "https://localhost:8080/"
        },
        "id": "Q5Y0rNLEXhqQ",
        "outputId": "4611b267-4dc8-408b-de18-f2535ed42647"
      },
      "execution_count": null,
      "outputs": [
        {
          "output_type": "stream",
          "name": "stdout",
          "text": [
            "+------+------+-------------------+----------+---------------+-----------+----------------+\n",
            "|regiao|estado|               data|casosNovos|casosAcumulados|obitosNovos|obitosAcumulados|\n",
            "+------+------+-------------------+----------+---------------+-----------+----------------+\n",
            "| Norte|    RO|2020-01-30 00:00:00|         0|              0|          0|               0|\n",
            "| Norte|    RO|2020-01-31 00:00:00|         0|              0|          0|               0|\n",
            "| Norte|    RO|2020-02-01 00:00:00|         0|              0|          0|               0|\n",
            "| Norte|    RO|2020-02-02 00:00:00|         0|              0|          0|               0|\n",
            "| Norte|    RO|2020-02-03 00:00:00|         0|              0|          0|               0|\n",
            "| Norte|    RO|2020-02-04 00:00:00|         0|              0|          0|               0|\n",
            "| Norte|    RO|2020-02-05 00:00:00|         0|              0|          0|               0|\n",
            "| Norte|    RO|2020-02-06 00:00:00|         0|              0|          0|               0|\n",
            "| Norte|    RO|2020-02-07 00:00:00|         0|              0|          0|               0|\n",
            "| Norte|    RO|2020-02-08 00:00:00|         0|              0|          0|               0|\n",
            "+------+------+-------------------+----------+---------------+-----------+----------------+\n",
            "only showing top 10 rows\n",
            "\n"
          ]
        }
      ]
    },
    {
      "cell_type": "code",
      "source": [
        "df2.dtypes"
      ],
      "metadata": {
        "colab": {
          "base_uri": "https://localhost:8080/"
        },
        "id": "_WeIj63PXjK4",
        "outputId": "f5e4a4a4-041f-4eb6-f8ca-0baba2e638b9"
      },
      "execution_count": null,
      "outputs": [
        {
          "output_type": "execute_result",
          "data": {
            "text/plain": [
              "[('regiao', 'string'),\n",
              " ('estado', 'string'),\n",
              " ('data', 'timestamp'),\n",
              " ('casosNovos', 'int'),\n",
              " ('casosAcumulados', 'int'),\n",
              " ('obitosNovos', 'int'),\n",
              " ('obitosAcumulados', 'int')]"
            ]
          },
          "metadata": {},
          "execution_count": 10
        }
      ]
    },
    {
      "cell_type": "code",
      "source": [
        "df2.printSchema()"
      ],
      "metadata": {
        "colab": {
          "base_uri": "https://localhost:8080/"
        },
        "id": "_Ee7nRclXsGR",
        "outputId": "d3dd2a4e-f39d-49af-ea8e-098c0a1375bd"
      },
      "execution_count": null,
      "outputs": [
        {
          "output_type": "stream",
          "name": "stdout",
          "text": [
            "root\n",
            " |-- regiao: string (nullable = true)\n",
            " |-- estado: string (nullable = true)\n",
            " |-- data: timestamp (nullable = true)\n",
            " |-- casosNovos: integer (nullable = true)\n",
            " |-- casosAcumulados: integer (nullable = true)\n",
            " |-- obitosNovos: integer (nullable = true)\n",
            " |-- obitosAcumulados: integer (nullable = true)\n",
            "\n"
          ]
        }
      ]
    },
    {
      "cell_type": "code",
      "source": [
        "#QUANTIDADE DE REGISTROS NO DATAFRAME\n",
        "df2.count()"
      ],
      "metadata": {
        "colab": {
          "base_uri": "https://localhost:8080/"
        },
        "id": "QzOIfXpecPFO",
        "outputId": "7abd665f-e2bc-4ec5-d55d-d92a3eb53ef0"
      },
      "execution_count": null,
      "outputs": [
        {
          "output_type": "execute_result",
          "data": {
            "text/plain": [
              "2349"
            ]
          },
          "metadata": {},
          "execution_count": 12
        }
      ]
    },
    {
      "cell_type": "markdown",
      "source": [
        "#Backup do DF no PYSPARK"
      ],
      "metadata": {
        "id": "LHI_lvHAio_m"
      }
    },
    {
      "cell_type": "code",
      "source": [
        "#BACKUP DO DATAFRAME\n",
        "df_backup = df2"
      ],
      "metadata": {
        "id": "skmzaWS1cRJQ"
      },
      "execution_count": null,
      "outputs": []
    },
    {
      "cell_type": "code",
      "source": [
        "#DATAFRAME É IMUTÁVEL. PARA MODIFICAR UM DATAFRAME É NECESSÁRIO SOBRESCREVÊ-LO\n",
        "df = df"
      ],
      "metadata": {
        "id": "aasiylvAcT5e"
      },
      "execution_count": null,
      "outputs": []
    },
    {
      "cell_type": "markdown",
      "source": [
        "#Aplicando filtros"
      ],
      "metadata": {
        "id": "BJs2BRZ0izLT"
      }
    },
    {
      "cell_type": "code",
      "source": [
        "#APLICANDO UM FILTRO PARA MOSTRAR APENAS COLUNAS ESPECÍFICAS\n",
        "df2.select('regiao', 'estado', 'casosAcumulados').show()"
      ],
      "metadata": {
        "colab": {
          "base_uri": "https://localhost:8080/"
        },
        "id": "oqiz4EC7cVyZ",
        "outputId": "d2fa6b43-3e4f-4039-d139-0b495320f281"
      },
      "execution_count": null,
      "outputs": [
        {
          "output_type": "stream",
          "name": "stdout",
          "text": [
            "+------+------+---------------+\n",
            "|regiao|estado|casosAcumulados|\n",
            "+------+------+---------------+\n",
            "| Norte|    RO|              0|\n",
            "| Norte|    RO|              0|\n",
            "| Norte|    RO|              0|\n",
            "| Norte|    RO|              0|\n",
            "| Norte|    RO|              0|\n",
            "| Norte|    RO|              0|\n",
            "| Norte|    RO|              0|\n",
            "| Norte|    RO|              0|\n",
            "| Norte|    RO|              0|\n",
            "| Norte|    RO|              0|\n",
            "| Norte|    RO|              0|\n",
            "| Norte|    RO|              0|\n",
            "| Norte|    RO|              0|\n",
            "| Norte|    RO|              0|\n",
            "| Norte|    RO|              0|\n",
            "| Norte|    RO|              0|\n",
            "| Norte|    RO|              0|\n",
            "| Norte|    RO|              0|\n",
            "| Norte|    RO|              0|\n",
            "| Norte|    RO|              0|\n",
            "+------+------+---------------+\n",
            "only showing top 20 rows\n",
            "\n"
          ]
        }
      ]
    },
    {
      "cell_type": "code",
      "source": [
        "#APLICANDO UM FILTRO PARA MOSTRAR APENAS COLUNAS ESPECÍFICAS COM FUNCTIONS\n",
        "df2.select(F.col('regiao'), F.col('estado'), F.col('casosAcumulados')).show(10)"
      ],
      "metadata": {
        "colab": {
          "base_uri": "https://localhost:8080/"
        },
        "id": "ny2UYsETcusF",
        "outputId": "c3874a38-0f79-43bf-9a13-e93b6dbb05b1"
      },
      "execution_count": null,
      "outputs": [
        {
          "output_type": "stream",
          "name": "stdout",
          "text": [
            "+------+------+---------------+\n",
            "|regiao|estado|casosAcumulados|\n",
            "+------+------+---------------+\n",
            "| Norte|    RO|              0|\n",
            "| Norte|    RO|              0|\n",
            "| Norte|    RO|              0|\n",
            "| Norte|    RO|              0|\n",
            "| Norte|    RO|              0|\n",
            "| Norte|    RO|              0|\n",
            "| Norte|    RO|              0|\n",
            "| Norte|    RO|              0|\n",
            "| Norte|    RO|              0|\n",
            "| Norte|    RO|              0|\n",
            "+------+------+---------------+\n",
            "only showing top 10 rows\n",
            "\n"
          ]
        }
      ]
    },
    {
      "cell_type": "code",
      "source": [
        "#EXIBIR A REGIÃO, ESTADO E CASOS NOVOS APENAS DA REGIÃO NORTE (FILTER)\n",
        "df2.select(F.col('regiao'), F.col('estado'), F.col('casosNovos')).filter(F.col('regiao') == 'Norte').show(10)"
      ],
      "metadata": {
        "colab": {
          "base_uri": "https://localhost:8080/"
        },
        "id": "WQ6bKeOCuShR",
        "outputId": "b64d7936-770f-4897-fef0-68910c025bbc"
      },
      "execution_count": null,
      "outputs": [
        {
          "output_type": "stream",
          "name": "stdout",
          "text": [
            "+------+------+----------+\n",
            "|regiao|estado|casosNovos|\n",
            "+------+------+----------+\n",
            "| Norte|    RO|         0|\n",
            "| Norte|    RO|         0|\n",
            "| Norte|    RO|         0|\n",
            "| Norte|    RO|         0|\n",
            "| Norte|    RO|         0|\n",
            "| Norte|    RO|         0|\n",
            "| Norte|    RO|         0|\n",
            "| Norte|    RO|         0|\n",
            "| Norte|    RO|         0|\n",
            "| Norte|    RO|         0|\n",
            "+------+------+----------+\n",
            "only showing top 10 rows\n",
            "\n"
          ]
        }
      ]
    },
    {
      "cell_type": "code",
      "source": [
        "#SELECIONAR TODAS AS COLUNAS E FILTRAR POR REGIÃO\n",
        "df2.filter(df2.regiao == 'Sudeste').show(10)"
      ],
      "metadata": {
        "colab": {
          "base_uri": "https://localhost:8080/"
        },
        "id": "cTZkyUY3wyVQ",
        "outputId": "2c5d9c86-8d74-4b45-efe7-04e2be6ab544"
      },
      "execution_count": null,
      "outputs": [
        {
          "output_type": "stream",
          "name": "stdout",
          "text": [
            "+-------+------+-------------------+----------+---------------+-----------+----------------+\n",
            "| regiao|estado|               data|casosNovos|casosAcumulados|obitosNovos|obitosAcumulados|\n",
            "+-------+------+-------------------+----------+---------------+-----------+----------------+\n",
            "|Sudeste|    MG|2020-01-30 00:00:00|         0|              0|          0|               0|\n",
            "|Sudeste|    MG|2020-01-31 00:00:00|         0|              0|          0|               0|\n",
            "|Sudeste|    MG|2020-02-01 00:00:00|         0|              0|          0|               0|\n",
            "|Sudeste|    MG|2020-02-02 00:00:00|         0|              0|          0|               0|\n",
            "|Sudeste|    MG|2020-02-03 00:00:00|         0|              0|          0|               0|\n",
            "|Sudeste|    MG|2020-02-04 00:00:00|         0|              0|          0|               0|\n",
            "|Sudeste|    MG|2020-02-05 00:00:00|         0|              0|          0|               0|\n",
            "|Sudeste|    MG|2020-02-06 00:00:00|         0|              0|          0|               0|\n",
            "|Sudeste|    MG|2020-02-07 00:00:00|         0|              0|          0|               0|\n",
            "|Sudeste|    MG|2020-02-08 00:00:00|         0|              0|          0|               0|\n",
            "+-------+------+-------------------+----------+---------------+-----------+----------------+\n",
            "only showing top 10 rows\n",
            "\n"
          ]
        }
      ]
    },
    {
      "cell_type": "code",
      "source": [
        "#APLICANDO FILTROS ENCADEADOS\n",
        "df2.filter(F.col('regiao') == 'Norte').filter(F.col('casosNovos') > 0).show(10)"
      ],
      "metadata": {
        "colab": {
          "base_uri": "https://localhost:8080/"
        },
        "id": "P3dAkMOXx-eo",
        "outputId": "d8541d28-3ca3-42d5-84f1-afffcd541e34"
      },
      "execution_count": null,
      "outputs": [
        {
          "output_type": "stream",
          "name": "stdout",
          "text": [
            "+------+------+-------------------+----------+---------------+-----------+----------------+\n",
            "|regiao|estado|               data|casosNovos|casosAcumulados|obitosNovos|obitosAcumulados|\n",
            "+------+------+-------------------+----------+---------------+-----------+----------------+\n",
            "| Norte|    RO|2020-03-20 00:00:00|         1|              1|          0|               0|\n",
            "| Norte|    RO|2020-03-22 00:00:00|         2|              3|          0|               0|\n",
            "| Norte|    RO|2020-03-25 00:00:00|         2|              5|          0|               0|\n",
            "| Norte|    RO|2020-03-27 00:00:00|         1|              6|          0|               0|\n",
            "| Norte|    RO|2020-03-31 00:00:00|         2|              8|          1|               1|\n",
            "| Norte|    RO|2020-04-01 00:00:00|         1|              9|          0|               1|\n",
            "| Norte|    RO|2020-04-02 00:00:00|         1|             10|          0|               1|\n",
            "| Norte|    RO|2020-04-04 00:00:00|         1|             11|          0|               1|\n",
            "| Norte|    RO|2020-04-05 00:00:00|         1|             12|          0|               1|\n",
            "| Norte|    RO|2020-04-06 00:00:00|         2|             14|          0|               1|\n",
            "+------+------+-------------------+----------+---------------+-----------+----------------+\n",
            "only showing top 10 rows\n",
            "\n"
          ]
        }
      ]
    },
    {
      "cell_type": "code",
      "source": [
        "#OUTRA FORMA DE APLICAR FILTRO\n",
        "df2.filter(\"regiao = 'Sudeste'\").show(10)"
      ],
      "metadata": {
        "colab": {
          "base_uri": "https://localhost:8080/"
        },
        "id": "gmpNapmXyeJv",
        "outputId": "c3e6987f-3a7b-4b1e-d53b-73e4845fb5e2"
      },
      "execution_count": null,
      "outputs": [
        {
          "output_type": "stream",
          "name": "stdout",
          "text": [
            "+-------+------+-------------------+----------+---------------+-----------+----------------+\n",
            "| regiao|estado|               data|casosNovos|casosAcumulados|obitosNovos|obitosAcumulados|\n",
            "+-------+------+-------------------+----------+---------------+-----------+----------------+\n",
            "|Sudeste|    MG|2020-01-30 00:00:00|         0|              0|          0|               0|\n",
            "|Sudeste|    MG|2020-01-31 00:00:00|         0|              0|          0|               0|\n",
            "|Sudeste|    MG|2020-02-01 00:00:00|         0|              0|          0|               0|\n",
            "|Sudeste|    MG|2020-02-02 00:00:00|         0|              0|          0|               0|\n",
            "|Sudeste|    MG|2020-02-03 00:00:00|         0|              0|          0|               0|\n",
            "|Sudeste|    MG|2020-02-04 00:00:00|         0|              0|          0|               0|\n",
            "|Sudeste|    MG|2020-02-05 00:00:00|         0|              0|          0|               0|\n",
            "|Sudeste|    MG|2020-02-06 00:00:00|         0|              0|          0|               0|\n",
            "|Sudeste|    MG|2020-02-07 00:00:00|         0|              0|          0|               0|\n",
            "|Sudeste|    MG|2020-02-08 00:00:00|         0|              0|          0|               0|\n",
            "+-------+------+-------------------+----------+---------------+-----------+----------------+\n",
            "only showing top 10 rows\n",
            "\n"
          ]
        }
      ]
    },
    {
      "cell_type": "code",
      "source": [
        "#UTILIZANDO UMA VARIÁVEL PARA ARMAZENAR O FILTRO\n",
        "filtro = F.col('regiao') == 'Sul'\n",
        "df2.filter(filtro).show(10)"
      ],
      "metadata": {
        "colab": {
          "base_uri": "https://localhost:8080/"
        },
        "id": "6xB8CKmlyoMJ",
        "outputId": "189f60ca-1d76-4497-fd04-40faca30cb2b"
      },
      "execution_count": null,
      "outputs": [
        {
          "output_type": "stream",
          "name": "stdout",
          "text": [
            "+------+------+-------------------+----------+---------------+-----------+----------------+\n",
            "|regiao|estado|               data|casosNovos|casosAcumulados|obitosNovos|obitosAcumulados|\n",
            "+------+------+-------------------+----------+---------------+-----------+----------------+\n",
            "|   Sul|    PR|2020-01-30 00:00:00|         0|              0|          0|               0|\n",
            "|   Sul|    PR|2020-01-31 00:00:00|         0|              0|          0|               0|\n",
            "|   Sul|    PR|2020-02-01 00:00:00|         0|              0|          0|               0|\n",
            "|   Sul|    PR|2020-02-02 00:00:00|         0|              0|          0|               0|\n",
            "|   Sul|    PR|2020-02-03 00:00:00|         0|              0|          0|               0|\n",
            "|   Sul|    PR|2020-02-04 00:00:00|         0|              0|          0|               0|\n",
            "|   Sul|    PR|2020-02-05 00:00:00|         0|              0|          0|               0|\n",
            "|   Sul|    PR|2020-02-06 00:00:00|         0|              0|          0|               0|\n",
            "|   Sul|    PR|2020-02-07 00:00:00|         0|              0|          0|               0|\n",
            "|   Sul|    PR|2020-02-08 00:00:00|         0|              0|          0|               0|\n",
            "+------+------+-------------------+----------+---------------+-----------+----------------+\n",
            "only showing top 10 rows\n",
            "\n"
          ]
        }
      ]
    },
    {
      "cell_type": "code",
      "source": [
        "#EXEMPLO OCUPANDO MAIS DE UMA LINHA\n",
        "df5 = (df2.select(F.col('regiao'),\n",
        "                  F.col('estado'),\n",
        "                  F.col('casosNovos'),\n",
        "                  F.col('casosAcumulados'),\n",
        "                  F.col('obitosNovos'),\n",
        "                  F.col('obitosAcumulados'))\n",
        "                  .filter(F.col('regiao') == 'Norte') \n",
        "                  .filter(F.col('casosNovos') > 20)\n",
        ")"
      ],
      "metadata": {
        "id": "23hesi5SzPb5"
      },
      "execution_count": null,
      "outputs": []
    },
    {
      "cell_type": "code",
      "source": [
        "df5.show(10)"
      ],
      "metadata": {
        "colab": {
          "base_uri": "https://localhost:8080/"
        },
        "id": "7HkgzIgx2i9X",
        "outputId": "172589fa-ee2a-43e6-d602-4773012a38f3"
      },
      "execution_count": null,
      "outputs": [
        {
          "output_type": "stream",
          "name": "stdout",
          "text": [
            "+------+------+----------+---------------+-----------+----------------+\n",
            "|regiao|estado|casosNovos|casosAcumulados|obitosNovos|obitosAcumulados|\n",
            "+------+------+----------+---------------+-----------+----------------+\n",
            "| Norte|    RO|        22|             64|          0|               2|\n",
            "| Norte|    RO|        32|            160|          0|               4|\n",
            "| Norte|    RO|        39|            199|          0|               4|\n",
            "| Norte|    RO|        24|            223|          1|               5|\n",
            "| Norte|    RO|        27|            250|          0|               5|\n",
            "| Norte|    RO|        40|            290|          0|               5|\n",
            "| Norte|    RO|        38|            328|          2|               7|\n",
            "| Norte|    AC|        25|            135|          0|               5|\n",
            "| Norte|    AC|        21|            163|          1|               6|\n",
            "| Norte|    AC|        24|            258|          0|              11|\n",
            "+------+------+----------+---------------+-----------+----------------+\n",
            "only showing top 10 rows\n",
            "\n"
          ]
        }
      ]
    },
    {
      "cell_type": "code",
      "source": [
        "#COMANDO SELECT COM LISTA\n",
        "lista_colunas = ['regiao', 'estado', 'casosNovos', 'obitosNovos', 'casosAcumulados']\n",
        "\n",
        "#df2.select('regiao', 'estado', 'casosNovos', 'obitosNovos').show(10)\n",
        "df2.select(lista_colunas).show(10)"
      ],
      "metadata": {
        "colab": {
          "base_uri": "https://localhost:8080/"
        },
        "id": "mH-9p8IR0i_n",
        "outputId": "4cdac43e-8708-4313-af42-5141bc3af8d5"
      },
      "execution_count": null,
      "outputs": [
        {
          "output_type": "stream",
          "name": "stdout",
          "text": [
            "+------+------+----------+-----------+---------------+\n",
            "|regiao|estado|casosNovos|obitosNovos|casosAcumulados|\n",
            "+------+------+----------+-----------+---------------+\n",
            "| Norte|    RO|         0|          0|              0|\n",
            "| Norte|    RO|         0|          0|              0|\n",
            "| Norte|    RO|         0|          0|              0|\n",
            "| Norte|    RO|         0|          0|              0|\n",
            "| Norte|    RO|         0|          0|              0|\n",
            "| Norte|    RO|         0|          0|              0|\n",
            "| Norte|    RO|         0|          0|              0|\n",
            "| Norte|    RO|         0|          0|              0|\n",
            "| Norte|    RO|         0|          0|              0|\n",
            "| Norte|    RO|         0|          0|              0|\n",
            "+------+------+----------+-----------+---------------+\n",
            "only showing top 10 rows\n",
            "\n"
          ]
        }
      ]
    },
    {
      "cell_type": "code",
      "source": [
        "#SEGUNDA MANEIRA DE APLICAR O FILTER MAIS DE UMA VEZ\n",
        "#df2.filter()\n",
        "df2.filter(\"regiao = 'Norte' and estado = 'AM'\").show(10)\n",
        "df2.filter(\"regiao = 'Norte' or estado = 'AM'\").show(10)\n",
        "df2.filter(F.col('regiao') == 'Norte').filter(F.col('estado') == 'AM').show(10)"
      ],
      "metadata": {
        "colab": {
          "base_uri": "https://localhost:8080/"
        },
        "id": "2nHQMzd24ruj",
        "outputId": "5c91b5b0-f665-41de-cc66-165b0e1cdbf3"
      },
      "execution_count": null,
      "outputs": [
        {
          "output_type": "stream",
          "name": "stdout",
          "text": [
            "+------+------+-------------------+----------+---------------+-----------+----------------+\n",
            "|regiao|estado|               data|casosNovos|casosAcumulados|obitosNovos|obitosAcumulados|\n",
            "+------+------+-------------------+----------+---------------+-----------+----------------+\n",
            "| Norte|    AM|2020-01-30 00:00:00|         0|              0|          0|               0|\n",
            "| Norte|    AM|2020-01-31 00:00:00|         0|              0|          0|               0|\n",
            "| Norte|    AM|2020-02-01 00:00:00|         0|              0|          0|               0|\n",
            "| Norte|    AM|2020-02-02 00:00:00|         0|              0|          0|               0|\n",
            "| Norte|    AM|2020-02-03 00:00:00|         0|              0|          0|               0|\n",
            "| Norte|    AM|2020-02-04 00:00:00|         0|              0|          0|               0|\n",
            "| Norte|    AM|2020-02-05 00:00:00|         0|              0|          0|               0|\n",
            "| Norte|    AM|2020-02-06 00:00:00|         0|              0|          0|               0|\n",
            "| Norte|    AM|2020-02-07 00:00:00|         0|              0|          0|               0|\n",
            "| Norte|    AM|2020-02-08 00:00:00|         0|              0|          0|               0|\n",
            "+------+------+-------------------+----------+---------------+-----------+----------------+\n",
            "only showing top 10 rows\n",
            "\n",
            "+------+------+-------------------+----------+---------------+-----------+----------------+\n",
            "|regiao|estado|               data|casosNovos|casosAcumulados|obitosNovos|obitosAcumulados|\n",
            "+------+------+-------------------+----------+---------------+-----------+----------------+\n",
            "| Norte|    RO|2020-01-30 00:00:00|         0|              0|          0|               0|\n",
            "| Norte|    RO|2020-01-31 00:00:00|         0|              0|          0|               0|\n",
            "| Norte|    RO|2020-02-01 00:00:00|         0|              0|          0|               0|\n",
            "| Norte|    RO|2020-02-02 00:00:00|         0|              0|          0|               0|\n",
            "| Norte|    RO|2020-02-03 00:00:00|         0|              0|          0|               0|\n",
            "| Norte|    RO|2020-02-04 00:00:00|         0|              0|          0|               0|\n",
            "| Norte|    RO|2020-02-05 00:00:00|         0|              0|          0|               0|\n",
            "| Norte|    RO|2020-02-06 00:00:00|         0|              0|          0|               0|\n",
            "| Norte|    RO|2020-02-07 00:00:00|         0|              0|          0|               0|\n",
            "| Norte|    RO|2020-02-08 00:00:00|         0|              0|          0|               0|\n",
            "+------+------+-------------------+----------+---------------+-----------+----------------+\n",
            "only showing top 10 rows\n",
            "\n",
            "+------+------+-------------------+----------+---------------+-----------+----------------+\n",
            "|regiao|estado|               data|casosNovos|casosAcumulados|obitosNovos|obitosAcumulados|\n",
            "+------+------+-------------------+----------+---------------+-----------+----------------+\n",
            "| Norte|    AM|2020-01-30 00:00:00|         0|              0|          0|               0|\n",
            "| Norte|    AM|2020-01-31 00:00:00|         0|              0|          0|               0|\n",
            "| Norte|    AM|2020-02-01 00:00:00|         0|              0|          0|               0|\n",
            "| Norte|    AM|2020-02-02 00:00:00|         0|              0|          0|               0|\n",
            "| Norte|    AM|2020-02-03 00:00:00|         0|              0|          0|               0|\n",
            "| Norte|    AM|2020-02-04 00:00:00|         0|              0|          0|               0|\n",
            "| Norte|    AM|2020-02-05 00:00:00|         0|              0|          0|               0|\n",
            "| Norte|    AM|2020-02-06 00:00:00|         0|              0|          0|               0|\n",
            "| Norte|    AM|2020-02-07 00:00:00|         0|              0|          0|               0|\n",
            "| Norte|    AM|2020-02-08 00:00:00|         0|              0|          0|               0|\n",
            "+------+------+-------------------+----------+---------------+-----------+----------------+\n",
            "only showing top 10 rows\n",
            "\n"
          ]
        }
      ]
    },
    {
      "cell_type": "code",
      "source": [
        "df2 = df_backup"
      ],
      "metadata": {
        "id": "S6bq7t1J-sKH"
      },
      "execution_count": null,
      "outputs": []
    },
    {
      "cell_type": "code",
      "source": [
        "df2.show()"
      ],
      "metadata": {
        "colab": {
          "base_uri": "https://localhost:8080/"
        },
        "id": "2KTo--UvC9F9",
        "outputId": "497d7cc4-6ba4-4bdf-af81-e81e0a2ec500"
      },
      "execution_count": null,
      "outputs": [
        {
          "output_type": "stream",
          "name": "stdout",
          "text": [
            "+------+------+-------------------+----------+---------------+-----------+----------------+\n",
            "|regiao|estado|               data|casosNovos|casosAcumulados|obitosNovos|obitosAcumulados|\n",
            "+------+------+-------------------+----------+---------------+-----------+----------------+\n",
            "| Norte|    RO|2020-01-30 00:00:00|         0|              0|          0|               0|\n",
            "| Norte|    RO|2020-01-31 00:00:00|         0|              0|          0|               0|\n",
            "| Norte|    RO|2020-02-01 00:00:00|         0|              0|          0|               0|\n",
            "| Norte|    RO|2020-02-02 00:00:00|         0|              0|          0|               0|\n",
            "| Norte|    RO|2020-02-03 00:00:00|         0|              0|          0|               0|\n",
            "| Norte|    RO|2020-02-04 00:00:00|         0|              0|          0|               0|\n",
            "| Norte|    RO|2020-02-05 00:00:00|         0|              0|          0|               0|\n",
            "| Norte|    RO|2020-02-06 00:00:00|         0|              0|          0|               0|\n",
            "| Norte|    RO|2020-02-07 00:00:00|         0|              0|          0|               0|\n",
            "| Norte|    RO|2020-02-08 00:00:00|         0|              0|          0|               0|\n",
            "| Norte|    RO|2020-02-09 00:00:00|         0|              0|          0|               0|\n",
            "| Norte|    RO|2020-02-10 00:00:00|         0|              0|          0|               0|\n",
            "| Norte|    RO|2020-02-11 00:00:00|         0|              0|          0|               0|\n",
            "| Norte|    RO|2020-02-12 00:00:00|         0|              0|          0|               0|\n",
            "| Norte|    RO|2020-02-13 00:00:00|         0|              0|          0|               0|\n",
            "| Norte|    RO|2020-02-14 00:00:00|         0|              0|          0|               0|\n",
            "| Norte|    RO|2020-02-15 00:00:00|         0|              0|          0|               0|\n",
            "| Norte|    RO|2020-02-16 00:00:00|         0|              0|          0|               0|\n",
            "| Norte|    RO|2020-02-17 00:00:00|         0|              0|          0|               0|\n",
            "| Norte|    RO|2020-02-18 00:00:00|         0|              0|          0|               0|\n",
            "+------+------+-------------------+----------+---------------+-----------+----------------+\n",
            "only showing top 20 rows\n",
            "\n"
          ]
        }
      ]
    },
    {
      "cell_type": "code",
      "source": [
        "#TERCEIRA FORMA DE APLICAR O FILTER MAIS DE UMA VEZ COM AND\n",
        "df2.filter((F.col('regiao') == 'Norte') & (F.col('estado') == 'AM')).show(10)"
      ],
      "metadata": {
        "colab": {
          "base_uri": "https://localhost:8080/"
        },
        "id": "Xm4zbsNC-x62",
        "outputId": "9c17839e-3b2f-4188-b890-20dd2911819d"
      },
      "execution_count": null,
      "outputs": [
        {
          "output_type": "stream",
          "name": "stdout",
          "text": [
            "+------+------+-------------------+----------+---------------+-----------+----------------+\n",
            "|regiao|estado|               data|casosNovos|casosAcumulados|obitosNovos|obitosAcumulados|\n",
            "+------+------+-------------------+----------+---------------+-----------+----------------+\n",
            "| Norte|    AM|2020-01-30 00:00:00|         0|              0|          0|               0|\n",
            "| Norte|    AM|2020-01-31 00:00:00|         0|              0|          0|               0|\n",
            "| Norte|    AM|2020-02-01 00:00:00|         0|              0|          0|               0|\n",
            "| Norte|    AM|2020-02-02 00:00:00|         0|              0|          0|               0|\n",
            "| Norte|    AM|2020-02-03 00:00:00|         0|              0|          0|               0|\n",
            "| Norte|    AM|2020-02-04 00:00:00|         0|              0|          0|               0|\n",
            "| Norte|    AM|2020-02-05 00:00:00|         0|              0|          0|               0|\n",
            "| Norte|    AM|2020-02-06 00:00:00|         0|              0|          0|               0|\n",
            "| Norte|    AM|2020-02-07 00:00:00|         0|              0|          0|               0|\n",
            "| Norte|    AM|2020-02-08 00:00:00|         0|              0|          0|               0|\n",
            "+------+------+-------------------+----------+---------------+-----------+----------------+\n",
            "only showing top 10 rows\n",
            "\n"
          ]
        }
      ]
    },
    {
      "cell_type": "code",
      "source": [
        "#TERCEIRA FORMA DE APLICAR O FILTER MAIS DE UMA VEZ COM AND\n",
        "df2.filter((F.col('regiao') == 'Norte') | (F.col('estado') == 'AM')).show(10)"
      ],
      "metadata": {
        "colab": {
          "base_uri": "https://localhost:8080/"
        },
        "id": "3_S7ojwm_Adm",
        "outputId": "5a533949-31d9-4b27-bd29-ff68e141780f"
      },
      "execution_count": null,
      "outputs": [
        {
          "output_type": "stream",
          "name": "stdout",
          "text": [
            "+------+------+-------------------+----------+---------------+-----------+----------------+\n",
            "|regiao|estado|               data|casosNovos|casosAcumulados|obitosNovos|obitosAcumulados|\n",
            "+------+------+-------------------+----------+---------------+-----------+----------------+\n",
            "| Norte|    RO|2020-01-30 00:00:00|         0|              0|          0|               0|\n",
            "| Norte|    RO|2020-01-31 00:00:00|         0|              0|          0|               0|\n",
            "| Norte|    RO|2020-02-01 00:00:00|         0|              0|          0|               0|\n",
            "| Norte|    RO|2020-02-02 00:00:00|         0|              0|          0|               0|\n",
            "| Norte|    RO|2020-02-03 00:00:00|         0|              0|          0|               0|\n",
            "| Norte|    RO|2020-02-04 00:00:00|         0|              0|          0|               0|\n",
            "| Norte|    RO|2020-02-05 00:00:00|         0|              0|          0|               0|\n",
            "| Norte|    RO|2020-02-06 00:00:00|         0|              0|          0|               0|\n",
            "| Norte|    RO|2020-02-07 00:00:00|         0|              0|          0|               0|\n",
            "| Norte|    RO|2020-02-08 00:00:00|         0|              0|          0|               0|\n",
            "+------+------+-------------------+----------+---------------+-----------+----------------+\n",
            "only showing top 10 rows\n",
            "\n"
          ]
        }
      ]
    },
    {
      "cell_type": "code",
      "source": [
        "'''\n",
        "df2 = (df2.select(F.col('regiao'), F.col('casosAcumulados'))\n",
        "            .filter(F.col('regiao') == 'Norte')\n",
        "            .filter(F.col('estado') == 'AM'))\n",
        "            '''"
      ],
      "metadata": {
        "colab": {
          "base_uri": "https://localhost:8080/",
          "height": 35
        },
        "id": "duo_1xOJ55sL",
        "outputId": "fb7a9301-0d47-4fa5-c96a-47c0c1b88744"
      },
      "execution_count": null,
      "outputs": [
        {
          "output_type": "execute_result",
          "data": {
            "text/plain": [
              "\"\\ndf2 = (df2.select(F.col('regiao'), F.col('casosAcumulados'))\\n            .filter(F.col('regiao') == 'Norte')\\n            .filter(F.col('estado') == 'AM'))\\n            \""
            ],
            "application/vnd.google.colaboratory.intrinsic+json": {
              "type": "string"
            }
          },
          "metadata": {},
          "execution_count": 30
        }
      ]
    },
    {
      "cell_type": "code",
      "source": [
        "df2.show(10)"
      ],
      "metadata": {
        "colab": {
          "base_uri": "https://localhost:8080/"
        },
        "id": "lrMv09B-57AS",
        "outputId": "2b840bac-7918-47d0-f77e-a2fa226d08fb"
      },
      "execution_count": null,
      "outputs": [
        {
          "output_type": "stream",
          "name": "stdout",
          "text": [
            "+------+------+-------------------+----------+---------------+-----------+----------------+\n",
            "|regiao|estado|               data|casosNovos|casosAcumulados|obitosNovos|obitosAcumulados|\n",
            "+------+------+-------------------+----------+---------------+-----------+----------------+\n",
            "| Norte|    RO|2020-01-30 00:00:00|         0|              0|          0|               0|\n",
            "| Norte|    RO|2020-01-31 00:00:00|         0|              0|          0|               0|\n",
            "| Norte|    RO|2020-02-01 00:00:00|         0|              0|          0|               0|\n",
            "| Norte|    RO|2020-02-02 00:00:00|         0|              0|          0|               0|\n",
            "| Norte|    RO|2020-02-03 00:00:00|         0|              0|          0|               0|\n",
            "| Norte|    RO|2020-02-04 00:00:00|         0|              0|          0|               0|\n",
            "| Norte|    RO|2020-02-05 00:00:00|         0|              0|          0|               0|\n",
            "| Norte|    RO|2020-02-06 00:00:00|         0|              0|          0|               0|\n",
            "| Norte|    RO|2020-02-07 00:00:00|         0|              0|          0|               0|\n",
            "| Norte|    RO|2020-02-08 00:00:00|         0|              0|          0|               0|\n",
            "+------+------+-------------------+----------+---------------+-----------+----------------+\n",
            "only showing top 10 rows\n",
            "\n"
          ]
        }
      ]
    },
    {
      "cell_type": "code",
      "source": [
        "#Aplicando filtro utilizando a função where\n",
        "df2.where(F.col('regiao') == 'Sul').show(50)"
      ],
      "metadata": {
        "colab": {
          "base_uri": "https://localhost:8080/"
        },
        "id": "4dtQPJoq58ZZ",
        "outputId": "70f8b64d-a286-4790-a1b1-146e89c0c4a5"
      },
      "execution_count": null,
      "outputs": [
        {
          "output_type": "stream",
          "name": "stdout",
          "text": [
            "+------+------+-------------------+----------+---------------+-----------+----------------+\n",
            "|regiao|estado|               data|casosNovos|casosAcumulados|obitosNovos|obitosAcumulados|\n",
            "+------+------+-------------------+----------+---------------+-----------+----------------+\n",
            "|   Sul|    PR|2020-01-30 00:00:00|         0|              0|          0|               0|\n",
            "|   Sul|    PR|2020-01-31 00:00:00|         0|              0|          0|               0|\n",
            "|   Sul|    PR|2020-02-01 00:00:00|         0|              0|          0|               0|\n",
            "|   Sul|    PR|2020-02-02 00:00:00|         0|              0|          0|               0|\n",
            "|   Sul|    PR|2020-02-03 00:00:00|         0|              0|          0|               0|\n",
            "|   Sul|    PR|2020-02-04 00:00:00|         0|              0|          0|               0|\n",
            "|   Sul|    PR|2020-02-05 00:00:00|         0|              0|          0|               0|\n",
            "|   Sul|    PR|2020-02-06 00:00:00|         0|              0|          0|               0|\n",
            "|   Sul|    PR|2020-02-07 00:00:00|         0|              0|          0|               0|\n",
            "|   Sul|    PR|2020-02-08 00:00:00|         0|              0|          0|               0|\n",
            "|   Sul|    PR|2020-02-09 00:00:00|         0|              0|          0|               0|\n",
            "|   Sul|    PR|2020-02-10 00:00:00|         0|              0|          0|               0|\n",
            "|   Sul|    PR|2020-02-11 00:00:00|         0|              0|          0|               0|\n",
            "|   Sul|    PR|2020-02-12 00:00:00|         0|              0|          0|               0|\n",
            "|   Sul|    PR|2020-02-13 00:00:00|         0|              0|          0|               0|\n",
            "|   Sul|    PR|2020-02-14 00:00:00|         0|              0|          0|               0|\n",
            "|   Sul|    PR|2020-02-15 00:00:00|         0|              0|          0|               0|\n",
            "|   Sul|    PR|2020-02-16 00:00:00|         0|              0|          0|               0|\n",
            "|   Sul|    PR|2020-02-17 00:00:00|         0|              0|          0|               0|\n",
            "|   Sul|    PR|2020-02-18 00:00:00|         0|              0|          0|               0|\n",
            "|   Sul|    PR|2020-02-19 00:00:00|         0|              0|          0|               0|\n",
            "|   Sul|    PR|2020-02-20 00:00:00|         0|              0|          0|               0|\n",
            "|   Sul|    PR|2020-02-21 00:00:00|         0|              0|          0|               0|\n",
            "|   Sul|    PR|2020-02-22 00:00:00|         0|              0|          0|               0|\n",
            "|   Sul|    PR|2020-02-23 00:00:00|         0|              0|          0|               0|\n",
            "|   Sul|    PR|2020-02-24 00:00:00|         0|              0|          0|               0|\n",
            "|   Sul|    PR|2020-02-25 00:00:00|         0|              0|          0|               0|\n",
            "|   Sul|    PR|2020-02-26 00:00:00|         0|              0|          0|               0|\n",
            "|   Sul|    PR|2020-02-27 00:00:00|         0|              0|          0|               0|\n",
            "|   Sul|    PR|2020-02-28 00:00:00|         0|              0|          0|               0|\n",
            "|   Sul|    PR|2020-02-29 00:00:00|         0|              0|          0|               0|\n",
            "|   Sul|    PR|2020-03-01 00:00:00|         0|              0|          0|               0|\n",
            "|   Sul|    PR|2020-03-02 00:00:00|         0|              0|          0|               0|\n",
            "|   Sul|    PR|2020-03-03 00:00:00|         0|              0|          0|               0|\n",
            "|   Sul|    PR|2020-03-04 00:00:00|         0|              0|          0|               0|\n",
            "|   Sul|    PR|2020-03-05 00:00:00|         0|              0|          0|               0|\n",
            "|   Sul|    PR|2020-03-06 00:00:00|         0|              0|          0|               0|\n",
            "|   Sul|    PR|2020-03-07 00:00:00|         0|              0|          0|               0|\n",
            "|   Sul|    PR|2020-03-08 00:00:00|         0|              0|          0|               0|\n",
            "|   Sul|    PR|2020-03-09 00:00:00|         0|              0|          0|               0|\n",
            "|   Sul|    PR|2020-03-10 00:00:00|         0|              0|          0|               0|\n",
            "|   Sul|    PR|2020-03-11 00:00:00|         0|              0|          0|               0|\n",
            "|   Sul|    PR|2020-03-12 00:00:00|         6|              6|          0|               0|\n",
            "|   Sul|    PR|2020-03-13 00:00:00|         0|              6|          0|               0|\n",
            "|   Sul|    PR|2020-03-14 00:00:00|         0|              6|          0|               0|\n",
            "|   Sul|    PR|2020-03-15 00:00:00|         0|              6|          0|               0|\n",
            "|   Sul|    PR|2020-03-16 00:00:00|         0|              6|          0|               0|\n",
            "|   Sul|    PR|2020-03-17 00:00:00|         0|              6|          0|               0|\n",
            "|   Sul|    PR|2020-03-18 00:00:00|         7|             13|          0|               0|\n",
            "|   Sul|    PR|2020-03-19 00:00:00|        10|             23|          0|               0|\n",
            "+------+------+-------------------+----------+---------------+-----------+----------------+\n",
            "only showing top 50 rows\n",
            "\n"
          ]
        }
      ]
    },
    {
      "cell_type": "code",
      "source": [
        "#Aplicando filtro de acordo com letras ou palavras no início\n",
        "df2.filter(F.col('regiao').startswith('Su')).show()"
      ],
      "metadata": {
        "colab": {
          "base_uri": "https://localhost:8080/"
        },
        "id": "GuVUAKz6FOj8",
        "outputId": "a084931b-08b0-4d2e-8306-9699f132c911"
      },
      "execution_count": null,
      "outputs": [
        {
          "output_type": "stream",
          "name": "stdout",
          "text": [
            "+-------+------+-------------------+----------+---------------+-----------+----------------+\n",
            "| regiao|estado|               data|casosNovos|casosAcumulados|obitosNovos|obitosAcumulados|\n",
            "+-------+------+-------------------+----------+---------------+-----------+----------------+\n",
            "|Sudeste|    MG|2020-01-30 00:00:00|         0|              0|          0|               0|\n",
            "|Sudeste|    MG|2020-01-31 00:00:00|         0|              0|          0|               0|\n",
            "|Sudeste|    MG|2020-02-01 00:00:00|         0|              0|          0|               0|\n",
            "|Sudeste|    MG|2020-02-02 00:00:00|         0|              0|          0|               0|\n",
            "|Sudeste|    MG|2020-02-03 00:00:00|         0|              0|          0|               0|\n",
            "|Sudeste|    MG|2020-02-04 00:00:00|         0|              0|          0|               0|\n",
            "|Sudeste|    MG|2020-02-05 00:00:00|         0|              0|          0|               0|\n",
            "|Sudeste|    MG|2020-02-06 00:00:00|         0|              0|          0|               0|\n",
            "|Sudeste|    MG|2020-02-07 00:00:00|         0|              0|          0|               0|\n",
            "|Sudeste|    MG|2020-02-08 00:00:00|         0|              0|          0|               0|\n",
            "|Sudeste|    MG|2020-02-09 00:00:00|         0|              0|          0|               0|\n",
            "|Sudeste|    MG|2020-02-10 00:00:00|         0|              0|          0|               0|\n",
            "|Sudeste|    MG|2020-02-11 00:00:00|         0|              0|          0|               0|\n",
            "|Sudeste|    MG|2020-02-12 00:00:00|         0|              0|          0|               0|\n",
            "|Sudeste|    MG|2020-02-13 00:00:00|         0|              0|          0|               0|\n",
            "|Sudeste|    MG|2020-02-14 00:00:00|         0|              0|          0|               0|\n",
            "|Sudeste|    MG|2020-02-15 00:00:00|         0|              0|          0|               0|\n",
            "|Sudeste|    MG|2020-02-16 00:00:00|         0|              0|          0|               0|\n",
            "|Sudeste|    MG|2020-02-17 00:00:00|         0|              0|          0|               0|\n",
            "|Sudeste|    MG|2020-02-18 00:00:00|         0|              0|          0|               0|\n",
            "+-------+------+-------------------+----------+---------------+-----------+----------------+\n",
            "only showing top 20 rows\n",
            "\n"
          ]
        }
      ]
    },
    {
      "cell_type": "code",
      "source": [
        "#Aplicando filtro de acordo com letras ou palavras no final\n",
        "df2.filter(F.col('regiao').endswith('este')).show()"
      ],
      "metadata": {
        "colab": {
          "base_uri": "https://localhost:8080/"
        },
        "id": "QuT41vwdFQFy",
        "outputId": "7b57d51e-f43d-4b2b-990f-77894e69b65a"
      },
      "execution_count": null,
      "outputs": [
        {
          "output_type": "stream",
          "name": "stdout",
          "text": [
            "+--------+------+-------------------+----------+---------------+-----------+----------------+\n",
            "|  regiao|estado|               data|casosNovos|casosAcumulados|obitosNovos|obitosAcumulados|\n",
            "+--------+------+-------------------+----------+---------------+-----------+----------------+\n",
            "|Nordeste|    MA|2020-01-30 00:00:00|         0|              0|          0|               0|\n",
            "|Nordeste|    MA|2020-01-31 00:00:00|         0|              0|          0|               0|\n",
            "|Nordeste|    MA|2020-02-01 00:00:00|         0|              0|          0|               0|\n",
            "|Nordeste|    MA|2020-02-02 00:00:00|         0|              0|          0|               0|\n",
            "|Nordeste|    MA|2020-02-03 00:00:00|         0|              0|          0|               0|\n",
            "|Nordeste|    MA|2020-02-04 00:00:00|         0|              0|          0|               0|\n",
            "|Nordeste|    MA|2020-02-05 00:00:00|         0|              0|          0|               0|\n",
            "|Nordeste|    MA|2020-02-06 00:00:00|         0|              0|          0|               0|\n",
            "|Nordeste|    MA|2020-02-07 00:00:00|         0|              0|          0|               0|\n",
            "|Nordeste|    MA|2020-02-08 00:00:00|         0|              0|          0|               0|\n",
            "|Nordeste|    MA|2020-02-09 00:00:00|         0|              0|          0|               0|\n",
            "|Nordeste|    MA|2020-02-10 00:00:00|         0|              0|          0|               0|\n",
            "|Nordeste|    MA|2020-02-11 00:00:00|         0|              0|          0|               0|\n",
            "|Nordeste|    MA|2020-02-12 00:00:00|         0|              0|          0|               0|\n",
            "|Nordeste|    MA|2020-02-13 00:00:00|         0|              0|          0|               0|\n",
            "|Nordeste|    MA|2020-02-14 00:00:00|         0|              0|          0|               0|\n",
            "|Nordeste|    MA|2020-02-15 00:00:00|         0|              0|          0|               0|\n",
            "|Nordeste|    MA|2020-02-16 00:00:00|         0|              0|          0|               0|\n",
            "|Nordeste|    MA|2020-02-17 00:00:00|         0|              0|          0|               0|\n",
            "|Nordeste|    MA|2020-02-18 00:00:00|         0|              0|          0|               0|\n",
            "+--------+------+-------------------+----------+---------------+-----------+----------------+\n",
            "only showing top 20 rows\n",
            "\n"
          ]
        }
      ]
    },
    {
      "cell_type": "code",
      "source": [
        "#Aplicando filtro de acordo com letras ou palavras em qualquer parte\n",
        "df2.filter(F.col('regiao').contains('d')).show()"
      ],
      "metadata": {
        "colab": {
          "base_uri": "https://localhost:8080/"
        },
        "id": "tNBpBxAsFQnr",
        "outputId": "01bb5b04-54f1-4142-aaad-3e72ef67f231"
      },
      "execution_count": null,
      "outputs": [
        {
          "output_type": "stream",
          "name": "stdout",
          "text": [
            "+--------+------+-------------------+----------+---------------+-----------+----------------+\n",
            "|  regiao|estado|               data|casosNovos|casosAcumulados|obitosNovos|obitosAcumulados|\n",
            "+--------+------+-------------------+----------+---------------+-----------+----------------+\n",
            "|Nordeste|    MA|2020-01-30 00:00:00|         0|              0|          0|               0|\n",
            "|Nordeste|    MA|2020-01-31 00:00:00|         0|              0|          0|               0|\n",
            "|Nordeste|    MA|2020-02-01 00:00:00|         0|              0|          0|               0|\n",
            "|Nordeste|    MA|2020-02-02 00:00:00|         0|              0|          0|               0|\n",
            "|Nordeste|    MA|2020-02-03 00:00:00|         0|              0|          0|               0|\n",
            "|Nordeste|    MA|2020-02-04 00:00:00|         0|              0|          0|               0|\n",
            "|Nordeste|    MA|2020-02-05 00:00:00|         0|              0|          0|               0|\n",
            "|Nordeste|    MA|2020-02-06 00:00:00|         0|              0|          0|               0|\n",
            "|Nordeste|    MA|2020-02-07 00:00:00|         0|              0|          0|               0|\n",
            "|Nordeste|    MA|2020-02-08 00:00:00|         0|              0|          0|               0|\n",
            "|Nordeste|    MA|2020-02-09 00:00:00|         0|              0|          0|               0|\n",
            "|Nordeste|    MA|2020-02-10 00:00:00|         0|              0|          0|               0|\n",
            "|Nordeste|    MA|2020-02-11 00:00:00|         0|              0|          0|               0|\n",
            "|Nordeste|    MA|2020-02-12 00:00:00|         0|              0|          0|               0|\n",
            "|Nordeste|    MA|2020-02-13 00:00:00|         0|              0|          0|               0|\n",
            "|Nordeste|    MA|2020-02-14 00:00:00|         0|              0|          0|               0|\n",
            "|Nordeste|    MA|2020-02-15 00:00:00|         0|              0|          0|               0|\n",
            "|Nordeste|    MA|2020-02-16 00:00:00|         0|              0|          0|               0|\n",
            "|Nordeste|    MA|2020-02-17 00:00:00|         0|              0|          0|               0|\n",
            "|Nordeste|    MA|2020-02-18 00:00:00|         0|              0|          0|               0|\n",
            "+--------+------+-------------------+----------+---------------+-----------+----------------+\n",
            "only showing top 20 rows\n",
            "\n"
          ]
        }
      ]
    },
    {
      "cell_type": "code",
      "source": [
        "#Aplicando filtro de acordo com letras ou palavras com like\n",
        "df2.filter(\"regiao like 'S%'\").show(10)"
      ],
      "metadata": {
        "colab": {
          "base_uri": "https://localhost:8080/"
        },
        "id": "rkehCCB0FTJx",
        "outputId": "6e32dd8f-195c-4672-88ac-e5cc5d496bbc"
      },
      "execution_count": null,
      "outputs": [
        {
          "output_type": "stream",
          "name": "stdout",
          "text": [
            "+-------+------+-------------------+----------+---------------+-----------+----------------+\n",
            "| regiao|estado|               data|casosNovos|casosAcumulados|obitosNovos|obitosAcumulados|\n",
            "+-------+------+-------------------+----------+---------------+-----------+----------------+\n",
            "|Sudeste|    MG|2020-01-30 00:00:00|         0|              0|          0|               0|\n",
            "|Sudeste|    MG|2020-01-31 00:00:00|         0|              0|          0|               0|\n",
            "|Sudeste|    MG|2020-02-01 00:00:00|         0|              0|          0|               0|\n",
            "|Sudeste|    MG|2020-02-02 00:00:00|         0|              0|          0|               0|\n",
            "|Sudeste|    MG|2020-02-03 00:00:00|         0|              0|          0|               0|\n",
            "|Sudeste|    MG|2020-02-04 00:00:00|         0|              0|          0|               0|\n",
            "|Sudeste|    MG|2020-02-05 00:00:00|         0|              0|          0|               0|\n",
            "|Sudeste|    MG|2020-02-06 00:00:00|         0|              0|          0|               0|\n",
            "|Sudeste|    MG|2020-02-07 00:00:00|         0|              0|          0|               0|\n",
            "|Sudeste|    MG|2020-02-08 00:00:00|         0|              0|          0|               0|\n",
            "+-------+------+-------------------+----------+---------------+-----------+----------------+\n",
            "only showing top 10 rows\n",
            "\n"
          ]
        }
      ]
    },
    {
      "cell_type": "code",
      "source": [
        "#UTILIZANDO O IN\n",
        "df2.filter(\"regiao in ('Norte', 'Sul')\").show(10)"
      ],
      "metadata": {
        "colab": {
          "base_uri": "https://localhost:8080/"
        },
        "id": "UCuI2W-7FVc1",
        "outputId": "c1af3fd0-af0a-47a5-912e-880dea898c17"
      },
      "execution_count": null,
      "outputs": [
        {
          "output_type": "stream",
          "name": "stdout",
          "text": [
            "+------+------+-------------------+----------+---------------+-----------+----------------+\n",
            "|regiao|estado|               data|casosNovos|casosAcumulados|obitosNovos|obitosAcumulados|\n",
            "+------+------+-------------------+----------+---------------+-----------+----------------+\n",
            "| Norte|    RO|2020-01-30 00:00:00|         0|              0|          0|               0|\n",
            "| Norte|    RO|2020-01-31 00:00:00|         0|              0|          0|               0|\n",
            "| Norte|    RO|2020-02-01 00:00:00|         0|              0|          0|               0|\n",
            "| Norte|    RO|2020-02-02 00:00:00|         0|              0|          0|               0|\n",
            "| Norte|    RO|2020-02-03 00:00:00|         0|              0|          0|               0|\n",
            "| Norte|    RO|2020-02-04 00:00:00|         0|              0|          0|               0|\n",
            "| Norte|    RO|2020-02-05 00:00:00|         0|              0|          0|               0|\n",
            "| Norte|    RO|2020-02-06 00:00:00|         0|              0|          0|               0|\n",
            "| Norte|    RO|2020-02-07 00:00:00|         0|              0|          0|               0|\n",
            "| Norte|    RO|2020-02-08 00:00:00|         0|              0|          0|               0|\n",
            "+------+------+-------------------+----------+---------------+-----------+----------------+\n",
            "only showing top 10 rows\n",
            "\n"
          ]
        }
      ]
    },
    {
      "cell_type": "code",
      "source": [
        "#LIKE COMO UMA FUNÇÃO\n",
        "df2.filter(F.col('regiao').like('S%')).show()"
      ],
      "metadata": {
        "colab": {
          "base_uri": "https://localhost:8080/"
        },
        "id": "lxhDu_HEFYBz",
        "outputId": "d26bc9c5-4e8f-4e96-cd53-698e23c6b480"
      },
      "execution_count": null,
      "outputs": [
        {
          "output_type": "stream",
          "name": "stdout",
          "text": [
            "+-------+------+-------------------+----------+---------------+-----------+----------------+\n",
            "| regiao|estado|               data|casosNovos|casosAcumulados|obitosNovos|obitosAcumulados|\n",
            "+-------+------+-------------------+----------+---------------+-----------+----------------+\n",
            "|Sudeste|    MG|2020-01-30 00:00:00|         0|              0|          0|               0|\n",
            "|Sudeste|    MG|2020-01-31 00:00:00|         0|              0|          0|               0|\n",
            "|Sudeste|    MG|2020-02-01 00:00:00|         0|              0|          0|               0|\n",
            "|Sudeste|    MG|2020-02-02 00:00:00|         0|              0|          0|               0|\n",
            "|Sudeste|    MG|2020-02-03 00:00:00|         0|              0|          0|               0|\n",
            "|Sudeste|    MG|2020-02-04 00:00:00|         0|              0|          0|               0|\n",
            "|Sudeste|    MG|2020-02-05 00:00:00|         0|              0|          0|               0|\n",
            "|Sudeste|    MG|2020-02-06 00:00:00|         0|              0|          0|               0|\n",
            "|Sudeste|    MG|2020-02-07 00:00:00|         0|              0|          0|               0|\n",
            "|Sudeste|    MG|2020-02-08 00:00:00|         0|              0|          0|               0|\n",
            "|Sudeste|    MG|2020-02-09 00:00:00|         0|              0|          0|               0|\n",
            "|Sudeste|    MG|2020-02-10 00:00:00|         0|              0|          0|               0|\n",
            "|Sudeste|    MG|2020-02-11 00:00:00|         0|              0|          0|               0|\n",
            "|Sudeste|    MG|2020-02-12 00:00:00|         0|              0|          0|               0|\n",
            "|Sudeste|    MG|2020-02-13 00:00:00|         0|              0|          0|               0|\n",
            "|Sudeste|    MG|2020-02-14 00:00:00|         0|              0|          0|               0|\n",
            "|Sudeste|    MG|2020-02-15 00:00:00|         0|              0|          0|               0|\n",
            "|Sudeste|    MG|2020-02-16 00:00:00|         0|              0|          0|               0|\n",
            "|Sudeste|    MG|2020-02-17 00:00:00|         0|              0|          0|               0|\n",
            "|Sudeste|    MG|2020-02-18 00:00:00|         0|              0|          0|               0|\n",
            "+-------+------+-------------------+----------+---------------+-----------+----------------+\n",
            "only showing top 20 rows\n",
            "\n"
          ]
        }
      ]
    },
    {
      "cell_type": "code",
      "source": [
        "#UTILIZANDO O IN\n",
        "df2.filter(\"regiao in ('Norte', 'Sul')\").show(10)"
      ],
      "metadata": {
        "colab": {
          "base_uri": "https://localhost:8080/"
        },
        "id": "ohcmVscpSGQm",
        "outputId": "5ff6144f-6930-4da4-b80f-e3215ab9eba7"
      },
      "execution_count": null,
      "outputs": [
        {
          "output_type": "stream",
          "name": "stdout",
          "text": [
            "+------+------+-------------------+----------+---------------+-----------+----------------+\n",
            "|regiao|estado|               data|casosNovos|casosAcumulados|obitosNovos|obitosAcumulados|\n",
            "+------+------+-------------------+----------+---------------+-----------+----------------+\n",
            "| Norte|    RO|2020-01-30 00:00:00|         0|              0|          0|               0|\n",
            "| Norte|    RO|2020-01-31 00:00:00|         0|              0|          0|               0|\n",
            "| Norte|    RO|2020-02-01 00:00:00|         0|              0|          0|               0|\n",
            "| Norte|    RO|2020-02-02 00:00:00|         0|              0|          0|               0|\n",
            "| Norte|    RO|2020-02-03 00:00:00|         0|              0|          0|               0|\n",
            "| Norte|    RO|2020-02-04 00:00:00|         0|              0|          0|               0|\n",
            "| Norte|    RO|2020-02-05 00:00:00|         0|              0|          0|               0|\n",
            "| Norte|    RO|2020-02-06 00:00:00|         0|              0|          0|               0|\n",
            "| Norte|    RO|2020-02-07 00:00:00|         0|              0|          0|               0|\n",
            "| Norte|    RO|2020-02-08 00:00:00|         0|              0|          0|               0|\n",
            "+------+------+-------------------+----------+---------------+-----------+----------------+\n",
            "only showing top 10 rows\n",
            "\n"
          ]
        }
      ]
    },
    {
      "cell_type": "code",
      "source": [
        "#LIKE COMO UMA FUNÇÃO\n",
        "df2.filter(F.col('regiao').like('S%')).show(10)"
      ],
      "metadata": {
        "colab": {
          "base_uri": "https://localhost:8080/"
        },
        "id": "RgqlVFQMSJLq",
        "outputId": "c74ce763-97c0-4113-eef1-bb954488bad5"
      },
      "execution_count": null,
      "outputs": [
        {
          "output_type": "stream",
          "name": "stdout",
          "text": [
            "+-------+------+-------------------+----------+---------------+-----------+----------------+\n",
            "| regiao|estado|               data|casosNovos|casosAcumulados|obitosNovos|obitosAcumulados|\n",
            "+-------+------+-------------------+----------+---------------+-----------+----------------+\n",
            "|Sudeste|    MG|2020-01-30 00:00:00|         0|              0|          0|               0|\n",
            "|Sudeste|    MG|2020-01-31 00:00:00|         0|              0|          0|               0|\n",
            "|Sudeste|    MG|2020-02-01 00:00:00|         0|              0|          0|               0|\n",
            "|Sudeste|    MG|2020-02-02 00:00:00|         0|              0|          0|               0|\n",
            "|Sudeste|    MG|2020-02-03 00:00:00|         0|              0|          0|               0|\n",
            "|Sudeste|    MG|2020-02-04 00:00:00|         0|              0|          0|               0|\n",
            "|Sudeste|    MG|2020-02-05 00:00:00|         0|              0|          0|               0|\n",
            "|Sudeste|    MG|2020-02-06 00:00:00|         0|              0|          0|               0|\n",
            "|Sudeste|    MG|2020-02-07 00:00:00|         0|              0|          0|               0|\n",
            "|Sudeste|    MG|2020-02-08 00:00:00|         0|              0|          0|               0|\n",
            "+-------+------+-------------------+----------+---------------+-----------+----------------+\n",
            "only showing top 10 rows\n",
            "\n"
          ]
        }
      ]
    },
    {
      "cell_type": "code",
      "source": [
        "#CRIAÇÃO DE NOVAS COLUNAS\n",
        "df2.withColumn('casosSomados', F.lit('Um texto qualquer')).show(10)"
      ],
      "metadata": {
        "colab": {
          "base_uri": "https://localhost:8080/"
        },
        "id": "1sdJWgAMSLiz",
        "outputId": "3e9d1d90-94f5-42c4-dedc-ae76a1dd1925"
      },
      "execution_count": null,
      "outputs": [
        {
          "output_type": "stream",
          "name": "stdout",
          "text": [
            "+------+------+-------------------+----------+---------------+-----------+----------------+-----------------+\n",
            "|regiao|estado|               data|casosNovos|casosAcumulados|obitosNovos|obitosAcumulados|     casosSomados|\n",
            "+------+------+-------------------+----------+---------------+-----------+----------------+-----------------+\n",
            "| Norte|    RO|2020-01-30 00:00:00|         0|              0|          0|               0|Um texto qualquer|\n",
            "| Norte|    RO|2020-01-31 00:00:00|         0|              0|          0|               0|Um texto qualquer|\n",
            "| Norte|    RO|2020-02-01 00:00:00|         0|              0|          0|               0|Um texto qualquer|\n",
            "| Norte|    RO|2020-02-02 00:00:00|         0|              0|          0|               0|Um texto qualquer|\n",
            "| Norte|    RO|2020-02-03 00:00:00|         0|              0|          0|               0|Um texto qualquer|\n",
            "| Norte|    RO|2020-02-04 00:00:00|         0|              0|          0|               0|Um texto qualquer|\n",
            "| Norte|    RO|2020-02-05 00:00:00|         0|              0|          0|               0|Um texto qualquer|\n",
            "| Norte|    RO|2020-02-06 00:00:00|         0|              0|          0|               0|Um texto qualquer|\n",
            "| Norte|    RO|2020-02-07 00:00:00|         0|              0|          0|               0|Um texto qualquer|\n",
            "| Norte|    RO|2020-02-08 00:00:00|         0|              0|          0|               0|Um texto qualquer|\n",
            "+------+------+-------------------+----------+---------------+-----------+----------------+-----------------+\n",
            "only showing top 10 rows\n",
            "\n"
          ]
        }
      ]
    },
    {
      "cell_type": "code",
      "source": [
        "df2.withColumn('casosSomados', F.col('casosNovos') + F.col('casosAcumulados')).show(20)"
      ],
      "metadata": {
        "colab": {
          "base_uri": "https://localhost:8080/"
        },
        "id": "exbsrb0dSOeS",
        "outputId": "58e69051-49e5-4cbc-8ad2-f61af6bba199"
      },
      "execution_count": null,
      "outputs": [
        {
          "output_type": "stream",
          "name": "stdout",
          "text": [
            "+------+------+-------------------+----------+---------------+-----------+----------------+------------+\n",
            "|regiao|estado|               data|casosNovos|casosAcumulados|obitosNovos|obitosAcumulados|casosSomados|\n",
            "+------+------+-------------------+----------+---------------+-----------+----------------+------------+\n",
            "| Norte|    RO|2020-01-30 00:00:00|         0|              0|          0|               0|           0|\n",
            "| Norte|    RO|2020-01-31 00:00:00|         0|              0|          0|               0|           0|\n",
            "| Norte|    RO|2020-02-01 00:00:00|         0|              0|          0|               0|           0|\n",
            "| Norte|    RO|2020-02-02 00:00:00|         0|              0|          0|               0|           0|\n",
            "| Norte|    RO|2020-02-03 00:00:00|         0|              0|          0|               0|           0|\n",
            "| Norte|    RO|2020-02-04 00:00:00|         0|              0|          0|               0|           0|\n",
            "| Norte|    RO|2020-02-05 00:00:00|         0|              0|          0|               0|           0|\n",
            "| Norte|    RO|2020-02-06 00:00:00|         0|              0|          0|               0|           0|\n",
            "| Norte|    RO|2020-02-07 00:00:00|         0|              0|          0|               0|           0|\n",
            "| Norte|    RO|2020-02-08 00:00:00|         0|              0|          0|               0|           0|\n",
            "| Norte|    RO|2020-02-09 00:00:00|         0|              0|          0|               0|           0|\n",
            "| Norte|    RO|2020-02-10 00:00:00|         0|              0|          0|               0|           0|\n",
            "| Norte|    RO|2020-02-11 00:00:00|         0|              0|          0|               0|           0|\n",
            "| Norte|    RO|2020-02-12 00:00:00|         0|              0|          0|               0|           0|\n",
            "| Norte|    RO|2020-02-13 00:00:00|         0|              0|          0|               0|           0|\n",
            "| Norte|    RO|2020-02-14 00:00:00|         0|              0|          0|               0|           0|\n",
            "| Norte|    RO|2020-02-15 00:00:00|         0|              0|          0|               0|           0|\n",
            "| Norte|    RO|2020-02-16 00:00:00|         0|              0|          0|               0|           0|\n",
            "| Norte|    RO|2020-02-17 00:00:00|         0|              0|          0|               0|           0|\n",
            "| Norte|    RO|2020-02-18 00:00:00|         0|              0|          0|               0|           0|\n",
            "+------+------+-------------------+----------+---------------+-----------+----------------+------------+\n",
            "only showing top 20 rows\n",
            "\n"
          ]
        }
      ]
    },
    {
      "cell_type": "code",
      "source": [
        "#RENOMEANDO UMA COLUNA EXISTENTE\n",
        "df2.withColumnRenamed('regiao', 'Outro nome').show(10)"
      ],
      "metadata": {
        "colab": {
          "base_uri": "https://localhost:8080/"
        },
        "id": "pAiFXaAok4GJ",
        "outputId": "9cc9080f-f3ae-49ea-f0f0-c29ca58c3d9f"
      },
      "execution_count": null,
      "outputs": [
        {
          "output_type": "stream",
          "name": "stdout",
          "text": [
            "+----------+------+-------------------+----------+---------------+-----------+----------------+\n",
            "|Outro nome|estado|               data|casosNovos|casosAcumulados|obitosNovos|obitosAcumulados|\n",
            "+----------+------+-------------------+----------+---------------+-----------+----------------+\n",
            "|     Norte|    RO|2020-01-30 00:00:00|         0|              0|          0|               0|\n",
            "|     Norte|    RO|2020-01-31 00:00:00|         0|              0|          0|               0|\n",
            "|     Norte|    RO|2020-02-01 00:00:00|         0|              0|          0|               0|\n",
            "|     Norte|    RO|2020-02-02 00:00:00|         0|              0|          0|               0|\n",
            "|     Norte|    RO|2020-02-03 00:00:00|         0|              0|          0|               0|\n",
            "|     Norte|    RO|2020-02-04 00:00:00|         0|              0|          0|               0|\n",
            "|     Norte|    RO|2020-02-05 00:00:00|         0|              0|          0|               0|\n",
            "|     Norte|    RO|2020-02-06 00:00:00|         0|              0|          0|               0|\n",
            "|     Norte|    RO|2020-02-07 00:00:00|         0|              0|          0|               0|\n",
            "|     Norte|    RO|2020-02-08 00:00:00|         0|              0|          0|               0|\n",
            "+----------+------+-------------------+----------+---------------+-----------+----------------+\n",
            "only showing top 10 rows\n",
            "\n"
          ]
        }
      ]
    },
    {
      "cell_type": "code",
      "source": [
        "#FAZER UMA SELEÇÃO DE VALORES DISTINTOS\n",
        "df2.select('regiao', 'estado').distinct().show(10)"
      ],
      "metadata": {
        "colab": {
          "base_uri": "https://localhost:8080/"
        },
        "id": "UxlyBmIKk_c6",
        "outputId": "c12629d3-573f-45fe-848d-ebeaf42a2d19"
      },
      "execution_count": null,
      "outputs": [
        {
          "output_type": "stream",
          "name": "stdout",
          "text": [
            "+--------+------+\n",
            "|  regiao|estado|\n",
            "+--------+------+\n",
            "|   Norte|    TO|\n",
            "|   Norte|    AC|\n",
            "|   Norte|    PA|\n",
            "|Nordeste|    MA|\n",
            "|     Sul|    RS|\n",
            "| Sudeste|    SP|\n",
            "|Nordeste|    PI|\n",
            "|   Norte|    AP|\n",
            "| Sudeste|    MG|\n",
            "|     Sul|    PR|\n",
            "+--------+------+\n",
            "only showing top 10 rows\n",
            "\n"
          ]
        }
      ]
    },
    {
      "cell_type": "code",
      "source": [
        "#FAZER UMA SELEÇÂO DE VALORES DISTINTOS\n",
        "df2.dropDuplicates().show(10)"
      ],
      "metadata": {
        "colab": {
          "base_uri": "https://localhost:8080/"
        },
        "id": "GsyQ3xPKlwS6",
        "outputId": "5a0e94f2-2022-4f4d-d427-224ec9ae3464"
      },
      "execution_count": null,
      "outputs": [
        {
          "output_type": "stream",
          "name": "stdout",
          "text": [
            "+--------+------+-------------------+----------+---------------+-----------+----------------+\n",
            "|  regiao|estado|               data|casosNovos|casosAcumulados|obitosNovos|obitosAcumulados|\n",
            "+--------+------+-------------------+----------+---------------+-----------+----------------+\n",
            "|   Norte|    RO|2020-02-02 00:00:00|         0|              0|          0|               0|\n",
            "|   Norte|    RO|2020-02-17 00:00:00|         0|              0|          0|               0|\n",
            "|   Norte|    AM|2020-02-24 00:00:00|         0|              0|          0|               0|\n",
            "|   Norte|    AP|2020-04-10 00:00:00|        38|            166|          0|               2|\n",
            "|Nordeste|    MA|2020-02-20 00:00:00|         0|              0|          0|               0|\n",
            "|Nordeste|    PI|2020-03-03 00:00:00|         0|              0|          0|               0|\n",
            "|Nordeste|    AL|2020-01-30 00:00:00|         0|              0|          0|               0|\n",
            "|Nordeste|    AL|2020-02-25 00:00:00|         0|              0|          0|               0|\n",
            "| Sudeste|    SP|2020-03-10 00:00:00|         3|             19|          0|               0|\n",
            "|     Sul|    PR|2020-02-18 00:00:00|         0|              0|          0|               0|\n",
            "+--------+------+-------------------+----------+---------------+-----------+----------------+\n",
            "only showing top 10 rows\n",
            "\n"
          ]
        }
      ]
    },
    {
      "cell_type": "code",
      "source": [
        "#MOSTRANDO O DATAFRAME DE MANEIRA ASCENDENTE\n",
        "df2.sort(F.col('estado').asc()).show(10)"
      ],
      "metadata": {
        "colab": {
          "base_uri": "https://localhost:8080/"
        },
        "id": "0Mnbb3mBoI10",
        "outputId": "beefb42e-2a35-4c1f-ec74-8f906c7fe33e"
      },
      "execution_count": null,
      "outputs": [
        {
          "output_type": "stream",
          "name": "stdout",
          "text": [
            "+------+------+-------------------+----------+---------------+-----------+----------------+\n",
            "|regiao|estado|               data|casosNovos|casosAcumulados|obitosNovos|obitosAcumulados|\n",
            "+------+------+-------------------+----------+---------------+-----------+----------------+\n",
            "| Norte|    AC|2020-01-30 00:00:00|         0|              0|          0|               0|\n",
            "| Norte|    AC|2020-02-09 00:00:00|         0|              0|          0|               0|\n",
            "| Norte|    AC|2020-01-31 00:00:00|         0|              0|          0|               0|\n",
            "| Norte|    AC|2020-02-01 00:00:00|         0|              0|          0|               0|\n",
            "| Norte|    AC|2020-02-02 00:00:00|         0|              0|          0|               0|\n",
            "| Norte|    AC|2020-02-03 00:00:00|         0|              0|          0|               0|\n",
            "| Norte|    AC|2020-02-04 00:00:00|         0|              0|          0|               0|\n",
            "| Norte|    AC|2020-02-05 00:00:00|         0|              0|          0|               0|\n",
            "| Norte|    AC|2020-02-06 00:00:00|         0|              0|          0|               0|\n",
            "| Norte|    AC|2020-02-07 00:00:00|         0|              0|          0|               0|\n",
            "+------+------+-------------------+----------+---------------+-----------+----------------+\n",
            "only showing top 10 rows\n",
            "\n"
          ]
        }
      ]
    },
    {
      "cell_type": "code",
      "source": [
        "#MOSTRANDO O DATAFRAME DE MANEIRA DESCENDENTE\n",
        "df2.sort(F.col('estado').desc()).show(10)"
      ],
      "metadata": {
        "colab": {
          "base_uri": "https://localhost:8080/"
        },
        "id": "I6nAUU8ooc4_",
        "outputId": "4e28fc28-78f3-40b8-98fd-d02161dc96d2"
      },
      "execution_count": null,
      "outputs": [
        {
          "output_type": "stream",
          "name": "stdout",
          "text": [
            "+------+------+-------------------+----------+---------------+-----------+----------------+\n",
            "|regiao|estado|               data|casosNovos|casosAcumulados|obitosNovos|obitosAcumulados|\n",
            "+------+------+-------------------+----------+---------------+-----------+----------------+\n",
            "| Norte|    TO|2020-01-30 00:00:00|         0|              0|          0|               0|\n",
            "| Norte|    TO|2020-02-09 00:00:00|         0|              0|          0|               0|\n",
            "| Norte|    TO|2020-01-31 00:00:00|         0|              0|          0|               0|\n",
            "| Norte|    TO|2020-02-01 00:00:00|         0|              0|          0|               0|\n",
            "| Norte|    TO|2020-02-02 00:00:00|         0|              0|          0|               0|\n",
            "| Norte|    TO|2020-02-03 00:00:00|         0|              0|          0|               0|\n",
            "| Norte|    TO|2020-02-04 00:00:00|         0|              0|          0|               0|\n",
            "| Norte|    TO|2020-02-05 00:00:00|         0|              0|          0|               0|\n",
            "| Norte|    TO|2020-02-06 00:00:00|         0|              0|          0|               0|\n",
            "| Norte|    TO|2020-02-07 00:00:00|         0|              0|          0|               0|\n",
            "+------+------+-------------------+----------+---------------+-----------+----------------+\n",
            "only showing top 10 rows\n",
            "\n"
          ]
        }
      ]
    },
    {
      "cell_type": "code",
      "source": [
        "#MOSTRANDO O DATAFRAME ORDENADO POR VÁRIAS COLUNAS\n",
        "df2.sort(F.col('estado'), F.col('regiao'), F.col('casosAcumulados')).show(10)"
      ],
      "metadata": {
        "colab": {
          "base_uri": "https://localhost:8080/"
        },
        "id": "7BZxS0s9pzKO",
        "outputId": "06053912-5bdd-456e-b275-ce18402a049e"
      },
      "execution_count": null,
      "outputs": [
        {
          "output_type": "stream",
          "name": "stdout",
          "text": [
            "+------+------+-------------------+----------+---------------+-----------+----------------+\n",
            "|regiao|estado|               data|casosNovos|casosAcumulados|obitosNovos|obitosAcumulados|\n",
            "+------+------+-------------------+----------+---------------+-----------+----------------+\n",
            "| Norte|    AC|2020-01-30 00:00:00|         0|              0|          0|               0|\n",
            "| Norte|    AC|2020-02-09 00:00:00|         0|              0|          0|               0|\n",
            "| Norte|    AC|2020-01-31 00:00:00|         0|              0|          0|               0|\n",
            "| Norte|    AC|2020-02-01 00:00:00|         0|              0|          0|               0|\n",
            "| Norte|    AC|2020-02-02 00:00:00|         0|              0|          0|               0|\n",
            "| Norte|    AC|2020-02-03 00:00:00|         0|              0|          0|               0|\n",
            "| Norte|    AC|2020-02-04 00:00:00|         0|              0|          0|               0|\n",
            "| Norte|    AC|2020-02-05 00:00:00|         0|              0|          0|               0|\n",
            "| Norte|    AC|2020-02-06 00:00:00|         0|              0|          0|               0|\n",
            "| Norte|    AC|2020-02-07 00:00:00|         0|              0|          0|               0|\n",
            "+------+------+-------------------+----------+---------------+-----------+----------------+\n",
            "only showing top 10 rows\n",
            "\n"
          ]
        }
      ]
    },
    {
      "cell_type": "code",
      "source": [
        "#AGRUPAMENTO - GROUP BY - QUANTIDADE DE REGISTROS POR REGIÃO\n",
        "df2.groupBy('regiao').sum('casosNovos').show(10)"
      ],
      "metadata": {
        "colab": {
          "base_uri": "https://localhost:8080/"
        },
        "id": "U2Z24gXtqxWD",
        "outputId": "30e5f17a-1397-4fb3-9f76-cb9b64f66f20"
      },
      "execution_count": null,
      "outputs": [
        {
          "output_type": "stream",
          "name": "stdout",
          "text": [
            "+------------+---------------+\n",
            "|      regiao|sum(casosNovos)|\n",
            "+------------+---------------+\n",
            "|    Nordeste|          16293|\n",
            "|         Sul|           3445|\n",
            "|     Sudeste|          29908|\n",
            "|Centro-Oeste|           1983|\n",
            "|       Norte|           6880|\n",
            "+------------+---------------+\n",
            "\n"
          ]
        }
      ]
    },
    {
      "cell_type": "code",
      "source": [
        "#AGRUPAMENTO - SOMAR A QUANTIDADE DE CASOS NOVOS POR REGIÃO\n",
        "df2.groupBy('regiao').sum('casosNovos').show(10)"
      ],
      "metadata": {
        "colab": {
          "base_uri": "https://localhost:8080/"
        },
        "id": "hlvV7arly-56",
        "outputId": "53640eda-aab1-4ac9-ee78-048661ab0879"
      },
      "execution_count": null,
      "outputs": [
        {
          "output_type": "stream",
          "name": "stdout",
          "text": [
            "+------------+---------------+\n",
            "|      regiao|sum(casosNovos)|\n",
            "+------------+---------------+\n",
            "|    Nordeste|          16293|\n",
            "|         Sul|           3445|\n",
            "|     Sudeste|          29908|\n",
            "|Centro-Oeste|           1983|\n",
            "|       Norte|           6880|\n",
            "+------------+---------------+\n",
            "\n"
          ]
        }
      ]
    },
    {
      "cell_type": "code",
      "source": [
        "#ORDENAÇÃO UTILIZANDO ORDERBY\n",
        "df2.orderBy(F.col('regiao').asc(), F.col('estado')).show(10)"
      ],
      "metadata": {
        "colab": {
          "base_uri": "https://localhost:8080/"
        },
        "id": "2YV3FXKzzBUI",
        "outputId": "931aef68-8cc3-4b76-b401-687232187e4c"
      },
      "execution_count": null,
      "outputs": [
        {
          "output_type": "stream",
          "name": "stdout",
          "text": [
            "+------------+------+-------------------+----------+---------------+-----------+----------------+\n",
            "|      regiao|estado|               data|casosNovos|casosAcumulados|obitosNovos|obitosAcumulados|\n",
            "+------------+------+-------------------+----------+---------------+-----------+----------------+\n",
            "|Centro-Oeste|    DF|2020-01-30 00:00:00|         0|              0|          0|               0|\n",
            "|Centro-Oeste|    DF|2020-02-09 00:00:00|         0|              0|          0|               0|\n",
            "|Centro-Oeste|    DF|2020-01-31 00:00:00|         0|              0|          0|               0|\n",
            "|Centro-Oeste|    DF|2020-02-01 00:00:00|         0|              0|          0|               0|\n",
            "|Centro-Oeste|    DF|2020-02-02 00:00:00|         0|              0|          0|               0|\n",
            "|Centro-Oeste|    DF|2020-02-03 00:00:00|         0|              0|          0|               0|\n",
            "|Centro-Oeste|    DF|2020-02-04 00:00:00|         0|              0|          0|               0|\n",
            "|Centro-Oeste|    DF|2020-02-05 00:00:00|         0|              0|          0|               0|\n",
            "|Centro-Oeste|    DF|2020-02-06 00:00:00|         0|              0|          0|               0|\n",
            "|Centro-Oeste|    DF|2020-02-07 00:00:00|         0|              0|          0|               0|\n",
            "+------------+------+-------------------+----------+---------------+-----------+----------------+\n",
            "only showing top 10 rows\n",
            "\n"
          ]
        }
      ]
    },
    {
      "cell_type": "code",
      "source": [
        "#WHEN - OTHERWISE - Status (quando a qtd de casos novos > 0 - Tem Casos Novos. Caso contrário, sem casos Novos)\n",
        "df2.withColumn('Status', F.when(F.col('casosNovos') > 0 , F.lit('Tem casos Novos'))\n",
        "                .otherwise(F.lit(\"Sem casos Novos\"))).show(1000)"
      ],
      "metadata": {
        "colab": {
          "base_uri": "https://localhost:8080/"
        },
        "id": "zCE117QCzzvm",
        "outputId": "a7896654-ffac-4fab-98b9-c9fa3b5534d1"
      },
      "execution_count": null,
      "outputs": [
        {
          "output_type": "stream",
          "name": "stdout",
          "text": [
            "+--------+------+-------------------+----------+---------------+-----------+----------------+---------------+\n",
            "|  regiao|estado|               data|casosNovos|casosAcumulados|obitosNovos|obitosAcumulados|         Status|\n",
            "+--------+------+-------------------+----------+---------------+-----------+----------------+---------------+\n",
            "|   Norte|    RO|2020-01-30 00:00:00|         0|              0|          0|               0|Sem casos Novos|\n",
            "|   Norte|    RO|2020-01-31 00:00:00|         0|              0|          0|               0|Sem casos Novos|\n",
            "|   Norte|    RO|2020-02-01 00:00:00|         0|              0|          0|               0|Sem casos Novos|\n",
            "|   Norte|    RO|2020-02-02 00:00:00|         0|              0|          0|               0|Sem casos Novos|\n",
            "|   Norte|    RO|2020-02-03 00:00:00|         0|              0|          0|               0|Sem casos Novos|\n",
            "|   Norte|    RO|2020-02-04 00:00:00|         0|              0|          0|               0|Sem casos Novos|\n",
            "|   Norte|    RO|2020-02-05 00:00:00|         0|              0|          0|               0|Sem casos Novos|\n",
            "|   Norte|    RO|2020-02-06 00:00:00|         0|              0|          0|               0|Sem casos Novos|\n",
            "|   Norte|    RO|2020-02-07 00:00:00|         0|              0|          0|               0|Sem casos Novos|\n",
            "|   Norte|    RO|2020-02-08 00:00:00|         0|              0|          0|               0|Sem casos Novos|\n",
            "|   Norte|    RO|2020-02-09 00:00:00|         0|              0|          0|               0|Sem casos Novos|\n",
            "|   Norte|    RO|2020-02-10 00:00:00|         0|              0|          0|               0|Sem casos Novos|\n",
            "|   Norte|    RO|2020-02-11 00:00:00|         0|              0|          0|               0|Sem casos Novos|\n",
            "|   Norte|    RO|2020-02-12 00:00:00|         0|              0|          0|               0|Sem casos Novos|\n",
            "|   Norte|    RO|2020-02-13 00:00:00|         0|              0|          0|               0|Sem casos Novos|\n",
            "|   Norte|    RO|2020-02-14 00:00:00|         0|              0|          0|               0|Sem casos Novos|\n",
            "|   Norte|    RO|2020-02-15 00:00:00|         0|              0|          0|               0|Sem casos Novos|\n",
            "|   Norte|    RO|2020-02-16 00:00:00|         0|              0|          0|               0|Sem casos Novos|\n",
            "|   Norte|    RO|2020-02-17 00:00:00|         0|              0|          0|               0|Sem casos Novos|\n",
            "|   Norte|    RO|2020-02-18 00:00:00|         0|              0|          0|               0|Sem casos Novos|\n",
            "|   Norte|    RO|2020-02-19 00:00:00|         0|              0|          0|               0|Sem casos Novos|\n",
            "|   Norte|    RO|2020-02-20 00:00:00|         0|              0|          0|               0|Sem casos Novos|\n",
            "|   Norte|    RO|2020-02-21 00:00:00|         0|              0|          0|               0|Sem casos Novos|\n",
            "|   Norte|    RO|2020-02-22 00:00:00|         0|              0|          0|               0|Sem casos Novos|\n",
            "|   Norte|    RO|2020-02-23 00:00:00|         0|              0|          0|               0|Sem casos Novos|\n",
            "|   Norte|    RO|2020-02-24 00:00:00|         0|              0|          0|               0|Sem casos Novos|\n",
            "|   Norte|    RO|2020-02-25 00:00:00|         0|              0|          0|               0|Sem casos Novos|\n",
            "|   Norte|    RO|2020-02-26 00:00:00|         0|              0|          0|               0|Sem casos Novos|\n",
            "|   Norte|    RO|2020-02-27 00:00:00|         0|              0|          0|               0|Sem casos Novos|\n",
            "|   Norte|    RO|2020-02-28 00:00:00|         0|              0|          0|               0|Sem casos Novos|\n",
            "|   Norte|    RO|2020-02-29 00:00:00|         0|              0|          0|               0|Sem casos Novos|\n",
            "|   Norte|    RO|2020-03-01 00:00:00|         0|              0|          0|               0|Sem casos Novos|\n",
            "|   Norte|    RO|2020-03-02 00:00:00|         0|              0|          0|               0|Sem casos Novos|\n",
            "|   Norte|    RO|2020-03-03 00:00:00|         0|              0|          0|               0|Sem casos Novos|\n",
            "|   Norte|    RO|2020-03-04 00:00:00|         0|              0|          0|               0|Sem casos Novos|\n",
            "|   Norte|    RO|2020-03-05 00:00:00|         0|              0|          0|               0|Sem casos Novos|\n",
            "|   Norte|    RO|2020-03-06 00:00:00|         0|              0|          0|               0|Sem casos Novos|\n",
            "|   Norte|    RO|2020-03-07 00:00:00|         0|              0|          0|               0|Sem casos Novos|\n",
            "|   Norte|    RO|2020-03-08 00:00:00|         0|              0|          0|               0|Sem casos Novos|\n",
            "|   Norte|    RO|2020-03-09 00:00:00|         0|              0|          0|               0|Sem casos Novos|\n",
            "|   Norte|    RO|2020-03-10 00:00:00|         0|              0|          0|               0|Sem casos Novos|\n",
            "|   Norte|    RO|2020-03-11 00:00:00|         0|              0|          0|               0|Sem casos Novos|\n",
            "|   Norte|    RO|2020-03-12 00:00:00|         0|              0|          0|               0|Sem casos Novos|\n",
            "|   Norte|    RO|2020-03-13 00:00:00|         0|              0|          0|               0|Sem casos Novos|\n",
            "|   Norte|    RO|2020-03-14 00:00:00|         0|              0|          0|               0|Sem casos Novos|\n",
            "|   Norte|    RO|2020-03-15 00:00:00|         0|              0|          0|               0|Sem casos Novos|\n",
            "|   Norte|    RO|2020-03-16 00:00:00|         0|              0|          0|               0|Sem casos Novos|\n",
            "|   Norte|    RO|2020-03-17 00:00:00|         0|              0|          0|               0|Sem casos Novos|\n",
            "|   Norte|    RO|2020-03-18 00:00:00|         0|              0|          0|               0|Sem casos Novos|\n",
            "|   Norte|    RO|2020-03-19 00:00:00|         0|              0|          0|               0|Sem casos Novos|\n",
            "|   Norte|    RO|2020-03-20 00:00:00|         1|              1|          0|               0|Tem casos Novos|\n",
            "|   Norte|    RO|2020-03-21 00:00:00|         0|              1|          0|               0|Sem casos Novos|\n",
            "|   Norte|    RO|2020-03-22 00:00:00|         2|              3|          0|               0|Tem casos Novos|\n",
            "|   Norte|    RO|2020-03-23 00:00:00|         0|              3|          0|               0|Sem casos Novos|\n",
            "|   Norte|    RO|2020-03-24 00:00:00|         0|              3|          0|               0|Sem casos Novos|\n",
            "|   Norte|    RO|2020-03-25 00:00:00|         2|              5|          0|               0|Tem casos Novos|\n",
            "|   Norte|    RO|2020-03-26 00:00:00|         0|              5|          0|               0|Sem casos Novos|\n",
            "|   Norte|    RO|2020-03-27 00:00:00|         1|              6|          0|               0|Tem casos Novos|\n",
            "|   Norte|    RO|2020-03-28 00:00:00|         0|              6|          0|               0|Sem casos Novos|\n",
            "|   Norte|    RO|2020-03-29 00:00:00|         0|              6|          0|               0|Sem casos Novos|\n",
            "|   Norte|    RO|2020-03-30 00:00:00|         0|              6|          0|               0|Sem casos Novos|\n",
            "|   Norte|    RO|2020-03-31 00:00:00|         2|              8|          1|               1|Tem casos Novos|\n",
            "|   Norte|    RO|2020-04-01 00:00:00|         1|              9|          0|               1|Tem casos Novos|\n",
            "|   Norte|    RO|2020-04-02 00:00:00|         1|             10|          0|               1|Tem casos Novos|\n",
            "|   Norte|    RO|2020-04-03 00:00:00|         0|             10|          0|               1|Sem casos Novos|\n",
            "|   Norte|    RO|2020-04-04 00:00:00|         1|             11|          0|               1|Tem casos Novos|\n",
            "|   Norte|    RO|2020-04-05 00:00:00|         1|             12|          0|               1|Tem casos Novos|\n",
            "|   Norte|    RO|2020-04-06 00:00:00|         2|             14|          0|               1|Tem casos Novos|\n",
            "|   Norte|    RO|2020-04-07 00:00:00|         4|             18|          0|               1|Tem casos Novos|\n",
            "|   Norte|    RO|2020-04-08 00:00:00|         0|             18|          0|               1|Sem casos Novos|\n",
            "|   Norte|    RO|2020-04-09 00:00:00|        10|             28|          1|               2|Tem casos Novos|\n",
            "|   Norte|    RO|2020-04-10 00:00:00|         4|             32|          0|               2|Tem casos Novos|\n",
            "|   Norte|    RO|2020-04-11 00:00:00|         1|             33|          0|               2|Tem casos Novos|\n",
            "|   Norte|    RO|2020-04-12 00:00:00|         2|             35|          0|               2|Tem casos Novos|\n",
            "|   Norte|    RO|2020-04-13 00:00:00|         7|             42|          0|               2|Tem casos Novos|\n",
            "|   Norte|    RO|2020-04-14 00:00:00|        22|             64|          0|               2|Tem casos Novos|\n",
            "|   Norte|    RO|2020-04-15 00:00:00|         5|             69|          0|               2|Tem casos Novos|\n",
            "|   Norte|    RO|2020-04-16 00:00:00|         7|             76|          1|               3|Tem casos Novos|\n",
            "|   Norte|    RO|2020-04-17 00:00:00|        16|             92|          0|               3|Tem casos Novos|\n",
            "|   Norte|    RO|2020-04-18 00:00:00|        18|            110|          0|               3|Tem casos Novos|\n",
            "|   Norte|    RO|2020-04-19 00:00:00|        18|            128|          1|               4|Tem casos Novos|\n",
            "|   Norte|    RO|2020-04-20 00:00:00|        32|            160|          0|               4|Tem casos Novos|\n",
            "|   Norte|    RO|2020-04-21 00:00:00|        39|            199|          0|               4|Tem casos Novos|\n",
            "|   Norte|    RO|2020-04-22 00:00:00|        24|            223|          1|               5|Tem casos Novos|\n",
            "|   Norte|    RO|2020-04-23 00:00:00|        27|            250|          0|               5|Tem casos Novos|\n",
            "|   Norte|    RO|2020-04-24 00:00:00|        40|            290|          0|               5|Tem casos Novos|\n",
            "|   Norte|    RO|2020-04-25 00:00:00|        38|            328|          2|               7|Tem casos Novos|\n",
            "|   Norte|    AC|2020-01-30 00:00:00|         0|              0|          0|               0|Sem casos Novos|\n",
            "|   Norte|    AC|2020-01-31 00:00:00|         0|              0|          0|               0|Sem casos Novos|\n",
            "|   Norte|    AC|2020-02-01 00:00:00|         0|              0|          0|               0|Sem casos Novos|\n",
            "|   Norte|    AC|2020-02-02 00:00:00|         0|              0|          0|               0|Sem casos Novos|\n",
            "|   Norte|    AC|2020-02-03 00:00:00|         0|              0|          0|               0|Sem casos Novos|\n",
            "|   Norte|    AC|2020-02-04 00:00:00|         0|              0|          0|               0|Sem casos Novos|\n",
            "|   Norte|    AC|2020-02-05 00:00:00|         0|              0|          0|               0|Sem casos Novos|\n",
            "|   Norte|    AC|2020-02-06 00:00:00|         0|              0|          0|               0|Sem casos Novos|\n",
            "|   Norte|    AC|2020-02-07 00:00:00|         0|              0|          0|               0|Sem casos Novos|\n",
            "|   Norte|    AC|2020-02-08 00:00:00|         0|              0|          0|               0|Sem casos Novos|\n",
            "|   Norte|    AC|2020-02-09 00:00:00|         0|              0|          0|               0|Sem casos Novos|\n",
            "|   Norte|    AC|2020-02-10 00:00:00|         0|              0|          0|               0|Sem casos Novos|\n",
            "|   Norte|    AC|2020-02-11 00:00:00|         0|              0|          0|               0|Sem casos Novos|\n",
            "|   Norte|    AC|2020-02-12 00:00:00|         0|              0|          0|               0|Sem casos Novos|\n",
            "|   Norte|    AC|2020-02-13 00:00:00|         0|              0|          0|               0|Sem casos Novos|\n",
            "|   Norte|    AC|2020-02-14 00:00:00|         0|              0|          0|               0|Sem casos Novos|\n",
            "|   Norte|    AC|2020-02-15 00:00:00|         0|              0|          0|               0|Sem casos Novos|\n",
            "|   Norte|    AC|2020-02-16 00:00:00|         0|              0|          0|               0|Sem casos Novos|\n",
            "|   Norte|    AC|2020-02-17 00:00:00|         0|              0|          0|               0|Sem casos Novos|\n",
            "|   Norte|    AC|2020-02-18 00:00:00|         0|              0|          0|               0|Sem casos Novos|\n",
            "|   Norte|    AC|2020-02-19 00:00:00|         0|              0|          0|               0|Sem casos Novos|\n",
            "|   Norte|    AC|2020-02-20 00:00:00|         0|              0|          0|               0|Sem casos Novos|\n",
            "|   Norte|    AC|2020-02-21 00:00:00|         0|              0|          0|               0|Sem casos Novos|\n",
            "|   Norte|    AC|2020-02-22 00:00:00|         0|              0|          0|               0|Sem casos Novos|\n",
            "|   Norte|    AC|2020-02-23 00:00:00|         0|              0|          0|               0|Sem casos Novos|\n",
            "|   Norte|    AC|2020-02-24 00:00:00|         0|              0|          0|               0|Sem casos Novos|\n",
            "|   Norte|    AC|2020-02-25 00:00:00|         0|              0|          0|               0|Sem casos Novos|\n",
            "|   Norte|    AC|2020-02-26 00:00:00|         0|              0|          0|               0|Sem casos Novos|\n",
            "|   Norte|    AC|2020-02-27 00:00:00|         0|              0|          0|               0|Sem casos Novos|\n",
            "|   Norte|    AC|2020-02-28 00:00:00|         0|              0|          0|               0|Sem casos Novos|\n",
            "|   Norte|    AC|2020-02-29 00:00:00|         0|              0|          0|               0|Sem casos Novos|\n",
            "|   Norte|    AC|2020-03-01 00:00:00|         0|              0|          0|               0|Sem casos Novos|\n",
            "|   Norte|    AC|2020-03-02 00:00:00|         0|              0|          0|               0|Sem casos Novos|\n",
            "|   Norte|    AC|2020-03-03 00:00:00|         0|              0|          0|               0|Sem casos Novos|\n",
            "|   Norte|    AC|2020-03-04 00:00:00|         0|              0|          0|               0|Sem casos Novos|\n",
            "|   Norte|    AC|2020-03-05 00:00:00|         0|              0|          0|               0|Sem casos Novos|\n",
            "|   Norte|    AC|2020-03-06 00:00:00|         0|              0|          0|               0|Sem casos Novos|\n",
            "|   Norte|    AC|2020-03-07 00:00:00|         0|              0|          0|               0|Sem casos Novos|\n",
            "|   Norte|    AC|2020-03-08 00:00:00|         0|              0|          0|               0|Sem casos Novos|\n",
            "|   Norte|    AC|2020-03-09 00:00:00|         0|              0|          0|               0|Sem casos Novos|\n",
            "|   Norte|    AC|2020-03-10 00:00:00|         0|              0|          0|               0|Sem casos Novos|\n",
            "|   Norte|    AC|2020-03-11 00:00:00|         0|              0|          0|               0|Sem casos Novos|\n",
            "|   Norte|    AC|2020-03-12 00:00:00|         0|              0|          0|               0|Sem casos Novos|\n",
            "|   Norte|    AC|2020-03-13 00:00:00|         0|              0|          0|               0|Sem casos Novos|\n",
            "|   Norte|    AC|2020-03-14 00:00:00|         0|              0|          0|               0|Sem casos Novos|\n",
            "|   Norte|    AC|2020-03-15 00:00:00|         0|              0|          0|               0|Sem casos Novos|\n",
            "|   Norte|    AC|2020-03-16 00:00:00|         0|              0|          0|               0|Sem casos Novos|\n",
            "|   Norte|    AC|2020-03-17 00:00:00|         0|              0|          0|               0|Sem casos Novos|\n",
            "|   Norte|    AC|2020-03-18 00:00:00|         0|              0|          0|               0|Sem casos Novos|\n",
            "|   Norte|    AC|2020-03-19 00:00:00|         3|              3|          0|               0|Tem casos Novos|\n",
            "|   Norte|    AC|2020-03-20 00:00:00|         4|              7|          0|               0|Tem casos Novos|\n",
            "|   Norte|    AC|2020-03-21 00:00:00|         2|              9|          0|               0|Tem casos Novos|\n",
            "|   Norte|    AC|2020-03-22 00:00:00|         2|             11|          0|               0|Tem casos Novos|\n",
            "|   Norte|    AC|2020-03-23 00:00:00|         0|             11|          0|               0|Sem casos Novos|\n",
            "|   Norte|    AC|2020-03-24 00:00:00|         6|             17|          0|               0|Tem casos Novos|\n",
            "|   Norte|    AC|2020-03-25 00:00:00|         6|             23|          0|               0|Tem casos Novos|\n",
            "|   Norte|    AC|2020-03-26 00:00:00|         1|             24|          0|               0|Tem casos Novos|\n",
            "|   Norte|    AC|2020-03-27 00:00:00|         1|             25|          0|               0|Tem casos Novos|\n",
            "|   Norte|    AC|2020-03-28 00:00:00|         0|             25|          0|               0|Sem casos Novos|\n",
            "|   Norte|    AC|2020-03-29 00:00:00|         9|             34|          0|               0|Tem casos Novos|\n",
            "|   Norte|    AC|2020-03-30 00:00:00|         8|             42|          0|               0|Tem casos Novos|\n",
            "|   Norte|    AC|2020-03-31 00:00:00|         0|             42|          0|               0|Sem casos Novos|\n",
            "|   Norte|    AC|2020-04-01 00:00:00|         1|             43|          0|               0|Tem casos Novos|\n",
            "|   Norte|    AC|2020-04-02 00:00:00|         0|             43|          0|               0|Sem casos Novos|\n",
            "|   Norte|    AC|2020-04-03 00:00:00|         3|             46|          0|               0|Tem casos Novos|\n",
            "|   Norte|    AC|2020-04-04 00:00:00|         0|             46|          0|               0|Sem casos Novos|\n",
            "|   Norte|    AC|2020-04-05 00:00:00|         2|             48|          0|               0|Tem casos Novos|\n",
            "|   Norte|    AC|2020-04-06 00:00:00|         2|             50|          0|               0|Tem casos Novos|\n",
            "|   Norte|    AC|2020-04-07 00:00:00|         0|             50|          1|               1|Sem casos Novos|\n",
            "|   Norte|    AC|2020-04-08 00:00:00|         4|             54|          1|               2|Tem casos Novos|\n",
            "|   Norte|    AC|2020-04-09 00:00:00|         8|             62|          0|               2|Tem casos Novos|\n",
            "|   Norte|    AC|2020-04-10 00:00:00|         8|             70|          0|               2|Tem casos Novos|\n",
            "|   Norte|    AC|2020-04-11 00:00:00|         2|             72|          0|               2|Tem casos Novos|\n",
            "|   Norte|    AC|2020-04-12 00:00:00|         5|             77|          0|               2|Tem casos Novos|\n",
            "|   Norte|    AC|2020-04-13 00:00:00|        13|             90|          1|               3|Tem casos Novos|\n",
            "|   Norte|    AC|2020-04-14 00:00:00|         9|             99|          0|               3|Tem casos Novos|\n",
            "|   Norte|    AC|2020-04-15 00:00:00|         2|            101|          0|               3|Tem casos Novos|\n",
            "|   Norte|    AC|2020-04-16 00:00:00|         9|            110|          2|               5|Tem casos Novos|\n",
            "|   Norte|    AC|2020-04-17 00:00:00|        25|            135|          0|               5|Tem casos Novos|\n",
            "|   Norte|    AC|2020-04-18 00:00:00|         7|            142|          0|               5|Tem casos Novos|\n",
            "|   Norte|    AC|2020-04-19 00:00:00|        21|            163|          1|               6|Tem casos Novos|\n",
            "|   Norte|    AC|2020-04-20 00:00:00|        13|            176|          2|               8|Tem casos Novos|\n",
            "|   Norte|    AC|2020-04-21 00:00:00|        19|            195|          0|               8|Tem casos Novos|\n",
            "|   Norte|    AC|2020-04-22 00:00:00|        19|            214|          0|               8|Tem casos Novos|\n",
            "|   Norte|    AC|2020-04-23 00:00:00|        13|            227|          2|              10|Tem casos Novos|\n",
            "|   Norte|    AC|2020-04-24 00:00:00|         7|            234|          1|              11|Tem casos Novos|\n",
            "|   Norte|    AC|2020-04-25 00:00:00|        24|            258|          0|              11|Tem casos Novos|\n",
            "|   Norte|    AM|2020-01-30 00:00:00|         0|              0|          0|               0|Sem casos Novos|\n",
            "|   Norte|    AM|2020-01-31 00:00:00|         0|              0|          0|               0|Sem casos Novos|\n",
            "|   Norte|    AM|2020-02-01 00:00:00|         0|              0|          0|               0|Sem casos Novos|\n",
            "|   Norte|    AM|2020-02-02 00:00:00|         0|              0|          0|               0|Sem casos Novos|\n",
            "|   Norte|    AM|2020-02-03 00:00:00|         0|              0|          0|               0|Sem casos Novos|\n",
            "|   Norte|    AM|2020-02-04 00:00:00|         0|              0|          0|               0|Sem casos Novos|\n",
            "|   Norte|    AM|2020-02-05 00:00:00|         0|              0|          0|               0|Sem casos Novos|\n",
            "|   Norte|    AM|2020-02-06 00:00:00|         0|              0|          0|               0|Sem casos Novos|\n",
            "|   Norte|    AM|2020-02-07 00:00:00|         0|              0|          0|               0|Sem casos Novos|\n",
            "|   Norte|    AM|2020-02-08 00:00:00|         0|              0|          0|               0|Sem casos Novos|\n",
            "|   Norte|    AM|2020-02-09 00:00:00|         0|              0|          0|               0|Sem casos Novos|\n",
            "|   Norte|    AM|2020-02-10 00:00:00|         0|              0|          0|               0|Sem casos Novos|\n",
            "|   Norte|    AM|2020-02-11 00:00:00|         0|              0|          0|               0|Sem casos Novos|\n",
            "|   Norte|    AM|2020-02-12 00:00:00|         0|              0|          0|               0|Sem casos Novos|\n",
            "|   Norte|    AM|2020-02-13 00:00:00|         0|              0|          0|               0|Sem casos Novos|\n",
            "|   Norte|    AM|2020-02-14 00:00:00|         0|              0|          0|               0|Sem casos Novos|\n",
            "|   Norte|    AM|2020-02-15 00:00:00|         0|              0|          0|               0|Sem casos Novos|\n",
            "|   Norte|    AM|2020-02-16 00:00:00|         0|              0|          0|               0|Sem casos Novos|\n",
            "|   Norte|    AM|2020-02-17 00:00:00|         0|              0|          0|               0|Sem casos Novos|\n",
            "|   Norte|    AM|2020-02-18 00:00:00|         0|              0|          0|               0|Sem casos Novos|\n",
            "|   Norte|    AM|2020-02-19 00:00:00|         0|              0|          0|               0|Sem casos Novos|\n",
            "|   Norte|    AM|2020-02-20 00:00:00|         0|              0|          0|               0|Sem casos Novos|\n",
            "|   Norte|    AM|2020-02-21 00:00:00|         0|              0|          0|               0|Sem casos Novos|\n",
            "|   Norte|    AM|2020-02-22 00:00:00|         0|              0|          0|               0|Sem casos Novos|\n",
            "|   Norte|    AM|2020-02-23 00:00:00|         0|              0|          0|               0|Sem casos Novos|\n",
            "|   Norte|    AM|2020-02-24 00:00:00|         0|              0|          0|               0|Sem casos Novos|\n",
            "|   Norte|    AM|2020-02-25 00:00:00|         0|              0|          0|               0|Sem casos Novos|\n",
            "|   Norte|    AM|2020-02-26 00:00:00|         0|              0|          0|               0|Sem casos Novos|\n",
            "|   Norte|    AM|2020-02-27 00:00:00|         0|              0|          0|               0|Sem casos Novos|\n",
            "|   Norte|    AM|2020-02-28 00:00:00|         0|              0|          0|               0|Sem casos Novos|\n",
            "|   Norte|    AM|2020-02-29 00:00:00|         0|              0|          0|               0|Sem casos Novos|\n",
            "|   Norte|    AM|2020-03-01 00:00:00|         0|              0|          0|               0|Sem casos Novos|\n",
            "|   Norte|    AM|2020-03-02 00:00:00|         0|              0|          0|               0|Sem casos Novos|\n",
            "|   Norte|    AM|2020-03-03 00:00:00|         0|              0|          0|               0|Sem casos Novos|\n",
            "|   Norte|    AM|2020-03-04 00:00:00|         0|              0|          0|               0|Sem casos Novos|\n",
            "|   Norte|    AM|2020-03-05 00:00:00|         0|              0|          0|               0|Sem casos Novos|\n",
            "|   Norte|    AM|2020-03-06 00:00:00|         0|              0|          0|               0|Sem casos Novos|\n",
            "|   Norte|    AM|2020-03-07 00:00:00|         0|              0|          0|               0|Sem casos Novos|\n",
            "|   Norte|    AM|2020-03-08 00:00:00|         0|              0|          0|               0|Sem casos Novos|\n",
            "|   Norte|    AM|2020-03-09 00:00:00|         0|              0|          0|               0|Sem casos Novos|\n",
            "|   Norte|    AM|2020-03-10 00:00:00|         0|              0|          0|               0|Sem casos Novos|\n",
            "|   Norte|    AM|2020-03-11 00:00:00|         0|              0|          0|               0|Sem casos Novos|\n",
            "|   Norte|    AM|2020-03-12 00:00:00|         0|              0|          0|               0|Sem casos Novos|\n",
            "|   Norte|    AM|2020-03-13 00:00:00|         0|              0|          0|               0|Sem casos Novos|\n",
            "|   Norte|    AM|2020-03-14 00:00:00|         0|              0|          0|               0|Sem casos Novos|\n",
            "|   Norte|    AM|2020-03-15 00:00:00|         1|              1|          0|               0|Tem casos Novos|\n",
            "|   Norte|    AM|2020-03-16 00:00:00|         0|              1|          0|               0|Sem casos Novos|\n",
            "|   Norte|    AM|2020-03-17 00:00:00|         0|              1|          0|               0|Sem casos Novos|\n",
            "|   Norte|    AM|2020-03-18 00:00:00|         0|              1|          0|               0|Sem casos Novos|\n",
            "|   Norte|    AM|2020-03-19 00:00:00|         2|              3|          0|               0|Tem casos Novos|\n",
            "|   Norte|    AM|2020-03-20 00:00:00|         0|              3|          0|               0|Sem casos Novos|\n",
            "|   Norte|    AM|2020-03-21 00:00:00|         8|             11|          0|               0|Tem casos Novos|\n",
            "|   Norte|    AM|2020-03-22 00:00:00|        15|             26|          0|               0|Tem casos Novos|\n",
            "|   Norte|    AM|2020-03-23 00:00:00|         6|             32|          0|               0|Tem casos Novos|\n",
            "|   Norte|    AM|2020-03-24 00:00:00|        15|             47|          0|               0|Tem casos Novos|\n",
            "|   Norte|    AM|2020-03-25 00:00:00|         7|             54|          1|               1|Tem casos Novos|\n",
            "|   Norte|    AM|2020-03-26 00:00:00|        13|             67|          0|               1|Tem casos Novos|\n",
            "|   Norte|    AM|2020-03-27 00:00:00|        14|             81|          0|               1|Tem casos Novos|\n",
            "|   Norte|    AM|2020-03-28 00:00:00|        30|            111|          0|               1|Tem casos Novos|\n",
            "|   Norte|    AM|2020-03-29 00:00:00|        29|            140|          0|               1|Tem casos Novos|\n",
            "|   Norte|    AM|2020-03-30 00:00:00|        11|            151|          0|               1|Tem casos Novos|\n",
            "|   Norte|    AM|2020-03-31 00:00:00|        24|            175|          2|               3|Tem casos Novos|\n",
            "|   Norte|    AM|2020-04-01 00:00:00|        25|            200|          0|               3|Tem casos Novos|\n",
            "|   Norte|    AM|2020-04-02 00:00:00|        29|            229|          0|               3|Tem casos Novos|\n",
            "|   Norte|    AM|2020-04-03 00:00:00|        31|            260|          4|               7|Tem casos Novos|\n",
            "|   Norte|    AM|2020-04-04 00:00:00|        51|            311|          5|              12|Tem casos Novos|\n",
            "|   Norte|    AM|2020-04-05 00:00:00|       106|            417|          2|              14|Tem casos Novos|\n",
            "|   Norte|    AM|2020-04-06 00:00:00|       115|            532|          5|              19|Tem casos Novos|\n",
            "|   Norte|    AM|2020-04-07 00:00:00|       104|            636|          4|              23|Tem casos Novos|\n",
            "|   Norte|    AM|2020-04-08 00:00:00|       168|            804|          7|              30|Tem casos Novos|\n",
            "|   Norte|    AM|2020-04-09 00:00:00|        95|            899|         10|              40|Tem casos Novos|\n",
            "|   Norte|    AM|2020-04-10 00:00:00|        82|            981|         10|              50|Tem casos Novos|\n",
            "|   Norte|    AM|2020-04-11 00:00:00|        69|           1050|          3|              53|Tem casos Novos|\n",
            "|   Norte|    AM|2020-04-12 00:00:00|       156|           1206|          9|              62|Tem casos Novos|\n",
            "|   Norte|    AM|2020-04-13 00:00:00|        69|           1275|          9|              71|Tem casos Novos|\n",
            "|   Norte|    AM|2020-04-14 00:00:00|       209|           1484|         19|              90|Tem casos Novos|\n",
            "|   Norte|    AM|2020-04-15 00:00:00|        70|           1554|         16|             106|Tem casos Novos|\n",
            "|   Norte|    AM|2020-04-16 00:00:00|       165|           1719|         18|             124|Tem casos Novos|\n",
            "|   Norte|    AM|2020-04-17 00:00:00|        90|           1809|         21|             145|Tem casos Novos|\n",
            "|   Norte|    AM|2020-04-18 00:00:00|        88|           1897|         16|             161|Tem casos Novos|\n",
            "|   Norte|    AM|2020-04-19 00:00:00|       147|           2044|         21|             182|Tem casos Novos|\n",
            "|   Norte|    AM|2020-04-20 00:00:00|       116|           2160|          3|             185|Tem casos Novos|\n",
            "|   Norte|    AM|2020-04-21 00:00:00|       110|           2270|          8|             193|Tem casos Novos|\n",
            "|   Norte|    AM|2020-04-22 00:00:00|       209|           2479|         14|             207|Tem casos Novos|\n",
            "|   Norte|    AM|2020-04-23 00:00:00|       409|           2888|         27|             234|Tem casos Novos|\n",
            "|   Norte|    AM|2020-04-24 00:00:00|       306|           3194|         21|             255|Tem casos Novos|\n",
            "|   Norte|    AM|2020-04-25 00:00:00|       441|           3635|         32|             287|Tem casos Novos|\n",
            "|   Norte|    RR|2020-01-30 00:00:00|         0|              0|          0|               0|Sem casos Novos|\n",
            "|   Norte|    RR|2020-01-31 00:00:00|         0|              0|          0|               0|Sem casos Novos|\n",
            "|   Norte|    RR|2020-02-01 00:00:00|         0|              0|          0|               0|Sem casos Novos|\n",
            "|   Norte|    RR|2020-02-02 00:00:00|         0|              0|          0|               0|Sem casos Novos|\n",
            "|   Norte|    RR|2020-02-03 00:00:00|         0|              0|          0|               0|Sem casos Novos|\n",
            "|   Norte|    RR|2020-02-04 00:00:00|         0|              0|          0|               0|Sem casos Novos|\n",
            "|   Norte|    RR|2020-02-05 00:00:00|         0|              0|          0|               0|Sem casos Novos|\n",
            "|   Norte|    RR|2020-02-06 00:00:00|         0|              0|          0|               0|Sem casos Novos|\n",
            "|   Norte|    RR|2020-02-07 00:00:00|         0|              0|          0|               0|Sem casos Novos|\n",
            "|   Norte|    RR|2020-02-08 00:00:00|         0|              0|          0|               0|Sem casos Novos|\n",
            "|   Norte|    RR|2020-02-09 00:00:00|         0|              0|          0|               0|Sem casos Novos|\n",
            "|   Norte|    RR|2020-02-10 00:00:00|         0|              0|          0|               0|Sem casos Novos|\n",
            "|   Norte|    RR|2020-02-11 00:00:00|         0|              0|          0|               0|Sem casos Novos|\n",
            "|   Norte|    RR|2020-02-12 00:00:00|         0|              0|          0|               0|Sem casos Novos|\n",
            "|   Norte|    RR|2020-02-13 00:00:00|         0|              0|          0|               0|Sem casos Novos|\n",
            "|   Norte|    RR|2020-02-14 00:00:00|         0|              0|          0|               0|Sem casos Novos|\n",
            "|   Norte|    RR|2020-02-15 00:00:00|         0|              0|          0|               0|Sem casos Novos|\n",
            "|   Norte|    RR|2020-02-16 00:00:00|         0|              0|          0|               0|Sem casos Novos|\n",
            "|   Norte|    RR|2020-02-17 00:00:00|         0|              0|          0|               0|Sem casos Novos|\n",
            "|   Norte|    RR|2020-02-18 00:00:00|         0|              0|          0|               0|Sem casos Novos|\n",
            "|   Norte|    RR|2020-02-19 00:00:00|         0|              0|          0|               0|Sem casos Novos|\n",
            "|   Norte|    RR|2020-02-20 00:00:00|         0|              0|          0|               0|Sem casos Novos|\n",
            "|   Norte|    RR|2020-02-21 00:00:00|         0|              0|          0|               0|Sem casos Novos|\n",
            "|   Norte|    RR|2020-02-22 00:00:00|         0|              0|          0|               0|Sem casos Novos|\n",
            "|   Norte|    RR|2020-02-23 00:00:00|         0|              0|          0|               0|Sem casos Novos|\n",
            "|   Norte|    RR|2020-02-24 00:00:00|         0|              0|          0|               0|Sem casos Novos|\n",
            "|   Norte|    RR|2020-02-25 00:00:00|         0|              0|          0|               0|Sem casos Novos|\n",
            "|   Norte|    RR|2020-02-26 00:00:00|         0|              0|          0|               0|Sem casos Novos|\n",
            "|   Norte|    RR|2020-02-27 00:00:00|         0|              0|          0|               0|Sem casos Novos|\n",
            "|   Norte|    RR|2020-02-28 00:00:00|         0|              0|          0|               0|Sem casos Novos|\n",
            "|   Norte|    RR|2020-02-29 00:00:00|         0|              0|          0|               0|Sem casos Novos|\n",
            "|   Norte|    RR|2020-03-01 00:00:00|         0|              0|          0|               0|Sem casos Novos|\n",
            "|   Norte|    RR|2020-03-02 00:00:00|         0|              0|          0|               0|Sem casos Novos|\n",
            "|   Norte|    RR|2020-03-03 00:00:00|         0|              0|          0|               0|Sem casos Novos|\n",
            "|   Norte|    RR|2020-03-04 00:00:00|         0|              0|          0|               0|Sem casos Novos|\n",
            "|   Norte|    RR|2020-03-05 00:00:00|         0|              0|          0|               0|Sem casos Novos|\n",
            "|   Norte|    RR|2020-03-06 00:00:00|         0|              0|          0|               0|Sem casos Novos|\n",
            "|   Norte|    RR|2020-03-07 00:00:00|         0|              0|          0|               0|Sem casos Novos|\n",
            "|   Norte|    RR|2020-03-08 00:00:00|         0|              0|          0|               0|Sem casos Novos|\n",
            "|   Norte|    RR|2020-03-09 00:00:00|         0|              0|          0|               0|Sem casos Novos|\n",
            "|   Norte|    RR|2020-03-10 00:00:00|         0|              0|          0|               0|Sem casos Novos|\n",
            "|   Norte|    RR|2020-03-11 00:00:00|         0|              0|          0|               0|Sem casos Novos|\n",
            "|   Norte|    RR|2020-03-12 00:00:00|         0|              0|          0|               0|Sem casos Novos|\n",
            "|   Norte|    RR|2020-03-13 00:00:00|         0|              0|          0|               0|Sem casos Novos|\n",
            "|   Norte|    RR|2020-03-14 00:00:00|         0|              0|          0|               0|Sem casos Novos|\n",
            "|   Norte|    RR|2020-03-15 00:00:00|         0|              0|          0|               0|Sem casos Novos|\n",
            "|   Norte|    RR|2020-03-16 00:00:00|         0|              0|          0|               0|Sem casos Novos|\n",
            "|   Norte|    RR|2020-03-17 00:00:00|         0|              0|          0|               0|Sem casos Novos|\n",
            "|   Norte|    RR|2020-03-18 00:00:00|         0|              0|          0|               0|Sem casos Novos|\n",
            "|   Norte|    RR|2020-03-19 00:00:00|         0|              0|          0|               0|Sem casos Novos|\n",
            "|   Norte|    RR|2020-03-20 00:00:00|         0|              0|          0|               0|Sem casos Novos|\n",
            "|   Norte|    RR|2020-03-21 00:00:00|         0|              0|          0|               0|Sem casos Novos|\n",
            "|   Norte|    RR|2020-03-22 00:00:00|         2|              2|          0|               0|Tem casos Novos|\n",
            "|   Norte|    RR|2020-03-23 00:00:00|         0|              2|          0|               0|Sem casos Novos|\n",
            "|   Norte|    RR|2020-03-24 00:00:00|         0|              2|          0|               0|Sem casos Novos|\n",
            "|   Norte|    RR|2020-03-25 00:00:00|         6|              8|          0|               0|Tem casos Novos|\n",
            "|   Norte|    RR|2020-03-26 00:00:00|         0|              8|          0|               0|Sem casos Novos|\n",
            "|   Norte|    RR|2020-03-27 00:00:00|         2|             10|          0|               0|Tem casos Novos|\n",
            "|   Norte|    RR|2020-03-28 00:00:00|         2|             12|          0|               0|Tem casos Novos|\n",
            "|   Norte|    RR|2020-03-29 00:00:00|         4|             16|          0|               0|Tem casos Novos|\n",
            "|   Norte|    RR|2020-03-30 00:00:00|         0|             16|          0|               0|Sem casos Novos|\n",
            "|   Norte|    RR|2020-03-31 00:00:00|         0|             16|          0|               0|Sem casos Novos|\n",
            "|   Norte|    RR|2020-04-01 00:00:00|         6|             22|          0|               0|Tem casos Novos|\n",
            "|   Norte|    RR|2020-04-02 00:00:00|         4|             26|          0|               0|Tem casos Novos|\n",
            "|   Norte|    RR|2020-04-03 00:00:00|         4|             30|          0|               0|Tem casos Novos|\n",
            "|   Norte|    RR|2020-04-04 00:00:00|         7|             37|          1|               1|Tem casos Novos|\n",
            "|   Norte|    RR|2020-04-05 00:00:00|         5|             42|          0|               1|Tem casos Novos|\n",
            "|   Norte|    RR|2020-04-06 00:00:00|         0|             42|          0|               1|Sem casos Novos|\n",
            "|   Norte|    RR|2020-04-07 00:00:00|         0|             42|          0|               1|Sem casos Novos|\n",
            "|   Norte|    RR|2020-04-08 00:00:00|         7|             49|          0|               1|Tem casos Novos|\n",
            "|   Norte|    RR|2020-04-09 00:00:00|         3|             52|          0|               1|Tem casos Novos|\n",
            "|   Norte|    RR|2020-04-10 00:00:00|        11|             63|          2|               3|Tem casos Novos|\n",
            "|   Norte|    RR|2020-04-11 00:00:00|        12|             75|          0|               3|Tem casos Novos|\n",
            "|   Norte|    RR|2020-04-12 00:00:00|         4|             79|          0|               3|Tem casos Novos|\n",
            "|   Norte|    RR|2020-04-13 00:00:00|         4|             83|          0|               3|Tem casos Novos|\n",
            "|   Norte|    RR|2020-04-14 00:00:00|        30|            113|          0|               3|Tem casos Novos|\n",
            "|   Norte|    RR|2020-04-15 00:00:00|         1|            114|          0|               3|Tem casos Novos|\n",
            "|   Norte|    RR|2020-04-16 00:00:00|        28|            142|          0|               3|Tem casos Novos|\n",
            "|   Norte|    RR|2020-04-17 00:00:00|        22|            164|          0|               3|Tem casos Novos|\n",
            "|   Norte|    RR|2020-04-18 00:00:00|        37|            201|          0|               3|Tem casos Novos|\n",
            "|   Norte|    RR|2020-04-19 00:00:00|        21|            222|          0|               3|Tem casos Novos|\n",
            "|   Norte|    RR|2020-04-20 00:00:00|        22|            244|          0|               3|Tem casos Novos|\n",
            "|   Norte|    RR|2020-04-21 00:00:00|         3|            247|          0|               3|Tem casos Novos|\n",
            "|   Norte|    RR|2020-04-22 00:00:00|        33|            280|          0|               3|Tem casos Novos|\n",
            "|   Norte|    RR|2020-04-23 00:00:00|        17|            297|          0|               3|Tem casos Novos|\n",
            "|   Norte|    RR|2020-04-24 00:00:00|         7|            304|          0|               3|Tem casos Novos|\n",
            "|   Norte|    RR|2020-04-25 00:00:00|        41|            345|          0|               3|Tem casos Novos|\n",
            "|   Norte|    PA|2020-01-30 00:00:00|         0|              0|          0|               0|Sem casos Novos|\n",
            "|   Norte|    PA|2020-01-31 00:00:00|         0|              0|          0|               0|Sem casos Novos|\n",
            "|   Norte|    PA|2020-02-01 00:00:00|         0|              0|          0|               0|Sem casos Novos|\n",
            "|   Norte|    PA|2020-02-02 00:00:00|         0|              0|          0|               0|Sem casos Novos|\n",
            "|   Norte|    PA|2020-02-03 00:00:00|         0|              0|          0|               0|Sem casos Novos|\n",
            "|   Norte|    PA|2020-02-04 00:00:00|         0|              0|          0|               0|Sem casos Novos|\n",
            "|   Norte|    PA|2020-02-05 00:00:00|         0|              0|          0|               0|Sem casos Novos|\n",
            "|   Norte|    PA|2020-02-06 00:00:00|         0|              0|          0|               0|Sem casos Novos|\n",
            "|   Norte|    PA|2020-02-07 00:00:00|         0|              0|          0|               0|Sem casos Novos|\n",
            "|   Norte|    PA|2020-02-08 00:00:00|         0|              0|          0|               0|Sem casos Novos|\n",
            "|   Norte|    PA|2020-02-09 00:00:00|         0|              0|          0|               0|Sem casos Novos|\n",
            "|   Norte|    PA|2020-02-10 00:00:00|         0|              0|          0|               0|Sem casos Novos|\n",
            "|   Norte|    PA|2020-02-11 00:00:00|         0|              0|          0|               0|Sem casos Novos|\n",
            "|   Norte|    PA|2020-02-12 00:00:00|         0|              0|          0|               0|Sem casos Novos|\n",
            "|   Norte|    PA|2020-02-13 00:00:00|         0|              0|          0|               0|Sem casos Novos|\n",
            "|   Norte|    PA|2020-02-14 00:00:00|         0|              0|          0|               0|Sem casos Novos|\n",
            "|   Norte|    PA|2020-02-15 00:00:00|         0|              0|          0|               0|Sem casos Novos|\n",
            "|   Norte|    PA|2020-02-16 00:00:00|         0|              0|          0|               0|Sem casos Novos|\n",
            "|   Norte|    PA|2020-02-17 00:00:00|         0|              0|          0|               0|Sem casos Novos|\n",
            "|   Norte|    PA|2020-02-18 00:00:00|         0|              0|          0|               0|Sem casos Novos|\n",
            "|   Norte|    PA|2020-02-19 00:00:00|         0|              0|          0|               0|Sem casos Novos|\n",
            "|   Norte|    PA|2020-02-20 00:00:00|         0|              0|          0|               0|Sem casos Novos|\n",
            "|   Norte|    PA|2020-02-21 00:00:00|         0|              0|          0|               0|Sem casos Novos|\n",
            "|   Norte|    PA|2020-02-22 00:00:00|         0|              0|          0|               0|Sem casos Novos|\n",
            "|   Norte|    PA|2020-02-23 00:00:00|         0|              0|          0|               0|Sem casos Novos|\n",
            "|   Norte|    PA|2020-02-24 00:00:00|         0|              0|          0|               0|Sem casos Novos|\n",
            "|   Norte|    PA|2020-02-25 00:00:00|         0|              0|          0|               0|Sem casos Novos|\n",
            "|   Norte|    PA|2020-02-26 00:00:00|         0|              0|          0|               0|Sem casos Novos|\n",
            "|   Norte|    PA|2020-02-27 00:00:00|         0|              0|          0|               0|Sem casos Novos|\n",
            "|   Norte|    PA|2020-02-28 00:00:00|         0|              0|          0|               0|Sem casos Novos|\n",
            "|   Norte|    PA|2020-02-29 00:00:00|         0|              0|          0|               0|Sem casos Novos|\n",
            "|   Norte|    PA|2020-03-01 00:00:00|         0|              0|          0|               0|Sem casos Novos|\n",
            "|   Norte|    PA|2020-03-02 00:00:00|         0|              0|          0|               0|Sem casos Novos|\n",
            "|   Norte|    PA|2020-03-03 00:00:00|         0|              0|          0|               0|Sem casos Novos|\n",
            "|   Norte|    PA|2020-03-04 00:00:00|         0|              0|          0|               0|Sem casos Novos|\n",
            "|   Norte|    PA|2020-03-05 00:00:00|         0|              0|          0|               0|Sem casos Novos|\n",
            "|   Norte|    PA|2020-03-06 00:00:00|         0|              0|          0|               0|Sem casos Novos|\n",
            "|   Norte|    PA|2020-03-07 00:00:00|         0|              0|          0|               0|Sem casos Novos|\n",
            "|   Norte|    PA|2020-03-08 00:00:00|         0|              0|          0|               0|Sem casos Novos|\n",
            "|   Norte|    PA|2020-03-09 00:00:00|         0|              0|          0|               0|Sem casos Novos|\n",
            "|   Norte|    PA|2020-03-10 00:00:00|         0|              0|          0|               0|Sem casos Novos|\n",
            "|   Norte|    PA|2020-03-11 00:00:00|         0|              0|          0|               0|Sem casos Novos|\n",
            "|   Norte|    PA|2020-03-12 00:00:00|         0|              0|          0|               0|Sem casos Novos|\n",
            "|   Norte|    PA|2020-03-13 00:00:00|         0|              0|          0|               0|Sem casos Novos|\n",
            "|   Norte|    PA|2020-03-14 00:00:00|         0|              0|          0|               0|Sem casos Novos|\n",
            "|   Norte|    PA|2020-03-15 00:00:00|         0|              0|          0|               0|Sem casos Novos|\n",
            "|   Norte|    PA|2020-03-16 00:00:00|         0|              0|          0|               0|Sem casos Novos|\n",
            "|   Norte|    PA|2020-03-17 00:00:00|         0|              0|          0|               0|Sem casos Novos|\n",
            "|   Norte|    PA|2020-03-18 00:00:00|         0|              0|          0|               0|Sem casos Novos|\n",
            "|   Norte|    PA|2020-03-19 00:00:00|         1|              1|          0|               0|Tem casos Novos|\n",
            "|   Norte|    PA|2020-03-20 00:00:00|         1|              2|          0|               0|Tem casos Novos|\n",
            "|   Norte|    PA|2020-03-21 00:00:00|         0|              2|          0|               0|Sem casos Novos|\n",
            "|   Norte|    PA|2020-03-22 00:00:00|         2|              4|          0|               0|Tem casos Novos|\n",
            "|   Norte|    PA|2020-03-23 00:00:00|         1|              5|          0|               0|Tem casos Novos|\n",
            "|   Norte|    PA|2020-03-24 00:00:00|         0|              5|          0|               0|Sem casos Novos|\n",
            "|   Norte|    PA|2020-03-25 00:00:00|         2|              7|          0|               0|Tem casos Novos|\n",
            "|   Norte|    PA|2020-03-26 00:00:00|         6|             13|          0|               0|Tem casos Novos|\n",
            "|   Norte|    PA|2020-03-27 00:00:00|         0|             13|          0|               0|Sem casos Novos|\n",
            "|   Norte|    PA|2020-03-28 00:00:00|         4|             17|          0|               0|Tem casos Novos|\n",
            "|   Norte|    PA|2020-03-29 00:00:00|         1|             18|          0|               0|Tem casos Novos|\n",
            "|   Norte|    PA|2020-03-30 00:00:00|         3|             21|          0|               0|Tem casos Novos|\n",
            "|   Norte|    PA|2020-03-31 00:00:00|        11|             32|          0|               0|Tem casos Novos|\n",
            "|   Norte|    PA|2020-04-01 00:00:00|         8|             40|          1|               1|Tem casos Novos|\n",
            "|   Norte|    PA|2020-04-02 00:00:00|         6|             46|          0|               1|Tem casos Novos|\n",
            "|   Norte|    PA|2020-04-03 00:00:00|         4|             50|          0|               1|Tem casos Novos|\n",
            "|   Norte|    PA|2020-04-04 00:00:00|        30|             80|          0|               1|Tem casos Novos|\n",
            "|   Norte|    PA|2020-04-05 00:00:00|         6|             86|          0|               1|Tem casos Novos|\n",
            "|   Norte|    PA|2020-04-06 00:00:00|        16|            102|          2|               3|Tem casos Novos|\n",
            "|   Norte|    PA|2020-04-07 00:00:00|        36|            138|          2|               5|Tem casos Novos|\n",
            "|   Norte|    PA|2020-04-08 00:00:00|        29|            167|          1|               6|Tem casos Novos|\n",
            "|   Norte|    PA|2020-04-09 00:00:00|         1|            168|          1|               7|Tem casos Novos|\n",
            "|   Norte|    PA|2020-04-10 00:00:00|         2|            170|          2|               9|Tem casos Novos|\n",
            "|   Norte|    PA|2020-04-11 00:00:00|        47|            217|          1|              10|Tem casos Novos|\n",
            "|   Norte|    PA|2020-04-12 00:00:00|        29|            246|          3|              13|Tem casos Novos|\n",
            "|   Norte|    PA|2020-04-13 00:00:00|        24|            270|          2|              15|Tem casos Novos|\n",
            "|   Norte|    PA|2020-04-14 00:00:00|        53|            323|          4|              19|Tem casos Novos|\n",
            "|   Norte|    PA|2020-04-15 00:00:00|        61|            384|          2|              21|Tem casos Novos|\n",
            "|   Norte|    PA|2020-04-16 00:00:00|        54|            438|          3|              24|Tem casos Novos|\n",
            "|   Norte|    PA|2020-04-17 00:00:00|       119|            557|          2|              26|Tem casos Novos|\n",
            "|   Norte|    PA|2020-04-18 00:00:00|        83|            640|          7|              33|Tem casos Novos|\n",
            "|   Norte|    PA|2020-04-19 00:00:00|        45|            685|          1|              34|Tem casos Novos|\n",
            "|   Norte|    PA|2020-04-20 00:00:00|       217|            902|          1|              35|Tem casos Novos|\n",
            "|   Norte|    PA|2020-04-21 00:00:00|       124|           1026|          3|              38|Tem casos Novos|\n",
            "|   Norte|    PA|2020-04-22 00:00:00|       169|           1195|          5|              43|Tem casos Novos|\n",
            "|   Norte|    PA|2020-04-23 00:00:00|        72|           1267|         10|              53|Tem casos Novos|\n",
            "|   Norte|    PA|2020-04-24 00:00:00|       179|           1446|         22|              75|Tem casos Novos|\n",
            "|   Norte|    PA|2020-04-25 00:00:00|       133|           1579|         11|              86|Tem casos Novos|\n",
            "|   Norte|    AP|2020-01-30 00:00:00|         0|              0|          0|               0|Sem casos Novos|\n",
            "|   Norte|    AP|2020-01-31 00:00:00|         0|              0|          0|               0|Sem casos Novos|\n",
            "|   Norte|    AP|2020-02-01 00:00:00|         0|              0|          0|               0|Sem casos Novos|\n",
            "|   Norte|    AP|2020-02-02 00:00:00|         0|              0|          0|               0|Sem casos Novos|\n",
            "|   Norte|    AP|2020-02-03 00:00:00|         0|              0|          0|               0|Sem casos Novos|\n",
            "|   Norte|    AP|2020-02-04 00:00:00|         0|              0|          0|               0|Sem casos Novos|\n",
            "|   Norte|    AP|2020-02-05 00:00:00|         0|              0|          0|               0|Sem casos Novos|\n",
            "|   Norte|    AP|2020-02-06 00:00:00|         0|              0|          0|               0|Sem casos Novos|\n",
            "|   Norte|    AP|2020-02-07 00:00:00|         0|              0|          0|               0|Sem casos Novos|\n",
            "|   Norte|    AP|2020-02-08 00:00:00|         0|              0|          0|               0|Sem casos Novos|\n",
            "|   Norte|    AP|2020-02-09 00:00:00|         0|              0|          0|               0|Sem casos Novos|\n",
            "|   Norte|    AP|2020-02-10 00:00:00|         0|              0|          0|               0|Sem casos Novos|\n",
            "|   Norte|    AP|2020-02-11 00:00:00|         0|              0|          0|               0|Sem casos Novos|\n",
            "|   Norte|    AP|2020-02-12 00:00:00|         0|              0|          0|               0|Sem casos Novos|\n",
            "|   Norte|    AP|2020-02-13 00:00:00|         0|              0|          0|               0|Sem casos Novos|\n",
            "|   Norte|    AP|2020-02-14 00:00:00|         0|              0|          0|               0|Sem casos Novos|\n",
            "|   Norte|    AP|2020-02-15 00:00:00|         0|              0|          0|               0|Sem casos Novos|\n",
            "|   Norte|    AP|2020-02-16 00:00:00|         0|              0|          0|               0|Sem casos Novos|\n",
            "|   Norte|    AP|2020-02-17 00:00:00|         0|              0|          0|               0|Sem casos Novos|\n",
            "|   Norte|    AP|2020-02-18 00:00:00|         0|              0|          0|               0|Sem casos Novos|\n",
            "|   Norte|    AP|2020-02-19 00:00:00|         0|              0|          0|               0|Sem casos Novos|\n",
            "|   Norte|    AP|2020-02-20 00:00:00|         0|              0|          0|               0|Sem casos Novos|\n",
            "|   Norte|    AP|2020-02-21 00:00:00|         0|              0|          0|               0|Sem casos Novos|\n",
            "|   Norte|    AP|2020-02-22 00:00:00|         0|              0|          0|               0|Sem casos Novos|\n",
            "|   Norte|    AP|2020-02-23 00:00:00|         0|              0|          0|               0|Sem casos Novos|\n",
            "|   Norte|    AP|2020-02-24 00:00:00|         0|              0|          0|               0|Sem casos Novos|\n",
            "|   Norte|    AP|2020-02-25 00:00:00|         0|              0|          0|               0|Sem casos Novos|\n",
            "|   Norte|    AP|2020-02-26 00:00:00|         0|              0|          0|               0|Sem casos Novos|\n",
            "|   Norte|    AP|2020-02-27 00:00:00|         0|              0|          0|               0|Sem casos Novos|\n",
            "|   Norte|    AP|2020-02-28 00:00:00|         0|              0|          0|               0|Sem casos Novos|\n",
            "|   Norte|    AP|2020-02-29 00:00:00|         0|              0|          0|               0|Sem casos Novos|\n",
            "|   Norte|    AP|2020-03-01 00:00:00|         0|              0|          0|               0|Sem casos Novos|\n",
            "|   Norte|    AP|2020-03-02 00:00:00|         0|              0|          0|               0|Sem casos Novos|\n",
            "|   Norte|    AP|2020-03-03 00:00:00|         0|              0|          0|               0|Sem casos Novos|\n",
            "|   Norte|    AP|2020-03-04 00:00:00|         0|              0|          0|               0|Sem casos Novos|\n",
            "|   Norte|    AP|2020-03-05 00:00:00|         0|              0|          0|               0|Sem casos Novos|\n",
            "|   Norte|    AP|2020-03-06 00:00:00|         0|              0|          0|               0|Sem casos Novos|\n",
            "|   Norte|    AP|2020-03-07 00:00:00|         0|              0|          0|               0|Sem casos Novos|\n",
            "|   Norte|    AP|2020-03-08 00:00:00|         0|              0|          0|               0|Sem casos Novos|\n",
            "|   Norte|    AP|2020-03-09 00:00:00|         0|              0|          0|               0|Sem casos Novos|\n",
            "|   Norte|    AP|2020-03-10 00:00:00|         0|              0|          0|               0|Sem casos Novos|\n",
            "|   Norte|    AP|2020-03-11 00:00:00|         0|              0|          0|               0|Sem casos Novos|\n",
            "|   Norte|    AP|2020-03-12 00:00:00|         0|              0|          0|               0|Sem casos Novos|\n",
            "|   Norte|    AP|2020-03-13 00:00:00|         0|              0|          0|               0|Sem casos Novos|\n",
            "|   Norte|    AP|2020-03-14 00:00:00|         0|              0|          0|               0|Sem casos Novos|\n",
            "|   Norte|    AP|2020-03-15 00:00:00|         0|              0|          0|               0|Sem casos Novos|\n",
            "|   Norte|    AP|2020-03-16 00:00:00|         0|              0|          0|               0|Sem casos Novos|\n",
            "|   Norte|    AP|2020-03-17 00:00:00|         0|              0|          0|               0|Sem casos Novos|\n",
            "|   Norte|    AP|2020-03-18 00:00:00|         0|              0|          0|               0|Sem casos Novos|\n",
            "|   Norte|    AP|2020-03-19 00:00:00|         0|              0|          0|               0|Sem casos Novos|\n",
            "|   Norte|    AP|2020-03-20 00:00:00|         1|              1|          0|               0|Tem casos Novos|\n",
            "|   Norte|    AP|2020-03-21 00:00:00|         0|              1|          0|               0|Sem casos Novos|\n",
            "|   Norte|    AP|2020-03-22 00:00:00|         0|              1|          0|               0|Sem casos Novos|\n",
            "|   Norte|    AP|2020-03-23 00:00:00|         0|              1|          0|               0|Sem casos Novos|\n",
            "|   Norte|    AP|2020-03-24 00:00:00|         0|              1|          0|               0|Sem casos Novos|\n",
            "|   Norte|    AP|2020-03-25 00:00:00|         0|              1|          0|               0|Sem casos Novos|\n",
            "|   Norte|    AP|2020-03-26 00:00:00|         1|              2|          0|               0|Tem casos Novos|\n",
            "|   Norte|    AP|2020-03-27 00:00:00|         0|              2|          0|               0|Sem casos Novos|\n",
            "|   Norte|    AP|2020-03-28 00:00:00|         2|              4|          0|               0|Tem casos Novos|\n",
            "|   Norte|    AP|2020-03-29 00:00:00|         0|              4|          0|               0|Sem casos Novos|\n",
            "|   Norte|    AP|2020-03-30 00:00:00|         4|              8|          0|               0|Tem casos Novos|\n",
            "|   Norte|    AP|2020-03-31 00:00:00|         2|             10|          0|               0|Tem casos Novos|\n",
            "|   Norte|    AP|2020-04-01 00:00:00|         1|             11|          0|               0|Tem casos Novos|\n",
            "|   Norte|    AP|2020-04-02 00:00:00|         0|             11|          0|               0|Sem casos Novos|\n",
            "|   Norte|    AP|2020-04-03 00:00:00|         8|             19|          0|               0|Tem casos Novos|\n",
            "|   Norte|    AP|2020-04-04 00:00:00|         9|             28|          1|               1|Tem casos Novos|\n",
            "|   Norte|    AP|2020-04-05 00:00:00|         1|             29|          1|               2|Tem casos Novos|\n",
            "|   Norte|    AP|2020-04-06 00:00:00|         5|             34|          0|               2|Tem casos Novos|\n",
            "|   Norte|    AP|2020-04-07 00:00:00|        14|             48|          0|               2|Tem casos Novos|\n",
            "|   Norte|    AP|2020-04-08 00:00:00|        59|            107|          0|               2|Tem casos Novos|\n",
            "|   Norte|    AP|2020-04-09 00:00:00|        21|            128|          0|               2|Tem casos Novos|\n",
            "|   Norte|    AP|2020-04-10 00:00:00|        38|            166|          0|               2|Tem casos Novos|\n",
            "|   Norte|    AP|2020-04-11 00:00:00|        27|            193|          1|               3|Tem casos Novos|\n",
            "|   Norte|    AP|2020-04-12 00:00:00|        37|            230|          2|               5|Tem casos Novos|\n",
            "|   Norte|    AP|2020-04-13 00:00:00|        12|            242|          0|               5|Tem casos Novos|\n",
            "|   Norte|    AP|2020-04-14 00:00:00|        65|            307|          1|               6|Tem casos Novos|\n",
            "|   Norte|    AP|2020-04-15 00:00:00|        27|            334|          1|               7|Tem casos Novos|\n",
            "|   Norte|    AP|2020-04-16 00:00:00|        28|            362|          2|               9|Tem casos Novos|\n",
            "|   Norte|    AP|2020-04-17 00:00:00|         8|            370|          1|              10|Tem casos Novos|\n",
            "|   Norte|    AP|2020-04-18 00:00:00|        23|            393|          0|              10|Tem casos Novos|\n",
            "|   Norte|    AP|2020-04-19 00:00:00|        23|            416|          1|              11|Tem casos Novos|\n",
            "|   Norte|    AP|2020-04-20 00:00:00|        17|            433|          2|              13|Tem casos Novos|\n",
            "|   Norte|    AP|2020-04-21 00:00:00|        24|            457|          0|              13|Tem casos Novos|\n",
            "|   Norte|    AP|2020-04-22 00:00:00|        22|            479|          1|              14|Tem casos Novos|\n",
            "|   Norte|    AP|2020-04-23 00:00:00|        69|            548|          2|              16|Tem casos Novos|\n",
            "|   Norte|    AP|2020-04-24 00:00:00|        85|            633|          2|              18|Tem casos Novos|\n",
            "|   Norte|    AP|2020-04-25 00:00:00|        52|            685|          1|              19|Tem casos Novos|\n",
            "|   Norte|    TO|2020-01-30 00:00:00|         0|              0|          0|               0|Sem casos Novos|\n",
            "|   Norte|    TO|2020-01-31 00:00:00|         0|              0|          0|               0|Sem casos Novos|\n",
            "|   Norte|    TO|2020-02-01 00:00:00|         0|              0|          0|               0|Sem casos Novos|\n",
            "|   Norte|    TO|2020-02-02 00:00:00|         0|              0|          0|               0|Sem casos Novos|\n",
            "|   Norte|    TO|2020-02-03 00:00:00|         0|              0|          0|               0|Sem casos Novos|\n",
            "|   Norte|    TO|2020-02-04 00:00:00|         0|              0|          0|               0|Sem casos Novos|\n",
            "|   Norte|    TO|2020-02-05 00:00:00|         0|              0|          0|               0|Sem casos Novos|\n",
            "|   Norte|    TO|2020-02-06 00:00:00|         0|              0|          0|               0|Sem casos Novos|\n",
            "|   Norte|    TO|2020-02-07 00:00:00|         0|              0|          0|               0|Sem casos Novos|\n",
            "|   Norte|    TO|2020-02-08 00:00:00|         0|              0|          0|               0|Sem casos Novos|\n",
            "|   Norte|    TO|2020-02-09 00:00:00|         0|              0|          0|               0|Sem casos Novos|\n",
            "|   Norte|    TO|2020-02-10 00:00:00|         0|              0|          0|               0|Sem casos Novos|\n",
            "|   Norte|    TO|2020-02-11 00:00:00|         0|              0|          0|               0|Sem casos Novos|\n",
            "|   Norte|    TO|2020-02-12 00:00:00|         0|              0|          0|               0|Sem casos Novos|\n",
            "|   Norte|    TO|2020-02-13 00:00:00|         0|              0|          0|               0|Sem casos Novos|\n",
            "|   Norte|    TO|2020-02-14 00:00:00|         0|              0|          0|               0|Sem casos Novos|\n",
            "|   Norte|    TO|2020-02-15 00:00:00|         0|              0|          0|               0|Sem casos Novos|\n",
            "|   Norte|    TO|2020-02-16 00:00:00|         0|              0|          0|               0|Sem casos Novos|\n",
            "|   Norte|    TO|2020-02-17 00:00:00|         0|              0|          0|               0|Sem casos Novos|\n",
            "|   Norte|    TO|2020-02-18 00:00:00|         0|              0|          0|               0|Sem casos Novos|\n",
            "|   Norte|    TO|2020-02-19 00:00:00|         0|              0|          0|               0|Sem casos Novos|\n",
            "|   Norte|    TO|2020-02-20 00:00:00|         0|              0|          0|               0|Sem casos Novos|\n",
            "|   Norte|    TO|2020-02-21 00:00:00|         0|              0|          0|               0|Sem casos Novos|\n",
            "|   Norte|    TO|2020-02-22 00:00:00|         0|              0|          0|               0|Sem casos Novos|\n",
            "|   Norte|    TO|2020-02-23 00:00:00|         0|              0|          0|               0|Sem casos Novos|\n",
            "|   Norte|    TO|2020-02-24 00:00:00|         0|              0|          0|               0|Sem casos Novos|\n",
            "|   Norte|    TO|2020-02-25 00:00:00|         0|              0|          0|               0|Sem casos Novos|\n",
            "|   Norte|    TO|2020-02-26 00:00:00|         0|              0|          0|               0|Sem casos Novos|\n",
            "|   Norte|    TO|2020-02-27 00:00:00|         0|              0|          0|               0|Sem casos Novos|\n",
            "|   Norte|    TO|2020-02-28 00:00:00|         0|              0|          0|               0|Sem casos Novos|\n",
            "|   Norte|    TO|2020-02-29 00:00:00|         0|              0|          0|               0|Sem casos Novos|\n",
            "|   Norte|    TO|2020-03-01 00:00:00|         0|              0|          0|               0|Sem casos Novos|\n",
            "|   Norte|    TO|2020-03-02 00:00:00|         0|              0|          0|               0|Sem casos Novos|\n",
            "|   Norte|    TO|2020-03-03 00:00:00|         0|              0|          0|               0|Sem casos Novos|\n",
            "|   Norte|    TO|2020-03-04 00:00:00|         0|              0|          0|               0|Sem casos Novos|\n",
            "|   Norte|    TO|2020-03-05 00:00:00|         0|              0|          0|               0|Sem casos Novos|\n",
            "|   Norte|    TO|2020-03-06 00:00:00|         0|              0|          0|               0|Sem casos Novos|\n",
            "|   Norte|    TO|2020-03-07 00:00:00|         0|              0|          0|               0|Sem casos Novos|\n",
            "|   Norte|    TO|2020-03-08 00:00:00|         0|              0|          0|               0|Sem casos Novos|\n",
            "|   Norte|    TO|2020-03-09 00:00:00|         0|              0|          0|               0|Sem casos Novos|\n",
            "|   Norte|    TO|2020-03-10 00:00:00|         0|              0|          0|               0|Sem casos Novos|\n",
            "|   Norte|    TO|2020-03-11 00:00:00|         0|              0|          0|               0|Sem casos Novos|\n",
            "|   Norte|    TO|2020-03-12 00:00:00|         0|              0|          0|               0|Sem casos Novos|\n",
            "|   Norte|    TO|2020-03-13 00:00:00|         0|              0|          0|               0|Sem casos Novos|\n",
            "|   Norte|    TO|2020-03-14 00:00:00|         0|              0|          0|               0|Sem casos Novos|\n",
            "|   Norte|    TO|2020-03-15 00:00:00|         0|              0|          0|               0|Sem casos Novos|\n",
            "|   Norte|    TO|2020-03-16 00:00:00|         0|              0|          0|               0|Sem casos Novos|\n",
            "|   Norte|    TO|2020-03-17 00:00:00|         0|              0|          0|               0|Sem casos Novos|\n",
            "|   Norte|    TO|2020-03-18 00:00:00|         0|              0|          0|               0|Sem casos Novos|\n",
            "|   Norte|    TO|2020-03-19 00:00:00|         1|              1|          0|               0|Tem casos Novos|\n",
            "|   Norte|    TO|2020-03-20 00:00:00|         0|              1|          0|               0|Sem casos Novos|\n",
            "|   Norte|    TO|2020-03-21 00:00:00|         1|              2|          0|               0|Tem casos Novos|\n",
            "|   Norte|    TO|2020-03-22 00:00:00|         0|              2|          0|               0|Sem casos Novos|\n",
            "|   Norte|    TO|2020-03-23 00:00:00|         3|              5|          0|               0|Tem casos Novos|\n",
            "|   Norte|    TO|2020-03-24 00:00:00|         2|              7|          0|               0|Tem casos Novos|\n",
            "|   Norte|    TO|2020-03-25 00:00:00|         0|              7|          0|               0|Sem casos Novos|\n",
            "|   Norte|    TO|2020-03-26 00:00:00|         0|              7|          0|               0|Sem casos Novos|\n",
            "|   Norte|    TO|2020-03-27 00:00:00|         1|              8|          0|               0|Tem casos Novos|\n",
            "|   Norte|    TO|2020-03-28 00:00:00|         1|              9|          0|               0|Tem casos Novos|\n",
            "|   Norte|    TO|2020-03-29 00:00:00|         0|              9|          0|               0|Sem casos Novos|\n",
            "|   Norte|    TO|2020-03-30 00:00:00|         1|             10|          0|               0|Tem casos Novos|\n",
            "|   Norte|    TO|2020-03-31 00:00:00|         1|             11|          0|               0|Tem casos Novos|\n",
            "|   Norte|    TO|2020-04-01 00:00:00|         1|             12|          0|               0|Tem casos Novos|\n",
            "|   Norte|    TO|2020-04-02 00:00:00|         0|             12|          0|               0|Sem casos Novos|\n",
            "|   Norte|    TO|2020-04-03 00:00:00|         0|             12|          0|               0|Sem casos Novos|\n",
            "|   Norte|    TO|2020-04-04 00:00:00|         2|             14|          0|               0|Tem casos Novos|\n",
            "|   Norte|    TO|2020-04-05 00:00:00|         3|             17|          0|               0|Tem casos Novos|\n",
            "|   Norte|    TO|2020-04-06 00:00:00|         0|             17|          0|               0|Sem casos Novos|\n",
            "|   Norte|    TO|2020-04-07 00:00:00|         2|             19|          0|               0|Tem casos Novos|\n",
            "|   Norte|    TO|2020-04-08 00:00:00|         4|             23|          0|               0|Tem casos Novos|\n",
            "|   Norte|    TO|2020-04-09 00:00:00|         0|             23|          0|               0|Sem casos Novos|\n",
            "|   Norte|    TO|2020-04-10 00:00:00|         0|             23|          0|               0|Sem casos Novos|\n",
            "|   Norte|    TO|2020-04-11 00:00:00|         0|             23|          0|               0|Sem casos Novos|\n",
            "|   Norte|    TO|2020-04-12 00:00:00|         2|             25|          0|               0|Tem casos Novos|\n",
            "|   Norte|    TO|2020-04-13 00:00:00|         1|             26|          0|               0|Tem casos Novos|\n",
            "|   Norte|    TO|2020-04-14 00:00:00|         0|             26|          0|               0|Sem casos Novos|\n",
            "|   Norte|    TO|2020-04-15 00:00:00|         0|             26|          1|               1|Sem casos Novos|\n",
            "|   Norte|    TO|2020-04-16 00:00:00|         3|             29|          0|               1|Tem casos Novos|\n",
            "|   Norte|    TO|2020-04-17 00:00:00|         2|             31|          0|               1|Tem casos Novos|\n",
            "|   Norte|    TO|2020-04-18 00:00:00|         2|             33|          0|               1|Tem casos Novos|\n",
            "|   Norte|    TO|2020-04-19 00:00:00|         0|             33|          0|               1|Sem casos Novos|\n",
            "|   Norte|    TO|2020-04-20 00:00:00|         1|             34|          0|               1|Tem casos Novos|\n",
            "|   Norte|    TO|2020-04-21 00:00:00|         3|             37|          0|               1|Tem casos Novos|\n",
            "|   Norte|    TO|2020-04-22 00:00:00|         0|             37|          0|               1|Sem casos Novos|\n",
            "|   Norte|    TO|2020-04-23 00:00:00|         0|             37|          1|               2|Sem casos Novos|\n",
            "|   Norte|    TO|2020-04-24 00:00:00|         6|             43|          0|               2|Tem casos Novos|\n",
            "|   Norte|    TO|2020-04-25 00:00:00|         7|             50|          0|               2|Tem casos Novos|\n",
            "|Nordeste|    MA|2020-01-30 00:00:00|         0|              0|          0|               0|Sem casos Novos|\n",
            "|Nordeste|    MA|2020-01-31 00:00:00|         0|              0|          0|               0|Sem casos Novos|\n",
            "|Nordeste|    MA|2020-02-01 00:00:00|         0|              0|          0|               0|Sem casos Novos|\n",
            "|Nordeste|    MA|2020-02-02 00:00:00|         0|              0|          0|               0|Sem casos Novos|\n",
            "|Nordeste|    MA|2020-02-03 00:00:00|         0|              0|          0|               0|Sem casos Novos|\n",
            "|Nordeste|    MA|2020-02-04 00:00:00|         0|              0|          0|               0|Sem casos Novos|\n",
            "|Nordeste|    MA|2020-02-05 00:00:00|         0|              0|          0|               0|Sem casos Novos|\n",
            "|Nordeste|    MA|2020-02-06 00:00:00|         0|              0|          0|               0|Sem casos Novos|\n",
            "|Nordeste|    MA|2020-02-07 00:00:00|         0|              0|          0|               0|Sem casos Novos|\n",
            "|Nordeste|    MA|2020-02-08 00:00:00|         0|              0|          0|               0|Sem casos Novos|\n",
            "|Nordeste|    MA|2020-02-09 00:00:00|         0|              0|          0|               0|Sem casos Novos|\n",
            "|Nordeste|    MA|2020-02-10 00:00:00|         0|              0|          0|               0|Sem casos Novos|\n",
            "|Nordeste|    MA|2020-02-11 00:00:00|         0|              0|          0|               0|Sem casos Novos|\n",
            "|Nordeste|    MA|2020-02-12 00:00:00|         0|              0|          0|               0|Sem casos Novos|\n",
            "|Nordeste|    MA|2020-02-13 00:00:00|         0|              0|          0|               0|Sem casos Novos|\n",
            "|Nordeste|    MA|2020-02-14 00:00:00|         0|              0|          0|               0|Sem casos Novos|\n",
            "|Nordeste|    MA|2020-02-15 00:00:00|         0|              0|          0|               0|Sem casos Novos|\n",
            "|Nordeste|    MA|2020-02-16 00:00:00|         0|              0|          0|               0|Sem casos Novos|\n",
            "|Nordeste|    MA|2020-02-17 00:00:00|         0|              0|          0|               0|Sem casos Novos|\n",
            "|Nordeste|    MA|2020-02-18 00:00:00|         0|              0|          0|               0|Sem casos Novos|\n",
            "|Nordeste|    MA|2020-02-19 00:00:00|         0|              0|          0|               0|Sem casos Novos|\n",
            "|Nordeste|    MA|2020-02-20 00:00:00|         0|              0|          0|               0|Sem casos Novos|\n",
            "|Nordeste|    MA|2020-02-21 00:00:00|         0|              0|          0|               0|Sem casos Novos|\n",
            "|Nordeste|    MA|2020-02-22 00:00:00|         0|              0|          0|               0|Sem casos Novos|\n",
            "|Nordeste|    MA|2020-02-23 00:00:00|         0|              0|          0|               0|Sem casos Novos|\n",
            "|Nordeste|    MA|2020-02-24 00:00:00|         0|              0|          0|               0|Sem casos Novos|\n",
            "|Nordeste|    MA|2020-02-25 00:00:00|         0|              0|          0|               0|Sem casos Novos|\n",
            "|Nordeste|    MA|2020-02-26 00:00:00|         0|              0|          0|               0|Sem casos Novos|\n",
            "|Nordeste|    MA|2020-02-27 00:00:00|         0|              0|          0|               0|Sem casos Novos|\n",
            "|Nordeste|    MA|2020-02-28 00:00:00|         0|              0|          0|               0|Sem casos Novos|\n",
            "|Nordeste|    MA|2020-02-29 00:00:00|         0|              0|          0|               0|Sem casos Novos|\n",
            "|Nordeste|    MA|2020-03-01 00:00:00|         0|              0|          0|               0|Sem casos Novos|\n",
            "|Nordeste|    MA|2020-03-02 00:00:00|         0|              0|          0|               0|Sem casos Novos|\n",
            "|Nordeste|    MA|2020-03-03 00:00:00|         0|              0|          0|               0|Sem casos Novos|\n",
            "|Nordeste|    MA|2020-03-04 00:00:00|         0|              0|          0|               0|Sem casos Novos|\n",
            "|Nordeste|    MA|2020-03-05 00:00:00|         0|              0|          0|               0|Sem casos Novos|\n",
            "|Nordeste|    MA|2020-03-06 00:00:00|         0|              0|          0|               0|Sem casos Novos|\n",
            "|Nordeste|    MA|2020-03-07 00:00:00|         0|              0|          0|               0|Sem casos Novos|\n",
            "|Nordeste|    MA|2020-03-08 00:00:00|         0|              0|          0|               0|Sem casos Novos|\n",
            "|Nordeste|    MA|2020-03-09 00:00:00|         0|              0|          0|               0|Sem casos Novos|\n",
            "|Nordeste|    MA|2020-03-10 00:00:00|         0|              0|          0|               0|Sem casos Novos|\n",
            "|Nordeste|    MA|2020-03-11 00:00:00|         0|              0|          0|               0|Sem casos Novos|\n",
            "|Nordeste|    MA|2020-03-12 00:00:00|         0|              0|          0|               0|Sem casos Novos|\n",
            "|Nordeste|    MA|2020-03-13 00:00:00|         0|              0|          0|               0|Sem casos Novos|\n",
            "|Nordeste|    MA|2020-03-14 00:00:00|         0|              0|          0|               0|Sem casos Novos|\n",
            "|Nordeste|    MA|2020-03-15 00:00:00|         0|              0|          0|               0|Sem casos Novos|\n",
            "|Nordeste|    MA|2020-03-16 00:00:00|         0|              0|          0|               0|Sem casos Novos|\n",
            "|Nordeste|    MA|2020-03-17 00:00:00|         0|              0|          0|               0|Sem casos Novos|\n",
            "|Nordeste|    MA|2020-03-18 00:00:00|         0|              0|          0|               0|Sem casos Novos|\n",
            "|Nordeste|    MA|2020-03-19 00:00:00|         0|              0|          0|               0|Sem casos Novos|\n",
            "|Nordeste|    MA|2020-03-20 00:00:00|         0|              0|          0|               0|Sem casos Novos|\n",
            "|Nordeste|    MA|2020-03-21 00:00:00|         1|              1|          0|               0|Tem casos Novos|\n",
            "|Nordeste|    MA|2020-03-22 00:00:00|         1|              2|          0|               0|Tem casos Novos|\n",
            "|Nordeste|    MA|2020-03-23 00:00:00|         0|              2|          0|               0|Sem casos Novos|\n",
            "|Nordeste|    MA|2020-03-24 00:00:00|         6|              8|          0|               0|Tem casos Novos|\n",
            "|Nordeste|    MA|2020-03-25 00:00:00|         0|              8|          0|               0|Sem casos Novos|\n",
            "|Nordeste|    MA|2020-03-26 00:00:00|         2|             10|          0|               0|Tem casos Novos|\n",
            "|Nordeste|    MA|2020-03-27 00:00:00|         3|             13|          0|               0|Tem casos Novos|\n",
            "|Nordeste|    MA|2020-03-28 00:00:00|         1|             14|          0|               0|Tem casos Novos|\n",
            "|Nordeste|    MA|2020-03-29 00:00:00|         2|             16|          0|               0|Tem casos Novos|\n",
            "|Nordeste|    MA|2020-03-30 00:00:00|         7|             23|          1|               1|Tem casos Novos|\n",
            "|Nordeste|    MA|2020-03-31 00:00:00|         8|             31|          0|               1|Tem casos Novos|\n",
            "|Nordeste|    MA|2020-04-01 00:00:00|        21|             52|          0|               1|Tem casos Novos|\n",
            "|Nordeste|    MA|2020-04-02 00:00:00|        19|             71|          0|               1|Tem casos Novos|\n",
            "|Nordeste|    MA|2020-04-03 00:00:00|        10|             81|          0|               1|Tem casos Novos|\n",
            "|Nordeste|    MA|2020-04-04 00:00:00|         7|             88|          0|               1|Tem casos Novos|\n",
            "|Nordeste|    MA|2020-04-05 00:00:00|         8|             96|          1|               2|Tem casos Novos|\n",
            "|Nordeste|    MA|2020-04-06 00:00:00|        37|            133|          0|               2|Tem casos Novos|\n",
            "|Nordeste|    MA|2020-04-07 00:00:00|        39|            172|          2|               4|Tem casos Novos|\n",
            "|Nordeste|    MA|2020-04-08 00:00:00|        58|            230|          7|              11|Tem casos Novos|\n",
            "|Nordeste|    MA|2020-04-09 00:00:00|        43|            273|          1|              12|Tem casos Novos|\n",
            "|Nordeste|    MA|2020-04-10 00:00:00|        20|            293|          4|              16|Tem casos Novos|\n",
            "|Nordeste|    MA|2020-04-11 00:00:00|        51|            344|          5|              21|Tem casos Novos|\n",
            "|Nordeste|    MA|2020-04-12 00:00:00|        54|            398|          3|              24|Tem casos Novos|\n",
            "|Nordeste|    MA|2020-04-13 00:00:00|        47|            445|          3|              27|Tem casos Novos|\n",
            "|Nordeste|    MA|2020-04-14 00:00:00|        33|            478|          5|              32|Tem casos Novos|\n",
            "|Nordeste|    MA|2020-04-15 00:00:00|       152|            630|          2|              34|Tem casos Novos|\n",
            "|Nordeste|    MA|2020-04-16 00:00:00|        65|            695|          3|              37|Tem casos Novos|\n",
            "|Nordeste|    MA|2020-04-17 00:00:00|       102|            797|          3|              40|Tem casos Novos|\n",
            "|Nordeste|    MA|2020-04-18 00:00:00|       243|           1040|          4|              44|Tem casos Novos|\n",
            "|Nordeste|    MA|2020-04-19 00:00:00|       165|           1205|          4|              48|Tem casos Novos|\n",
            "|Nordeste|    MA|2020-04-20 00:00:00|       115|           1320|          6|              54|Tem casos Novos|\n",
            "|Nordeste|    MA|2020-04-21 00:00:00|        76|           1396|          6|              60|Tem casos Novos|\n",
            "|Nordeste|    MA|2020-04-22 00:00:00|       208|           1604|          6|              66|Tem casos Novos|\n",
            "|Nordeste|    MA|2020-04-23 00:00:00|       153|           1757|         10|              76|Tem casos Novos|\n",
            "|Nordeste|    MA|2020-04-24 00:00:00|       194|           1951|         12|              88|Tem casos Novos|\n",
            "|Nordeste|    MA|2020-04-25 00:00:00|       154|           2105|         12|             100|Tem casos Novos|\n",
            "|Nordeste|    PI|2020-01-30 00:00:00|         0|              0|          0|               0|Sem casos Novos|\n",
            "|Nordeste|    PI|2020-01-31 00:00:00|         0|              0|          0|               0|Sem casos Novos|\n",
            "|Nordeste|    PI|2020-02-01 00:00:00|         0|              0|          0|               0|Sem casos Novos|\n",
            "|Nordeste|    PI|2020-02-02 00:00:00|         0|              0|          0|               0|Sem casos Novos|\n",
            "|Nordeste|    PI|2020-02-03 00:00:00|         0|              0|          0|               0|Sem casos Novos|\n",
            "|Nordeste|    PI|2020-02-04 00:00:00|         0|              0|          0|               0|Sem casos Novos|\n",
            "|Nordeste|    PI|2020-02-05 00:00:00|         0|              0|          0|               0|Sem casos Novos|\n",
            "|Nordeste|    PI|2020-02-06 00:00:00|         0|              0|          0|               0|Sem casos Novos|\n",
            "|Nordeste|    PI|2020-02-07 00:00:00|         0|              0|          0|               0|Sem casos Novos|\n",
            "|Nordeste|    PI|2020-02-08 00:00:00|         0|              0|          0|               0|Sem casos Novos|\n",
            "|Nordeste|    PI|2020-02-09 00:00:00|         0|              0|          0|               0|Sem casos Novos|\n",
            "|Nordeste|    PI|2020-02-10 00:00:00|         0|              0|          0|               0|Sem casos Novos|\n",
            "|Nordeste|    PI|2020-02-11 00:00:00|         0|              0|          0|               0|Sem casos Novos|\n",
            "|Nordeste|    PI|2020-02-12 00:00:00|         0|              0|          0|               0|Sem casos Novos|\n",
            "|Nordeste|    PI|2020-02-13 00:00:00|         0|              0|          0|               0|Sem casos Novos|\n",
            "|Nordeste|    PI|2020-02-14 00:00:00|         0|              0|          0|               0|Sem casos Novos|\n",
            "|Nordeste|    PI|2020-02-15 00:00:00|         0|              0|          0|               0|Sem casos Novos|\n",
            "|Nordeste|    PI|2020-02-16 00:00:00|         0|              0|          0|               0|Sem casos Novos|\n",
            "|Nordeste|    PI|2020-02-17 00:00:00|         0|              0|          0|               0|Sem casos Novos|\n",
            "|Nordeste|    PI|2020-02-18 00:00:00|         0|              0|          0|               0|Sem casos Novos|\n",
            "|Nordeste|    PI|2020-02-19 00:00:00|         0|              0|          0|               0|Sem casos Novos|\n",
            "|Nordeste|    PI|2020-02-20 00:00:00|         0|              0|          0|               0|Sem casos Novos|\n",
            "|Nordeste|    PI|2020-02-21 00:00:00|         0|              0|          0|               0|Sem casos Novos|\n",
            "|Nordeste|    PI|2020-02-22 00:00:00|         0|              0|          0|               0|Sem casos Novos|\n",
            "|Nordeste|    PI|2020-02-23 00:00:00|         0|              0|          0|               0|Sem casos Novos|\n",
            "|Nordeste|    PI|2020-02-24 00:00:00|         0|              0|          0|               0|Sem casos Novos|\n",
            "|Nordeste|    PI|2020-02-25 00:00:00|         0|              0|          0|               0|Sem casos Novos|\n",
            "|Nordeste|    PI|2020-02-26 00:00:00|         0|              0|          0|               0|Sem casos Novos|\n",
            "|Nordeste|    PI|2020-02-27 00:00:00|         0|              0|          0|               0|Sem casos Novos|\n",
            "|Nordeste|    PI|2020-02-28 00:00:00|         0|              0|          0|               0|Sem casos Novos|\n",
            "|Nordeste|    PI|2020-02-29 00:00:00|         0|              0|          0|               0|Sem casos Novos|\n",
            "|Nordeste|    PI|2020-03-01 00:00:00|         0|              0|          0|               0|Sem casos Novos|\n",
            "|Nordeste|    PI|2020-03-02 00:00:00|         0|              0|          0|               0|Sem casos Novos|\n",
            "|Nordeste|    PI|2020-03-03 00:00:00|         0|              0|          0|               0|Sem casos Novos|\n",
            "|Nordeste|    PI|2020-03-04 00:00:00|         0|              0|          0|               0|Sem casos Novos|\n",
            "|Nordeste|    PI|2020-03-05 00:00:00|         0|              0|          0|               0|Sem casos Novos|\n",
            "|Nordeste|    PI|2020-03-06 00:00:00|         0|              0|          0|               0|Sem casos Novos|\n",
            "|Nordeste|    PI|2020-03-07 00:00:00|         0|              0|          0|               0|Sem casos Novos|\n",
            "|Nordeste|    PI|2020-03-08 00:00:00|         0|              0|          0|               0|Sem casos Novos|\n",
            "|Nordeste|    PI|2020-03-09 00:00:00|         0|              0|          0|               0|Sem casos Novos|\n",
            "|Nordeste|    PI|2020-03-10 00:00:00|         0|              0|          0|               0|Sem casos Novos|\n",
            "|Nordeste|    PI|2020-03-11 00:00:00|         0|              0|          0|               0|Sem casos Novos|\n",
            "|Nordeste|    PI|2020-03-12 00:00:00|         0|              0|          0|               0|Sem casos Novos|\n",
            "|Nordeste|    PI|2020-03-13 00:00:00|         0|              0|          0|               0|Sem casos Novos|\n",
            "|Nordeste|    PI|2020-03-14 00:00:00|         0|              0|          0|               0|Sem casos Novos|\n",
            "|Nordeste|    PI|2020-03-15 00:00:00|         0|              0|          0|               0|Sem casos Novos|\n",
            "|Nordeste|    PI|2020-03-16 00:00:00|         0|              0|          0|               0|Sem casos Novos|\n",
            "|Nordeste|    PI|2020-03-17 00:00:00|         0|              0|          0|               0|Sem casos Novos|\n",
            "|Nordeste|    PI|2020-03-18 00:00:00|         0|              0|          0|               0|Sem casos Novos|\n",
            "|Nordeste|    PI|2020-03-19 00:00:00|         0|              0|          0|               0|Sem casos Novos|\n",
            "|Nordeste|    PI|2020-03-20 00:00:00|         3|              3|          0|               0|Tem casos Novos|\n",
            "|Nordeste|    PI|2020-03-21 00:00:00|         1|              4|          0|               0|Tem casos Novos|\n",
            "|Nordeste|    PI|2020-03-22 00:00:00|         0|              4|          0|               0|Sem casos Novos|\n",
            "|Nordeste|    PI|2020-03-23 00:00:00|         2|              6|          0|               0|Tem casos Novos|\n",
            "|Nordeste|    PI|2020-03-24 00:00:00|         0|              6|          0|               0|Sem casos Novos|\n",
            "|Nordeste|    PI|2020-03-25 00:00:00|         2|              8|          0|               0|Tem casos Novos|\n",
            "|Nordeste|    PI|2020-03-26 00:00:00|         1|              9|          0|               0|Tem casos Novos|\n",
            "|Nordeste|    PI|2020-03-27 00:00:00|         0|              9|          0|               0|Sem casos Novos|\n",
            "|Nordeste|    PI|2020-03-28 00:00:00|         2|             11|          1|               1|Tem casos Novos|\n",
            "|Nordeste|    PI|2020-03-29 00:00:00|         3|             14|          0|               1|Tem casos Novos|\n",
            "|Nordeste|    PI|2020-03-30 00:00:00|         2|             16|          2|               3|Tem casos Novos|\n",
            "|Nordeste|    PI|2020-03-31 00:00:00|         2|             18|          1|               4|Tem casos Novos|\n",
            "|Nordeste|    PI|2020-04-01 00:00:00|         0|             18|          0|               4|Sem casos Novos|\n",
            "|Nordeste|    PI|2020-04-02 00:00:00|         1|             19|          0|               4|Tem casos Novos|\n",
            "|Nordeste|    PI|2020-04-03 00:00:00|         2|             21|          0|               4|Tem casos Novos|\n",
            "|Nordeste|    PI|2020-04-04 00:00:00|         1|             22|          0|               4|Tem casos Novos|\n",
            "|Nordeste|    PI|2020-04-05 00:00:00|         1|             23|          0|               4|Tem casos Novos|\n",
            "|Nordeste|    PI|2020-04-06 00:00:00|         0|             23|          0|               4|Sem casos Novos|\n",
            "|Nordeste|    PI|2020-04-07 00:00:00|         5|             28|          0|               4|Tem casos Novos|\n",
            "|Nordeste|    PI|2020-04-08 00:00:00|         3|             31|          1|               5|Tem casos Novos|\n",
            "|Nordeste|    PI|2020-04-09 00:00:00|         7|             38|          1|               6|Tem casos Novos|\n",
            "|Nordeste|    PI|2020-04-10 00:00:00|         2|             40|          1|               7|Tem casos Novos|\n",
            "|Nordeste|    PI|2020-04-11 00:00:00|         1|             41|          0|               7|Tem casos Novos|\n",
            "|Nordeste|    PI|2020-04-12 00:00:00|         3|             44|          0|               7|Tem casos Novos|\n",
            "|Nordeste|    PI|2020-04-13 00:00:00|         6|             50|          1|               8|Tem casos Novos|\n",
            "|Nordeste|    PI|2020-04-14 00:00:00|         8|             58|          0|               8|Tem casos Novos|\n",
            "|Nordeste|    PI|2020-04-15 00:00:00|        17|             75|          0|               8|Tem casos Novos|\n",
            "|Nordeste|    PI|2020-04-16 00:00:00|        16|             91|          0|               8|Tem casos Novos|\n",
            "|Nordeste|    PI|2020-04-17 00:00:00|        11|            102|          0|               8|Tem casos Novos|\n",
            "|Nordeste|    PI|2020-04-18 00:00:00|        21|            123|          1|               9|Tem casos Novos|\n",
            "|Nordeste|    PI|2020-04-19 00:00:00|        22|            145|          1|              10|Tem casos Novos|\n",
            "|Nordeste|    PI|2020-04-20 00:00:00|        13|            158|          2|              12|Tem casos Novos|\n",
            "|Nordeste|    PI|2020-04-21 00:00:00|        28|            186|          2|              14|Tem casos Novos|\n",
            "|Nordeste|    PI|2020-04-22 00:00:00|        20|            206|          1|              15|Tem casos Novos|\n",
            "|Nordeste|    PI|2020-04-23 00:00:00|        11|            217|          0|              15|Tem casos Novos|\n",
            "|Nordeste|    PI|2020-04-24 00:00:00|        39|            256|          1|              16|Tem casos Novos|\n",
            "|Nordeste|    PI|2020-04-25 00:00:00|        41|            297|          1|              17|Tem casos Novos|\n",
            "|Nordeste|    CE|2020-01-30 00:00:00|         0|              0|          0|               0|Sem casos Novos|\n",
            "|Nordeste|    CE|2020-01-31 00:00:00|         0|              0|          0|               0|Sem casos Novos|\n",
            "|Nordeste|    CE|2020-02-01 00:00:00|         0|              0|          0|               0|Sem casos Novos|\n",
            "|Nordeste|    CE|2020-02-02 00:00:00|         0|              0|          0|               0|Sem casos Novos|\n",
            "|Nordeste|    CE|2020-02-03 00:00:00|         0|              0|          0|               0|Sem casos Novos|\n",
            "|Nordeste|    CE|2020-02-04 00:00:00|         0|              0|          0|               0|Sem casos Novos|\n",
            "|Nordeste|    CE|2020-02-05 00:00:00|         0|              0|          0|               0|Sem casos Novos|\n",
            "|Nordeste|    CE|2020-02-06 00:00:00|         0|              0|          0|               0|Sem casos Novos|\n",
            "|Nordeste|    CE|2020-02-07 00:00:00|         0|              0|          0|               0|Sem casos Novos|\n",
            "|Nordeste|    CE|2020-02-08 00:00:00|         0|              0|          0|               0|Sem casos Novos|\n",
            "|Nordeste|    CE|2020-02-09 00:00:00|         0|              0|          0|               0|Sem casos Novos|\n",
            "|Nordeste|    CE|2020-02-10 00:00:00|         0|              0|          0|               0|Sem casos Novos|\n",
            "|Nordeste|    CE|2020-02-11 00:00:00|         0|              0|          0|               0|Sem casos Novos|\n",
            "|Nordeste|    CE|2020-02-12 00:00:00|         0|              0|          0|               0|Sem casos Novos|\n",
            "|Nordeste|    CE|2020-02-13 00:00:00|         0|              0|          0|               0|Sem casos Novos|\n",
            "|Nordeste|    CE|2020-02-14 00:00:00|         0|              0|          0|               0|Sem casos Novos|\n",
            "|Nordeste|    CE|2020-02-15 00:00:00|         0|              0|          0|               0|Sem casos Novos|\n",
            "|Nordeste|    CE|2020-02-16 00:00:00|         0|              0|          0|               0|Sem casos Novos|\n",
            "|Nordeste|    CE|2020-02-17 00:00:00|         0|              0|          0|               0|Sem casos Novos|\n",
            "|Nordeste|    CE|2020-02-18 00:00:00|         0|              0|          0|               0|Sem casos Novos|\n",
            "|Nordeste|    CE|2020-02-19 00:00:00|         0|              0|          0|               0|Sem casos Novos|\n",
            "|Nordeste|    CE|2020-02-20 00:00:00|         0|              0|          0|               0|Sem casos Novos|\n",
            "|Nordeste|    CE|2020-02-21 00:00:00|         0|              0|          0|               0|Sem casos Novos|\n",
            "|Nordeste|    CE|2020-02-22 00:00:00|         0|              0|          0|               0|Sem casos Novos|\n",
            "|Nordeste|    CE|2020-02-23 00:00:00|         0|              0|          0|               0|Sem casos Novos|\n",
            "|Nordeste|    CE|2020-02-24 00:00:00|         0|              0|          0|               0|Sem casos Novos|\n",
            "|Nordeste|    CE|2020-02-25 00:00:00|         0|              0|          0|               0|Sem casos Novos|\n",
            "|Nordeste|    CE|2020-02-26 00:00:00|         0|              0|          0|               0|Sem casos Novos|\n",
            "|Nordeste|    CE|2020-02-27 00:00:00|         0|              0|          0|               0|Sem casos Novos|\n",
            "|Nordeste|    CE|2020-02-28 00:00:00|         0|              0|          0|               0|Sem casos Novos|\n",
            "|Nordeste|    CE|2020-02-29 00:00:00|         0|              0|          0|               0|Sem casos Novos|\n",
            "|Nordeste|    CE|2020-03-01 00:00:00|         0|              0|          0|               0|Sem casos Novos|\n",
            "|Nordeste|    CE|2020-03-02 00:00:00|         0|              0|          0|               0|Sem casos Novos|\n",
            "|Nordeste|    CE|2020-03-03 00:00:00|         0|              0|          0|               0|Sem casos Novos|\n",
            "|Nordeste|    CE|2020-03-04 00:00:00|         0|              0|          0|               0|Sem casos Novos|\n",
            "|Nordeste|    CE|2020-03-05 00:00:00|         0|              0|          0|               0|Sem casos Novos|\n",
            "|Nordeste|    CE|2020-03-06 00:00:00|         0|              0|          0|               0|Sem casos Novos|\n",
            "|Nordeste|    CE|2020-03-07 00:00:00|         0|              0|          0|               0|Sem casos Novos|\n",
            "|Nordeste|    CE|2020-03-08 00:00:00|         0|              0|          0|               0|Sem casos Novos|\n",
            "|Nordeste|    CE|2020-03-09 00:00:00|         0|              0|          0|               0|Sem casos Novos|\n",
            "|Nordeste|    CE|2020-03-10 00:00:00|         0|              0|          0|               0|Sem casos Novos|\n",
            "|Nordeste|    CE|2020-03-11 00:00:00|         0|              0|          0|               0|Sem casos Novos|\n",
            "|Nordeste|    CE|2020-03-12 00:00:00|         0|              0|          0|               0|Sem casos Novos|\n",
            "|Nordeste|    CE|2020-03-13 00:00:00|         0|              0|          0|               0|Sem casos Novos|\n",
            "|Nordeste|    CE|2020-03-14 00:00:00|         0|              0|          0|               0|Sem casos Novos|\n",
            "|Nordeste|    CE|2020-03-15 00:00:00|         0|              0|          0|               0|Sem casos Novos|\n",
            "|Nordeste|    CE|2020-03-16 00:00:00|         0|              0|          0|               0|Sem casos Novos|\n",
            "|Nordeste|    CE|2020-03-17 00:00:00|         5|              5|          0|               0|Tem casos Novos|\n",
            "|Nordeste|    CE|2020-03-18 00:00:00|         4|              9|          0|               0|Tem casos Novos|\n",
            "|Nordeste|    CE|2020-03-19 00:00:00|        11|             20|          0|               0|Tem casos Novos|\n",
            "|Nordeste|    CE|2020-03-20 00:00:00|        35|             55|          0|               0|Tem casos Novos|\n",
            "|Nordeste|    CE|2020-03-21 00:00:00|        13|             68|          0|               0|Tem casos Novos|\n",
            "|Nordeste|    CE|2020-03-22 00:00:00|        44|            112|          0|               0|Tem casos Novos|\n",
            "|Nordeste|    CE|2020-03-23 00:00:00|        51|            163|          0|               0|Tem casos Novos|\n",
            "|Nordeste|    CE|2020-03-24 00:00:00|        19|            182|          0|               0|Tem casos Novos|\n",
            "|Nordeste|    CE|2020-03-25 00:00:00|        18|            200|          0|               0|Tem casos Novos|\n",
            "|Nordeste|    CE|2020-03-26 00:00:00|        35|            235|          3|               3|Tem casos Novos|\n",
            "|Nordeste|    CE|2020-03-27 00:00:00|        47|            282|          0|               3|Tem casos Novos|\n",
            "|Nordeste|    CE|2020-03-28 00:00:00|        32|            314|          1|               4|Tem casos Novos|\n",
            "|Nordeste|    CE|2020-03-29 00:00:00|        34|            348|          1|               5|Tem casos Novos|\n",
            "|Nordeste|    CE|2020-03-30 00:00:00|        24|            372|          0|               5|Tem casos Novos|\n",
            "|Nordeste|    CE|2020-03-31 00:00:00|        18|            390|          2|               7|Tem casos Novos|\n",
            "|Nordeste|    CE|2020-04-01 00:00:00|        54|            444|          1|               8|Tem casos Novos|\n",
            "|Nordeste|    CE|2020-04-02 00:00:00|       106|            550|         12|              20|Tem casos Novos|\n",
            "|Nordeste|    CE|2020-04-03 00:00:00|        77|            627|          2|              22|Tem casos Novos|\n",
            "|Nordeste|    CE|2020-04-04 00:00:00|       103|            730|          0|              22|Tem casos Novos|\n",
            "|Nordeste|    CE|2020-04-05 00:00:00|        93|            823|          4|              26|Tem casos Novos|\n",
            "|Nordeste|    CE|2020-04-06 00:00:00|       190|           1013|          3|              29|Tem casos Novos|\n",
            "|Nordeste|    CE|2020-04-07 00:00:00|        38|           1051|          2|              31|Tem casos Novos|\n",
            "|Nordeste|    CE|2020-04-08 00:00:00|       240|           1291|         12|              43|Tem casos Novos|\n",
            "|Nordeste|    CE|2020-04-09 00:00:00|       134|           1425|         12|              55|Tem casos Novos|\n",
            "|Nordeste|    CE|2020-04-10 00:00:00|        53|           1478|          3|              58|Tem casos Novos|\n",
            "|Nordeste|    CE|2020-04-11 00:00:00|       104|           1582|          9|              67|Tem casos Novos|\n",
            "|Nordeste|    CE|2020-04-12 00:00:00|        94|           1676|          7|              74|Tem casos Novos|\n",
            "|Nordeste|    CE|2020-04-13 00:00:00|       124|           1800|         17|              91|Tem casos Novos|\n",
            "|Nordeste|    CE|2020-04-14 00:00:00|       205|           2005|         16|             107|Tem casos Novos|\n",
            "|Nordeste|    CE|2020-04-15 00:00:00|       152|           2157|          9|             116|Tem casos Novos|\n",
            "|Nordeste|    CE|2020-04-16 00:00:00|       229|           2386|          8|             124|Tem casos Novos|\n",
            "|Nordeste|    CE|2020-04-17 00:00:00|       298|           2684|         25|             149|Tem casos Novos|\n",
            "|Nordeste|    CE|2020-04-18 00:00:00|       350|           3034|         27|             176|Tem casos Novos|\n",
            "|Nordeste|    CE|2020-04-19 00:00:00|       218|           3252|         10|             186|Tem casos Novos|\n",
            "|Nordeste|    CE|2020-04-20 00:00:00|       230|           3482|         12|             198|Tem casos Novos|\n",
            "|Nordeste|    CE|2020-04-21 00:00:00|       234|           3716|         17|             215|Tem casos Novos|\n",
            "|Nordeste|    CE|2020-04-22 00:00:00|       194|           3910|         18|             233|Tem casos Novos|\n",
            "|Nordeste|    CE|2020-04-23 00:00:00|       688|           4598|         33|             266|Tem casos Novos|\n",
            "|Nordeste|    CE|2020-04-24 00:00:00|       202|           4800|         18|             284|Tem casos Novos|\n",
            "|Nordeste|    CE|2020-04-25 00:00:00|       621|           5421|         26|             310|Tem casos Novos|\n",
            "|Nordeste|    RN|2020-01-30 00:00:00|         0|              0|          0|               0|Sem casos Novos|\n",
            "|Nordeste|    RN|2020-01-31 00:00:00|         0|              0|          0|               0|Sem casos Novos|\n",
            "|Nordeste|    RN|2020-02-01 00:00:00|         0|              0|          0|               0|Sem casos Novos|\n",
            "|Nordeste|    RN|2020-02-02 00:00:00|         0|              0|          0|               0|Sem casos Novos|\n",
            "|Nordeste|    RN|2020-02-03 00:00:00|         0|              0|          0|               0|Sem casos Novos|\n",
            "|Nordeste|    RN|2020-02-04 00:00:00|         0|              0|          0|               0|Sem casos Novos|\n",
            "|Nordeste|    RN|2020-02-05 00:00:00|         0|              0|          0|               0|Sem casos Novos|\n",
            "|Nordeste|    RN|2020-02-06 00:00:00|         0|              0|          0|               0|Sem casos Novos|\n",
            "|Nordeste|    RN|2020-02-07 00:00:00|         0|              0|          0|               0|Sem casos Novos|\n",
            "|Nordeste|    RN|2020-02-08 00:00:00|         0|              0|          0|               0|Sem casos Novos|\n",
            "|Nordeste|    RN|2020-02-09 00:00:00|         0|              0|          0|               0|Sem casos Novos|\n",
            "|Nordeste|    RN|2020-02-10 00:00:00|         0|              0|          0|               0|Sem casos Novos|\n",
            "|Nordeste|    RN|2020-02-11 00:00:00|         0|              0|          0|               0|Sem casos Novos|\n",
            "|Nordeste|    RN|2020-02-12 00:00:00|         0|              0|          0|               0|Sem casos Novos|\n",
            "|Nordeste|    RN|2020-02-13 00:00:00|         0|              0|          0|               0|Sem casos Novos|\n",
            "|Nordeste|    RN|2020-02-14 00:00:00|         0|              0|          0|               0|Sem casos Novos|\n",
            "|Nordeste|    RN|2020-02-15 00:00:00|         0|              0|          0|               0|Sem casos Novos|\n",
            "|Nordeste|    RN|2020-02-16 00:00:00|         0|              0|          0|               0|Sem casos Novos|\n",
            "|Nordeste|    RN|2020-02-17 00:00:00|         0|              0|          0|               0|Sem casos Novos|\n",
            "|Nordeste|    RN|2020-02-18 00:00:00|         0|              0|          0|               0|Sem casos Novos|\n",
            "|Nordeste|    RN|2020-02-19 00:00:00|         0|              0|          0|               0|Sem casos Novos|\n",
            "|Nordeste|    RN|2020-02-20 00:00:00|         0|              0|          0|               0|Sem casos Novos|\n",
            "|Nordeste|    RN|2020-02-21 00:00:00|         0|              0|          0|               0|Sem casos Novos|\n",
            "|Nordeste|    RN|2020-02-22 00:00:00|         0|              0|          0|               0|Sem casos Novos|\n",
            "|Nordeste|    RN|2020-02-23 00:00:00|         0|              0|          0|               0|Sem casos Novos|\n",
            "|Nordeste|    RN|2020-02-24 00:00:00|         0|              0|          0|               0|Sem casos Novos|\n",
            "|Nordeste|    RN|2020-02-25 00:00:00|         0|              0|          0|               0|Sem casos Novos|\n",
            "|Nordeste|    RN|2020-02-26 00:00:00|         0|              0|          0|               0|Sem casos Novos|\n",
            "|Nordeste|    RN|2020-02-27 00:00:00|         0|              0|          0|               0|Sem casos Novos|\n",
            "|Nordeste|    RN|2020-02-28 00:00:00|         0|              0|          0|               0|Sem casos Novos|\n",
            "|Nordeste|    RN|2020-02-29 00:00:00|         0|              0|          0|               0|Sem casos Novos|\n",
            "|Nordeste|    RN|2020-03-01 00:00:00|         0|              0|          0|               0|Sem casos Novos|\n",
            "|Nordeste|    RN|2020-03-02 00:00:00|         0|              0|          0|               0|Sem casos Novos|\n",
            "|Nordeste|    RN|2020-03-03 00:00:00|         0|              0|          0|               0|Sem casos Novos|\n",
            "|Nordeste|    RN|2020-03-04 00:00:00|         0|              0|          0|               0|Sem casos Novos|\n",
            "|Nordeste|    RN|2020-03-05 00:00:00|         0|              0|          0|               0|Sem casos Novos|\n",
            "|Nordeste|    RN|2020-03-06 00:00:00|         0|              0|          0|               0|Sem casos Novos|\n",
            "|Nordeste|    RN|2020-03-07 00:00:00|         0|              0|          0|               0|Sem casos Novos|\n",
            "|Nordeste|    RN|2020-03-08 00:00:00|         0|              0|          0|               0|Sem casos Novos|\n",
            "|Nordeste|    RN|2020-03-09 00:00:00|         0|              0|          0|               0|Sem casos Novos|\n",
            "|Nordeste|    RN|2020-03-10 00:00:00|         0|              0|          0|               0|Sem casos Novos|\n",
            "|Nordeste|    RN|2020-03-11 00:00:00|         0|              0|          0|               0|Sem casos Novos|\n",
            "|Nordeste|    RN|2020-03-12 00:00:00|         0|              0|          0|               0|Sem casos Novos|\n",
            "|Nordeste|    RN|2020-03-13 00:00:00|         1|              1|          0|               0|Tem casos Novos|\n",
            "|Nordeste|    RN|2020-03-14 00:00:00|         0|              1|          0|               0|Sem casos Novos|\n",
            "|Nordeste|    RN|2020-03-15 00:00:00|         0|              1|          0|               0|Sem casos Novos|\n",
            "|Nordeste|    RN|2020-03-16 00:00:00|         0|              1|          0|               0|Sem casos Novos|\n",
            "|Nordeste|    RN|2020-03-17 00:00:00|         0|              1|          0|               0|Sem casos Novos|\n",
            "|Nordeste|    RN|2020-03-18 00:00:00|         0|              1|          0|               0|Sem casos Novos|\n",
            "|Nordeste|    RN|2020-03-19 00:00:00|         0|              1|          0|               0|Sem casos Novos|\n",
            "|Nordeste|    RN|2020-03-20 00:00:00|         0|              1|          0|               0|Sem casos Novos|\n",
            "|Nordeste|    RN|2020-03-21 00:00:00|         5|              6|          0|               0|Tem casos Novos|\n",
            "|Nordeste|    RN|2020-03-22 00:00:00|         3|              9|          0|               0|Tem casos Novos|\n",
            "|Nordeste|    RN|2020-03-23 00:00:00|         4|             13|          0|               0|Tem casos Novos|\n",
            "|Nordeste|    RN|2020-03-24 00:00:00|         0|             13|          0|               0|Sem casos Novos|\n",
            "|Nordeste|    RN|2020-03-25 00:00:00|         1|             14|          0|               0|Tem casos Novos|\n",
            "|Nordeste|    RN|2020-03-26 00:00:00|         5|             19|          0|               0|Tem casos Novos|\n",
            "|Nordeste|    RN|2020-03-27 00:00:00|         9|             28|          0|               0|Tem casos Novos|\n",
            "|Nordeste|    RN|2020-03-28 00:00:00|        17|             45|          0|               0|Tem casos Novos|\n",
            "|Nordeste|    RN|2020-03-29 00:00:00|        23|             68|          1|               1|Tem casos Novos|\n",
            "|Nordeste|    RN|2020-03-30 00:00:00|         9|             77|          0|               1|Tem casos Novos|\n",
            "|Nordeste|    RN|2020-03-31 00:00:00|         5|             82|          0|               1|Tem casos Novos|\n",
            "|Nordeste|    RN|2020-04-01 00:00:00|        10|             92|          1|               2|Tem casos Novos|\n",
            "|Nordeste|    RN|2020-04-02 00:00:00|        13|            105|          0|               2|Tem casos Novos|\n",
            "|Nordeste|    RN|2020-04-03 00:00:00|        71|            176|          2|               4|Tem casos Novos|\n",
            "|Nordeste|    RN|2020-04-04 00:00:00|        36|            212|          1|               5|Tem casos Novos|\n",
            "|Nordeste|    RN|2020-04-05 00:00:00|        30|            242|          2|               7|Tem casos Novos|\n",
            "|Nordeste|    RN|2020-04-06 00:00:00|         4|            246|          0|               7|Tem casos Novos|\n",
            "|Nordeste|    RN|2020-04-07 00:00:00|         8|            254|          1|               8|Tem casos Novos|\n",
            "|Nordeste|    RN|2020-04-08 00:00:00|         7|            261|          3|              11|Tem casos Novos|\n",
            "|Nordeste|    RN|2020-04-09 00:00:00|         0|            261|          0|              11|Sem casos Novos|\n",
            "|Nordeste|    RN|2020-04-10 00:00:00|         2|            263|          0|              11|Tem casos Novos|\n",
            "|Nordeste|    RN|2020-04-11 00:00:00|        26|            289|          2|              13|Tem casos Novos|\n",
            "|Nordeste|    RN|2020-04-12 00:00:00|        13|            302|          2|              15|Tem casos Novos|\n",
            "|Nordeste|    RN|2020-04-13 00:00:00|        37|            339|          2|              17|Tem casos Novos|\n",
            "|Nordeste|    RN|2020-04-14 00:00:00|        37|            376|          1|              18|Tem casos Novos|\n",
            "|Nordeste|    RN|2020-04-15 00:00:00|        23|            399|          1|              19|Tem casos Novos|\n",
            "|Nordeste|    RN|2020-04-16 00:00:00|         1|            400|          1|              20|Tem casos Novos|\n",
            "|Nordeste|    RN|2020-04-17 00:00:00|        63|            463|          3|              23|Tem casos Novos|\n",
            "|Nordeste|    RN|2020-04-18 00:00:00|        53|            516|          1|              24|Tem casos Novos|\n",
            "|Nordeste|    RN|2020-04-19 00:00:00|        15|            531|          1|              25|Tem casos Novos|\n",
            "|Nordeste|    RN|2020-04-20 00:00:00|        64|            595|          2|              27|Tem casos Novos|\n",
            "|Nordeste|    RN|2020-04-21 00:00:00|        13|            608|          1|              28|Tem casos Novos|\n",
            "|Nordeste|    RN|2020-04-22 00:00:00|        38|            646|          1|              29|Tem casos Novos|\n",
            "|Nordeste|    RN|2020-04-23 00:00:00|        62|            708|          5|              34|Tem casos Novos|\n",
            "|Nordeste|    RN|2020-04-24 00:00:00|        46|            754|          4|              38|Tem casos Novos|\n",
            "|Nordeste|    RN|2020-04-25 00:00:00|        27|            781|          2|              40|Tem casos Novos|\n",
            "|Nordeste|    PB|2020-01-30 00:00:00|         0|              0|          0|               0|Sem casos Novos|\n",
            "|Nordeste|    PB|2020-01-31 00:00:00|         0|              0|          0|               0|Sem casos Novos|\n",
            "|Nordeste|    PB|2020-02-01 00:00:00|         0|              0|          0|               0|Sem casos Novos|\n",
            "|Nordeste|    PB|2020-02-02 00:00:00|         0|              0|          0|               0|Sem casos Novos|\n",
            "|Nordeste|    PB|2020-02-03 00:00:00|         0|              0|          0|               0|Sem casos Novos|\n",
            "|Nordeste|    PB|2020-02-04 00:00:00|         0|              0|          0|               0|Sem casos Novos|\n",
            "|Nordeste|    PB|2020-02-05 00:00:00|         0|              0|          0|               0|Sem casos Novos|\n",
            "|Nordeste|    PB|2020-02-06 00:00:00|         0|              0|          0|               0|Sem casos Novos|\n",
            "|Nordeste|    PB|2020-02-07 00:00:00|         0|              0|          0|               0|Sem casos Novos|\n",
            "|Nordeste|    PB|2020-02-08 00:00:00|         0|              0|          0|               0|Sem casos Novos|\n",
            "|Nordeste|    PB|2020-02-09 00:00:00|         0|              0|          0|               0|Sem casos Novos|\n",
            "|Nordeste|    PB|2020-02-10 00:00:00|         0|              0|          0|               0|Sem casos Novos|\n",
            "|Nordeste|    PB|2020-02-11 00:00:00|         0|              0|          0|               0|Sem casos Novos|\n",
            "|Nordeste|    PB|2020-02-12 00:00:00|         0|              0|          0|               0|Sem casos Novos|\n",
            "|Nordeste|    PB|2020-02-13 00:00:00|         0|              0|          0|               0|Sem casos Novos|\n",
            "|Nordeste|    PB|2020-02-14 00:00:00|         0|              0|          0|               0|Sem casos Novos|\n",
            "|Nordeste|    PB|2020-02-15 00:00:00|         0|              0|          0|               0|Sem casos Novos|\n",
            "|Nordeste|    PB|2020-02-16 00:00:00|         0|              0|          0|               0|Sem casos Novos|\n",
            "|Nordeste|    PB|2020-02-17 00:00:00|         0|              0|          0|               0|Sem casos Novos|\n",
            "|Nordeste|    PB|2020-02-18 00:00:00|         0|              0|          0|               0|Sem casos Novos|\n",
            "|Nordeste|    PB|2020-02-19 00:00:00|         0|              0|          0|               0|Sem casos Novos|\n",
            "|Nordeste|    PB|2020-02-20 00:00:00|         0|              0|          0|               0|Sem casos Novos|\n",
            "|Nordeste|    PB|2020-02-21 00:00:00|         0|              0|          0|               0|Sem casos Novos|\n",
            "|Nordeste|    PB|2020-02-22 00:00:00|         0|              0|          0|               0|Sem casos Novos|\n",
            "|Nordeste|    PB|2020-02-23 00:00:00|         0|              0|          0|               0|Sem casos Novos|\n",
            "|Nordeste|    PB|2020-02-24 00:00:00|         0|              0|          0|               0|Sem casos Novos|\n",
            "|Nordeste|    PB|2020-02-25 00:00:00|         0|              0|          0|               0|Sem casos Novos|\n",
            "|Nordeste|    PB|2020-02-26 00:00:00|         0|              0|          0|               0|Sem casos Novos|\n",
            "|Nordeste|    PB|2020-02-27 00:00:00|         0|              0|          0|               0|Sem casos Novos|\n",
            "|Nordeste|    PB|2020-02-28 00:00:00|         0|              0|          0|               0|Sem casos Novos|\n",
            "|Nordeste|    PB|2020-02-29 00:00:00|         0|              0|          0|               0|Sem casos Novos|\n",
            "|Nordeste|    PB|2020-03-01 00:00:00|         0|              0|          0|               0|Sem casos Novos|\n",
            "|Nordeste|    PB|2020-03-02 00:00:00|         0|              0|          0|               0|Sem casos Novos|\n",
            "|Nordeste|    PB|2020-03-03 00:00:00|         0|              0|          0|               0|Sem casos Novos|\n",
            "|Nordeste|    PB|2020-03-04 00:00:00|         0|              0|          0|               0|Sem casos Novos|\n",
            "|Nordeste|    PB|2020-03-05 00:00:00|         0|              0|          0|               0|Sem casos Novos|\n",
            "|Nordeste|    PB|2020-03-06 00:00:00|         0|              0|          0|               0|Sem casos Novos|\n",
            "|Nordeste|    PB|2020-03-07 00:00:00|         0|              0|          0|               0|Sem casos Novos|\n",
            "|Nordeste|    PB|2020-03-08 00:00:00|         0|              0|          0|               0|Sem casos Novos|\n",
            "|Nordeste|    PB|2020-03-09 00:00:00|         0|              0|          0|               0|Sem casos Novos|\n",
            "|Nordeste|    PB|2020-03-10 00:00:00|         0|              0|          0|               0|Sem casos Novos|\n",
            "|Nordeste|    PB|2020-03-11 00:00:00|         0|              0|          0|               0|Sem casos Novos|\n",
            "|Nordeste|    PB|2020-03-12 00:00:00|         0|              0|          0|               0|Sem casos Novos|\n",
            "+--------+------+-------------------+----------+---------------+-----------+----------------+---------------+\n",
            "only showing top 1000 rows\n",
            "\n"
          ]
        }
      ]
    },
    {
      "cell_type": "code",
      "source": [
        "#SEPARAÇÃO DE DATAS\n",
        "df2.select(F.col('data')).show(3)"
      ],
      "metadata": {
        "colab": {
          "base_uri": "https://localhost:8080/"
        },
        "id": "B3j2-yi-16YW",
        "outputId": "a1642c85-284f-405a-d35b-1c9063c44221"
      },
      "execution_count": null,
      "outputs": [
        {
          "output_type": "stream",
          "name": "stdout",
          "text": [
            "+-------------------+\n",
            "|               data|\n",
            "+-------------------+\n",
            "|2020-01-30 00:00:00|\n",
            "|2020-01-31 00:00:00|\n",
            "|2020-02-01 00:00:00|\n",
            "+-------------------+\n",
            "only showing top 3 rows\n",
            "\n"
          ]
        }
      ]
    },
    {
      "cell_type": "code",
      "source": [
        "#FUNÇÃO SUBSTRING\n",
        "df2.withColumn('Dia', F.substring(F.col('data'), 9, 2)).show()   "
      ],
      "metadata": {
        "colab": {
          "base_uri": "https://localhost:8080/"
        },
        "id": "-TOWL0CN2AHt",
        "outputId": "bd40d10a-5c5a-4ba3-d428-e612b1fa1728"
      },
      "execution_count": null,
      "outputs": [
        {
          "output_type": "stream",
          "name": "stdout",
          "text": [
            "+------+------+-------------------+----------+---------------+-----------+----------------+---+\n",
            "|regiao|estado|               data|casosNovos|casosAcumulados|obitosNovos|obitosAcumulados|Dia|\n",
            "+------+------+-------------------+----------+---------------+-----------+----------------+---+\n",
            "| Norte|    RO|2020-01-30 00:00:00|         0|              0|          0|               0| 30|\n",
            "| Norte|    RO|2020-01-31 00:00:00|         0|              0|          0|               0| 31|\n",
            "| Norte|    RO|2020-02-01 00:00:00|         0|              0|          0|               0| 01|\n",
            "| Norte|    RO|2020-02-02 00:00:00|         0|              0|          0|               0| 02|\n",
            "| Norte|    RO|2020-02-03 00:00:00|         0|              0|          0|               0| 03|\n",
            "| Norte|    RO|2020-02-04 00:00:00|         0|              0|          0|               0| 04|\n",
            "| Norte|    RO|2020-02-05 00:00:00|         0|              0|          0|               0| 05|\n",
            "| Norte|    RO|2020-02-06 00:00:00|         0|              0|          0|               0| 06|\n",
            "| Norte|    RO|2020-02-07 00:00:00|         0|              0|          0|               0| 07|\n",
            "| Norte|    RO|2020-02-08 00:00:00|         0|              0|          0|               0| 08|\n",
            "| Norte|    RO|2020-02-09 00:00:00|         0|              0|          0|               0| 09|\n",
            "| Norte|    RO|2020-02-10 00:00:00|         0|              0|          0|               0| 10|\n",
            "| Norte|    RO|2020-02-11 00:00:00|         0|              0|          0|               0| 11|\n",
            "| Norte|    RO|2020-02-12 00:00:00|         0|              0|          0|               0| 12|\n",
            "| Norte|    RO|2020-02-13 00:00:00|         0|              0|          0|               0| 13|\n",
            "| Norte|    RO|2020-02-14 00:00:00|         0|              0|          0|               0| 14|\n",
            "| Norte|    RO|2020-02-15 00:00:00|         0|              0|          0|               0| 15|\n",
            "| Norte|    RO|2020-02-16 00:00:00|         0|              0|          0|               0| 16|\n",
            "| Norte|    RO|2020-02-17 00:00:00|         0|              0|          0|               0| 17|\n",
            "| Norte|    RO|2020-02-18 00:00:00|         0|              0|          0|               0| 18|\n",
            "+------+------+-------------------+----------+---------------+-----------+----------------+---+\n",
            "only showing top 20 rows\n",
            "\n"
          ]
        }
      ]
    },
    {
      "cell_type": "code",
      "source": [
        "#FUNÇÃO SUBSTRING\n",
        "df3 = df2.withColumn('Dia', F.substring(F.col('data'), 9, 2))\\\n",
        "      .withColumn('Mes', F.substring(F.col('data'), 6, 2))\\\n",
        "      .withColumn('Ano', F.substring(F.col('data'), 1, 4))"
      ],
      "metadata": {
        "id": "KD0I5OQu2X3V"
      },
      "execution_count": null,
      "outputs": []
    },
    {
      "cell_type": "code",
      "source": [
        "df3.show(10)"
      ],
      "metadata": {
        "colab": {
          "base_uri": "https://localhost:8080/"
        },
        "id": "Qx7uNx034-qF",
        "outputId": "17d81944-dbd6-413e-8812-a59c1f2f32b8"
      },
      "execution_count": null,
      "outputs": [
        {
          "output_type": "stream",
          "name": "stdout",
          "text": [
            "+------+------+-------------------+----------+---------------+-----------+----------------+---+---+----+\n",
            "|regiao|estado|               data|casosNovos|casosAcumulados|obitosNovos|obitosAcumulados|Dia|Mes| Ano|\n",
            "+------+------+-------------------+----------+---------------+-----------+----------------+---+---+----+\n",
            "| Norte|    RO|2020-01-30 00:00:00|         0|              0|          0|               0| 30| 01|2020|\n",
            "| Norte|    RO|2020-01-31 00:00:00|         0|              0|          0|               0| 31| 01|2020|\n",
            "| Norte|    RO|2020-02-01 00:00:00|         0|              0|          0|               0| 01| 02|2020|\n",
            "| Norte|    RO|2020-02-02 00:00:00|         0|              0|          0|               0| 02| 02|2020|\n",
            "| Norte|    RO|2020-02-03 00:00:00|         0|              0|          0|               0| 03| 02|2020|\n",
            "| Norte|    RO|2020-02-04 00:00:00|         0|              0|          0|               0| 04| 02|2020|\n",
            "| Norte|    RO|2020-02-05 00:00:00|         0|              0|          0|               0| 05| 02|2020|\n",
            "| Norte|    RO|2020-02-06 00:00:00|         0|              0|          0|               0| 06| 02|2020|\n",
            "| Norte|    RO|2020-02-07 00:00:00|         0|              0|          0|               0| 07| 02|2020|\n",
            "| Norte|    RO|2020-02-08 00:00:00|         0|              0|          0|               0| 08| 02|2020|\n",
            "+------+------+-------------------+----------+---------------+-----------+----------------+---+---+----+\n",
            "only showing top 10 rows\n",
            "\n"
          ]
        }
      ]
    },
    {
      "cell_type": "code",
      "source": [
        "#DROPANDO UMA COLUNA DESNECESSÁRIA NO DATAFRAME\n",
        "df3.drop(F.col('data')).show()"
      ],
      "metadata": {
        "colab": {
          "base_uri": "https://localhost:8080/"
        },
        "id": "v4kgCCaj4_kC",
        "outputId": "2a369f05-fd3f-4719-9f86-061cc91c1d20"
      },
      "execution_count": null,
      "outputs": [
        {
          "output_type": "stream",
          "name": "stdout",
          "text": [
            "+------+------+----------+---------------+-----------+----------------+---+---+----+\n",
            "|regiao|estado|casosNovos|casosAcumulados|obitosNovos|obitosAcumulados|Dia|Mes| Ano|\n",
            "+------+------+----------+---------------+-----------+----------------+---+---+----+\n",
            "| Norte|    RO|         0|              0|          0|               0| 30| 01|2020|\n",
            "| Norte|    RO|         0|              0|          0|               0| 31| 01|2020|\n",
            "| Norte|    RO|         0|              0|          0|               0| 01| 02|2020|\n",
            "| Norte|    RO|         0|              0|          0|               0| 02| 02|2020|\n",
            "| Norte|    RO|         0|              0|          0|               0| 03| 02|2020|\n",
            "| Norte|    RO|         0|              0|          0|               0| 04| 02|2020|\n",
            "| Norte|    RO|         0|              0|          0|               0| 05| 02|2020|\n",
            "| Norte|    RO|         0|              0|          0|               0| 06| 02|2020|\n",
            "| Norte|    RO|         0|              0|          0|               0| 07| 02|2020|\n",
            "| Norte|    RO|         0|              0|          0|               0| 08| 02|2020|\n",
            "| Norte|    RO|         0|              0|          0|               0| 09| 02|2020|\n",
            "| Norte|    RO|         0|              0|          0|               0| 10| 02|2020|\n",
            "| Norte|    RO|         0|              0|          0|               0| 11| 02|2020|\n",
            "| Norte|    RO|         0|              0|          0|               0| 12| 02|2020|\n",
            "| Norte|    RO|         0|              0|          0|               0| 13| 02|2020|\n",
            "| Norte|    RO|         0|              0|          0|               0| 14| 02|2020|\n",
            "| Norte|    RO|         0|              0|          0|               0| 15| 02|2020|\n",
            "| Norte|    RO|         0|              0|          0|               0| 16| 02|2020|\n",
            "| Norte|    RO|         0|              0|          0|               0| 17| 02|2020|\n",
            "| Norte|    RO|         0|              0|          0|               0| 18| 02|2020|\n",
            "+------+------+----------+---------------+-----------+----------------+---+---+----+\n",
            "only showing top 20 rows\n",
            "\n"
          ]
        }
      ]
    },
    {
      "cell_type": "code",
      "source": [
        "#JUNTANDO COLUNAS (CONCATENAR)\n",
        "#df3.withColumn('data_junta', F.concat(F.col('ano'),F.lit('-'), F.col('mes'),F.lit('-'), F.col('dia'))).show()\n",
        "df4 = df3.withColumn('data_junta', F.concat_ws('-', F.col('ano'), F.col('mes'), F.col('dia')))"
      ],
      "metadata": {
        "id": "d8uJCPAR6BYp"
      },
      "execution_count": null,
      "outputs": []
    },
    {
      "cell_type": "code",
      "source": [
        "df4.printSchema()"
      ],
      "metadata": {
        "colab": {
          "base_uri": "https://localhost:8080/"
        },
        "id": "B2vkCMQY7rnp",
        "outputId": "01b5bbcd-267d-449f-9d26-52cc5f1a5b37"
      },
      "execution_count": null,
      "outputs": [
        {
          "output_type": "stream",
          "name": "stdout",
          "text": [
            "root\n",
            " |-- regiao: string (nullable = true)\n",
            " |-- estado: string (nullable = true)\n",
            " |-- data: timestamp (nullable = true)\n",
            " |-- casosNovos: integer (nullable = true)\n",
            " |-- casosAcumulados: integer (nullable = true)\n",
            " |-- obitosNovos: integer (nullable = true)\n",
            " |-- obitosAcumulados: integer (nullable = true)\n",
            " |-- Dia: string (nullable = true)\n",
            " |-- Mes: string (nullable = true)\n",
            " |-- Ano: string (nullable = true)\n",
            " |-- data_junta: string (nullable = false)\n",
            "\n"
          ]
        }
      ]
    },
    {
      "cell_type": "markdown",
      "source": [
        "Outro exemplo"
      ],
      "metadata": {
        "id": "nrT08c2yAQJ_"
      }
    },
    {
      "cell_type": "code",
      "source": [
        "#JOIN\n",
        "schema = ['id', 'nome', 'salario']\n",
        "\n",
        "dados = [\n",
        "         (1, 'João', 2000),\n",
        "         (2, 'Maria', 5000),\n",
        "         (3, 'Pedro', 8300),\n",
        "         (4, 'Gustavo', 1200),\n",
        "         (5, 'Ana', 10000),\n",
        "         (6, 'Vitoria', 7500),\n",
        "         (7, 'Carlos', 4800),\n",
        "         (8, 'Claudia', 4300),\n",
        "         (9, 'Andre', 2400),\n",
        "]\n",
        "\n",
        "df1 = spark.createDataFrame(data=dados, schema=schema)"
      ],
      "metadata": {
        "id": "B3uqRD08ADk4"
      },
      "execution_count": null,
      "outputs": []
    },
    {
      "cell_type": "code",
      "source": [
        "schema = ['id', 'cidade', 'estado']\n",
        "\n",
        "dados = [\n",
        "         (1, 'São Paulo', 'SP'),\n",
        "         (2, 'Curitiba', 'PR'),\n",
        "         (3, 'Fortaleza', 'CE'),\n",
        "         (4, 'Ribeirão Preto', 'SP'),\n",
        "         (8, 'Belo Horizonte', 'MG'),\n",
        "         (9, 'Goiania', 'GO'),\n",
        "         (10, 'Sobral', 'CE'),\n",
        "         (11, 'Salvador', 'BA'),\n",
        "         (12, 'São Luis', 'MA'),\n",
        "]\n",
        "\n",
        "df2 = spark.createDataFrame(data=dados, schema=schema)"
      ],
      "metadata": {
        "id": "39x1XrOBAH2Y"
      },
      "execution_count": null,
      "outputs": []
    },
    {
      "cell_type": "code",
      "source": [
        "#INNER JOIN\n",
        "df_inner = df1.join(df2,on=['id'],how='inner')\n",
        "\n",
        "df_inner.show()"
      ],
      "metadata": {
        "colab": {
          "base_uri": "https://localhost:8080/"
        },
        "id": "X0IYud7OBoiY",
        "outputId": "4ba70ce2-a63b-400f-c093-1fe3f0a23b27"
      },
      "execution_count": null,
      "outputs": [
        {
          "output_type": "stream",
          "name": "stdout",
          "text": [
            "+---+-------+-------+--------------+------+\n",
            "| id|   nome|salario|        cidade|estado|\n",
            "+---+-------+-------+--------------+------+\n",
            "|  1|   João|   2000|     São Paulo|    SP|\n",
            "|  2|  Maria|   5000|      Curitiba|    PR|\n",
            "|  3|  Pedro|   8300|     Fortaleza|    CE|\n",
            "|  4|Gustavo|   1200|Ribeirão Preto|    SP|\n",
            "|  8|Claudia|   4300|Belo Horizonte|    MG|\n",
            "|  9|  Andre|   2400|       Goiania|    GO|\n",
            "+---+-------+-------+--------------+------+\n",
            "\n"
          ]
        }
      ]
    },
    {
      "cell_type": "code",
      "source": [
        "#LEFT JOIN\n",
        "df_left = df1.join(df2, on=['id'], how='left')\n",
        "\n",
        "df_left.show()"
      ],
      "metadata": {
        "colab": {
          "base_uri": "https://localhost:8080/"
        },
        "id": "WzwW20k1ED4P",
        "outputId": "aea1330f-120c-467b-a97d-c587af17c783"
      },
      "execution_count": null,
      "outputs": [
        {
          "output_type": "stream",
          "name": "stdout",
          "text": [
            "+---+-------+-------+--------------+------+\n",
            "| id|   nome|salario|        cidade|estado|\n",
            "+---+-------+-------+--------------+------+\n",
            "|  1|   João|   2000|     São Paulo|    SP|\n",
            "|  2|  Maria|   5000|      Curitiba|    PR|\n",
            "|  3|  Pedro|   8300|     Fortaleza|    CE|\n",
            "|  4|Gustavo|   1200|Ribeirão Preto|    SP|\n",
            "|  6|Vitoria|   7500|          null|  null|\n",
            "|  5|    Ana|  10000|          null|  null|\n",
            "|  7| Carlos|   4800|          null|  null|\n",
            "|  9|  Andre|   2400|       Goiania|    GO|\n",
            "|  8|Claudia|   4300|Belo Horizonte|    MG|\n",
            "+---+-------+-------+--------------+------+\n",
            "\n"
          ]
        }
      ]
    },
    {
      "cell_type": "code",
      "source": [
        "#RIGHT JOIN\n",
        "df_right = df1.join(df2, on=['id'], how='right')\n",
        "\n",
        "df_right.show()"
      ],
      "metadata": {
        "colab": {
          "base_uri": "https://localhost:8080/"
        },
        "id": "AVRq0H1FEfFT",
        "outputId": "540773c6-09a5-447b-bdfb-7c109f3f7fd2"
      },
      "execution_count": null,
      "outputs": [
        {
          "output_type": "stream",
          "name": "stdout",
          "text": [
            "+---+-------+-------+--------------+------+\n",
            "| id|   nome|salario|        cidade|estado|\n",
            "+---+-------+-------+--------------+------+\n",
            "|  1|   João|   2000|     São Paulo|    SP|\n",
            "|  2|  Maria|   5000|      Curitiba|    PR|\n",
            "|  3|  Pedro|   8300|     Fortaleza|    CE|\n",
            "|  4|Gustavo|   1200|Ribeirão Preto|    SP|\n",
            "|  9|  Andre|   2400|       Goiania|    GO|\n",
            "|  8|Claudia|   4300|Belo Horizonte|    MG|\n",
            "| 10|   null|   null|        Sobral|    CE|\n",
            "| 12|   null|   null|      São Luis|    MA|\n",
            "| 11|   null|   null|      Salvador|    BA|\n",
            "+---+-------+-------+--------------+------+\n",
            "\n"
          ]
        }
      ]
    },
    {
      "cell_type": "code",
      "source": [
        "#FULL JOIN\n",
        "df_full = df1.join(df2, on=['id'], how='full')\n",
        "\n",
        "df_full.show()"
      ],
      "metadata": {
        "colab": {
          "base_uri": "https://localhost:8080/"
        },
        "id": "bABy9zuGE9pj",
        "outputId": "86363939-14f1-40d5-8438-2b6beac7e970"
      },
      "execution_count": null,
      "outputs": [
        {
          "output_type": "stream",
          "name": "stdout",
          "text": [
            "+---+-------+-------+--------------+------+\n",
            "| id|   nome|salario|        cidade|estado|\n",
            "+---+-------+-------+--------------+------+\n",
            "|  1|   João|   2000|     São Paulo|    SP|\n",
            "|  2|  Maria|   5000|      Curitiba|    PR|\n",
            "|  3|  Pedro|   8300|     Fortaleza|    CE|\n",
            "|  4|Gustavo|   1200|Ribeirão Preto|    SP|\n",
            "|  5|    Ana|  10000|          null|  null|\n",
            "|  6|Vitoria|   7500|          null|  null|\n",
            "|  7| Carlos|   4800|          null|  null|\n",
            "|  8|Claudia|   4300|Belo Horizonte|    MG|\n",
            "|  9|  Andre|   2400|       Goiania|    GO|\n",
            "| 10|   null|   null|        Sobral|    CE|\n",
            "| 11|   null|   null|      Salvador|    BA|\n",
            "| 12|   null|   null|      São Luis|    MA|\n",
            "+---+-------+-------+--------------+------+\n",
            "\n"
          ]
        }
      ]
    }
  ]
}
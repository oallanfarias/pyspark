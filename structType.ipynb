{
  "nbformat": 4,
  "nbformat_minor": 0,
  "metadata": {
    "colab": {
      "name": "structType.ipynb",
      "provenance": [],
      "mount_file_id": "1YLViYyoWeoSuYxmctQs47-tKGPHrFXjR",
      "authorship_tag": "ABX9TyNU9sc0hj9NnyvF3Npr6SnG",
      "include_colab_link": true
    },
    "kernelspec": {
      "name": "python3",
      "display_name": "Python 3"
    },
    "language_info": {
      "name": "python"
    }
  },
  "cells": [
    {
      "cell_type": "markdown",
      "metadata": {
        "id": "view-in-github",
        "colab_type": "text"
      },
      "source": [
        "<a href=\"https://colab.research.google.com/github/oallanfarias/pyspark/blob/main/structType.ipynb\" target=\"_parent\"><img src=\"https://colab.research.google.com/assets/colab-badge.svg\" alt=\"Open In Colab\"/></a>"
      ]
    },
    {
      "cell_type": "code",
      "execution_count": null,
      "metadata": {
        "id": "BZ9aIiPlYDA9"
      },
      "outputs": [],
      "source": [
        "!pip install pyspark"
      ]
    },
    {
      "cell_type": "code",
      "source": [
        "from pyspark.sql import SparkSession\n",
        "import pyspark.sql.functions as F"
      ],
      "metadata": {
        "id": "mDc8dYG5YKXe"
      },
      "execution_count": 9,
      "outputs": []
    },
    {
      "cell_type": "code",
      "source": [
        "spark = ( SparkSession.builder\n",
        "                        .master(\"local\")\n",
        "                        .appName(\"novas_funcoes\")\n",
        "                        .config(\"spark.ui.port\", \"4050\")\n",
        "                        .getOrCreate() \n",
        "        )"
      ],
      "metadata": {
        "id": "FjaibkhcYbhP"
      },
      "execution_count": 3,
      "outputs": []
    },
    {
      "cell_type": "code",
      "source": [
        "df = ( spark.read.format(\"csv\")\n",
        "                  .option(\"header\", \"true\")\n",
        "                  .option(\"inferschema\", \"true\")\n",
        "                  .option(\"delimiter\", \";\")\n",
        "                  .load('/content/drive/MyDrive/Datasets/arquivo_geral.csv')\n",
        ")"
      ],
      "metadata": {
        "id": "-uvfOH-3YdBf"
      },
      "execution_count": 4,
      "outputs": []
    },
    {
      "cell_type": "code",
      "source": [
        "df.printSchema()"
      ],
      "metadata": {
        "colab": {
          "base_uri": "https://localhost:8080/"
        },
        "id": "49Zn7vn1YxEA",
        "outputId": "7ea8c7fb-a671-496e-96a6-7133ee0ba70c"
      },
      "execution_count": 5,
      "outputs": [
        {
          "output_type": "stream",
          "name": "stdout",
          "text": [
            "root\n",
            " |-- regiao: string (nullable = true)\n",
            " |-- estado: string (nullable = true)\n",
            " |-- data: timestamp (nullable = true)\n",
            " |-- casosNovos: integer (nullable = true)\n",
            " |-- casosAcumulados: integer (nullable = true)\n",
            " |-- obitosNovos: integer (nullable = true)\n",
            " |-- obitosAcumulados: integer (nullable = true)\n",
            "\n"
          ]
        }
      ]
    },
    {
      "cell_type": "code",
      "source": [
        "#FUNÇãO DE AGREGAÇÃO - agg\n",
        "#AGRUPAR POR ESTADO - SOMA DE CASOS NOVOS, O VALOR MÁXIMO DE CASOS ACUMULADOS, E A MÉDIA DE ÓBITOS ACUMULADOS - mean\n",
        "#df.groupBy('estado').sum('casosNovos').max('casosAcumulados').mean('obitosAcumulados').show()\n",
        "df.groupBy('estado').agg(F.sum('casosNovos').alias('soma_casos_novos'), \n",
        "                         F.max('casosAcumulados').alias('maximo_casosAcumulados'), \n",
        "                         F.mean('obitosAcumulados').alias('media_obitosAcumulados')).show(10)\n",
        "#df.groupBy('estado').mean('casosNovos').show()"
      ],
      "metadata": {
        "colab": {
          "base_uri": "https://localhost:8080/"
        },
        "id": "2YpfsNwjY382",
        "outputId": "009db6bc-2058-4fa5-a29b-54e8af6e1b9e"
      },
      "execution_count": 6,
      "outputs": [
        {
          "output_type": "stream",
          "name": "stdout",
          "text": [
            "+------+----------------+----------------------+----------------------+\n",
            "|estado|soma_casos_novos|maximo_casosAcumulados|media_obitosAcumulados|\n",
            "+------+----------------+----------------------+----------------------+\n",
            "|    SC|            1209|                  1209|     6.632183908045977|\n",
            "|    RO|             328|                   328|    0.7586206896551724|\n",
            "|    PI|             297|                   297|    2.4942528735632186|\n",
            "|    AM|            3635|                  3635|    29.482758620689655|\n",
            "|    RR|             345|                   345|    0.6206896551724138|\n",
            "|    GO|             506|                   506|    3.6206896551724137|\n",
            "|    TO|              50|                    50|   0.16091954022988506|\n",
            "|    MT|             247|                   247|    1.0344827586206897|\n",
            "|    SP|           20004|                 20004|     215.8505747126437|\n",
            "|    PB|             447|                   447|     5.195402298850575|\n",
            "+------+----------------+----------------------+----------------------+\n",
            "only showing top 10 rows\n",
            "\n"
          ]
        }
      ]
    },
    {
      "cell_type": "markdown",
      "source": [
        "* count() - Retorna quatidade\n",
        "* mean() - Retorna a média\n",
        "* max() - Retorna o valor máximo\n",
        "* min() - Retorna o valor mínimo\n",
        "* sum() - Retorna a soma"
      ],
      "metadata": {
        "id": "gRrnWwKtwk-P"
      }
    },
    {
      "cell_type": "code",
      "source": [
        "#PARA SUBSTITUIR VALORES NULOS - FILLNA\n",
        "df.fillna(value='NA') #ALTERA AS STRINGS NULL PARA NA\n",
        "df.fillna(value=0) #ALTERA OS CAMPOS INTEIROS PARA 0\n",
        "df.fillna(value='NAN', subset=['estado', 'regiao'])"
      ],
      "metadata": {
        "colab": {
          "base_uri": "https://localhost:8080/"
        },
        "id": "Fjx39YKgYxl_",
        "outputId": "aca87ba7-bed2-4e91-e49e-168a36763895"
      },
      "execution_count": 10,
      "outputs": [
        {
          "output_type": "execute_result",
          "data": {
            "text/plain": [
              "DataFrame[regiao: string, estado: string, data: timestamp, casosNovos: int, casosAcumulados: int, obitosNovos: int, obitosAcumulados: int]"
            ]
          },
          "metadata": {},
          "execution_count": 10
        }
      ]
    },
    {
      "cell_type": "markdown",
      "source": [
        "TIPOS BÁSICOS DE DADOS SPARK\n",
        "- ByteType() -    (int)\n",
        "- ShortType() -   (int)\n",
        "- IntegerType() - (int)\n",
        "- LongType()    - (int)\n",
        "- FloatType()   - (float)\n",
        "- DoubleType()  - (float)\n",
        "- StringType()  - (str)\n",
        "- BooleanType() - (bool)\n",
        "- DecimalType() - (decimal.Decimal)\n",
        "- NULL          - null"
      ],
      "metadata": {
        "id": "KScMdTUEx9XA"
      }
    },
    {
      "cell_type": "markdown",
      "source": [
        "TIPOS COMPLEXOS DE DADOS\n",
        "- TimestampType()  - (datetime.datetime)\n",
        "- DateType()       - (datetime.date)\n",
        "- ArrayType()      - (list, tuple, array)\n",
        "- MapType()        - (dict)\n",
        "- StructType()     - (list, tuple)\n",
        "- StructField()    - (Tipo do Field)"
      ],
      "metadata": {
        "id": "syy9Su11zajN"
      }
    },
    {
      "cell_type": "code",
      "source": [
        "#Count Distinct\n",
        "df.distinct().count()"
      ],
      "metadata": {
        "colab": {
          "base_uri": "https://localhost:8080/"
        },
        "id": "AMoR1cksziYI",
        "outputId": "ff313ed9-b804-499c-d37c-a21c442a0565"
      },
      "execution_count": 11,
      "outputs": [
        {
          "output_type": "execute_result",
          "data": {
            "text/plain": [
              "2349"
            ]
          },
          "metadata": {},
          "execution_count": 11
        }
      ]
    },
    {
      "cell_type": "code",
      "source": [
        "#CONVERTER O DATAFRAME DO PYSPARK PARA PANDAS\n",
        "df_pandas = df.toPandas()"
      ],
      "metadata": {
        "id": "WysE5m2ezkvb"
      },
      "execution_count": 14,
      "outputs": []
    },
    {
      "cell_type": "code",
      "source": [
        "#CONVERTER UM DATAFRAME DO PANDAS PARA O PYSPARK\n",
        "df_spark = spark.createDataFrame(df_pandas)"
      ],
      "metadata": {
        "id": "xmtal2dl2QJA"
      },
      "execution_count": 15,
      "outputs": []
    },
    {
      "cell_type": "code",
      "source": [
        "#SPLIT _ DIVIDIR ALGO\n",
        "df.show(10)\n",
        "df.select(F.split(F.col('data'), '-').alias('TESTE')).show(truncate=False)"
      ],
      "metadata": {
        "colab": {
          "base_uri": "https://localhost:8080/"
        },
        "id": "lm_q61eaAEIu",
        "outputId": "e6f6488f-df06-44ca-f1eb-a5cb3e0857b6"
      },
      "execution_count": 37,
      "outputs": [
        {
          "output_type": "stream",
          "name": "stdout",
          "text": [
            "+------+------+-------------------+----------+---------------+-----------+----------------+\n",
            "|regiao|estado|               data|casosNovos|casosAcumulados|obitosNovos|obitosAcumulados|\n",
            "+------+------+-------------------+----------+---------------+-----------+----------------+\n",
            "| Norte|    RO|2020-01-30 00:00:00|         0|              0|          0|               0|\n",
            "| Norte|    RO|2020-01-31 00:00:00|         0|              0|          0|               0|\n",
            "| Norte|    RO|2020-02-01 00:00:00|         0|              0|          0|               0|\n",
            "| Norte|    RO|2020-02-02 00:00:00|         0|              0|          0|               0|\n",
            "| Norte|    RO|2020-02-03 00:00:00|         0|              0|          0|               0|\n",
            "| Norte|    RO|2020-02-04 00:00:00|         0|              0|          0|               0|\n",
            "| Norte|    RO|2020-02-05 00:00:00|         0|              0|          0|               0|\n",
            "| Norte|    RO|2020-02-06 00:00:00|         0|              0|          0|               0|\n",
            "| Norte|    RO|2020-02-07 00:00:00|         0|              0|          0|               0|\n",
            "| Norte|    RO|2020-02-08 00:00:00|         0|              0|          0|               0|\n",
            "+------+------+-------------------+----------+---------------+-----------+----------------+\n",
            "only showing top 10 rows\n",
            "\n",
            "+-----------------------+\n",
            "|TESTE                  |\n",
            "+-----------------------+\n",
            "|[2020, 01, 30 00:00:00]|\n",
            "|[2020, 01, 31 00:00:00]|\n",
            "|[2020, 02, 01 00:00:00]|\n",
            "|[2020, 02, 02 00:00:00]|\n",
            "|[2020, 02, 03 00:00:00]|\n",
            "|[2020, 02, 04 00:00:00]|\n",
            "|[2020, 02, 05 00:00:00]|\n",
            "|[2020, 02, 06 00:00:00]|\n",
            "|[2020, 02, 07 00:00:00]|\n",
            "|[2020, 02, 08 00:00:00]|\n",
            "|[2020, 02, 09 00:00:00]|\n",
            "|[2020, 02, 10 00:00:00]|\n",
            "|[2020, 02, 11 00:00:00]|\n",
            "|[2020, 02, 12 00:00:00]|\n",
            "|[2020, 02, 13 00:00:00]|\n",
            "|[2020, 02, 14 00:00:00]|\n",
            "|[2020, 02, 15 00:00:00]|\n",
            "|[2020, 02, 16 00:00:00]|\n",
            "|[2020, 02, 17 00:00:00]|\n",
            "|[2020, 02, 18 00:00:00]|\n",
            "+-----------------------+\n",
            "only showing top 20 rows\n",
            "\n"
          ]
        }
      ]
    },
    {
      "cell_type": "code",
      "source": [
        "#REPLACE - SUBSTITUIR ALGUM TEXTO\n",
        "df.withColumn('Regiao_alterada', F.regexp_replace('regiao', 'e', ' AAA')).show(10)"
      ],
      "metadata": {
        "colab": {
          "base_uri": "https://localhost:8080/"
        },
        "id": "nahnQTH8B_Et",
        "outputId": "346caf2a-1a42-408e-8ebc-ec4ab927308f"
      },
      "execution_count": 28,
      "outputs": [
        {
          "output_type": "stream",
          "name": "stdout",
          "text": [
            "+------+------+-------------------+----------+---------------+-----------+----------------+---------------+\n",
            "|regiao|estado|               data|casosNovos|casosAcumulados|obitosNovos|obitosAcumulados|Regiao_alterada|\n",
            "+------+------+-------------------+----------+---------------+-----------+----------------+---------------+\n",
            "| Norte|    RO|2020-01-30 00:00:00|         0|              0|          0|               0|       Nort AAA|\n",
            "| Norte|    RO|2020-01-31 00:00:00|         0|              0|          0|               0|       Nort AAA|\n",
            "| Norte|    RO|2020-02-01 00:00:00|         0|              0|          0|               0|       Nort AAA|\n",
            "| Norte|    RO|2020-02-02 00:00:00|         0|              0|          0|               0|       Nort AAA|\n",
            "| Norte|    RO|2020-02-03 00:00:00|         0|              0|          0|               0|       Nort AAA|\n",
            "| Norte|    RO|2020-02-04 00:00:00|         0|              0|          0|               0|       Nort AAA|\n",
            "| Norte|    RO|2020-02-05 00:00:00|         0|              0|          0|               0|       Nort AAA|\n",
            "| Norte|    RO|2020-02-06 00:00:00|         0|              0|          0|               0|       Nort AAA|\n",
            "| Norte|    RO|2020-02-07 00:00:00|         0|              0|          0|               0|       Nort AAA|\n",
            "| Norte|    RO|2020-02-08 00:00:00|         0|              0|          0|               0|       Nort AAA|\n",
            "+------+------+-------------------+----------+---------------+-----------+----------------+---------------+\n",
            "only showing top 10 rows\n",
            "\n"
          ]
        }
      ]
    },
    {
      "cell_type": "code",
      "source": [
        "'''\n",
        "(\n",
        "    df.withColumn('Regiao_alterada', F.when(F.col('regiao') == 'Norte'), \n",
        "                                      F.regexp_replace('regiao', 'Norte', 'Nordeste'))\n",
        "                                      .when(F.col('regiao') == 'Nordeste'),\n",
        "                                      F.regexp_replace('regiao', 'Nordeste', 'Sudeste')\n",
        "                                      .when()\n",
        ")\n",
        "'''"
      ],
      "metadata": {
        "id": "uY8vxVfeDIjp"
      },
      "execution_count": null,
      "outputs": []
    },
    {
      "cell_type": "code",
      "source": [
        "# StructType - DEFINE O ESQUEMA PARA O DATAFRAME\n",
        "from pyspark.sql.types import *"
      ],
      "metadata": {
        "id": "v9um7zxyErB7"
      },
      "execution_count": 40,
      "outputs": []
    },
    {
      "cell_type": "code",
      "source": [
        "esquema = (\n",
        "    StructType([\n",
        "        StructField('Região',StringType()),\n",
        "        StructField('ESTADO', StringType()),\n",
        "        StructField('DaTa', DateType()),\n",
        "        StructField('CASOSnovos', IntegerType()),\n",
        "        StructField('casosAcumulados', IntegerType()),\n",
        "        StructField('ObitosNovos', IntegerType()),\n",
        "        StructField('ObitosAcumulados', IntegerType())\n",
        "        ])\n",
        ")"
      ],
      "metadata": {
        "id": "iED4isTjFMxT"
      },
      "execution_count": 42,
      "outputs": []
    },
    {
      "cell_type": "code",
      "source": [
        "df = ( spark.read.format(\"csv\")\n",
        "                  .option(\"header\", \"true\")\n",
        "                  .option(\"inferschema\", \"false\")\n",
        "                  .option(\"delimiter\", \";\")\n",
        "                  .load('/content/drive/MyDrive/Datasets/arquivo_geral.csv', schema=esquema)\n",
        ")"
      ],
      "metadata": {
        "id": "z-bRvm8rHsmA"
      },
      "execution_count": 43,
      "outputs": []
    },
    {
      "cell_type": "code",
      "source": [
        "df.printSchema()"
      ],
      "metadata": {
        "colab": {
          "base_uri": "https://localhost:8080/"
        },
        "id": "Q3kPdJt0H1QF",
        "outputId": "02a5a011-dd2c-4326-88cc-0506bd1628d2"
      },
      "execution_count": 44,
      "outputs": [
        {
          "output_type": "stream",
          "name": "stdout",
          "text": [
            "root\n",
            " |-- Região: string (nullable = true)\n",
            " |-- ESTADO: string (nullable = true)\n",
            " |-- DaTa: date (nullable = true)\n",
            " |-- CASOSnovos: integer (nullable = true)\n",
            " |-- casosAcumulados: integer (nullable = true)\n",
            " |-- ObitosNovos: integer (nullable = true)\n",
            " |-- ObitosAcumulados: integer (nullable = true)\n",
            "\n"
          ]
        }
      ]
    },
    {
      "cell_type": "code",
      "source": [
        "df.show()"
      ],
      "metadata": {
        "colab": {
          "base_uri": "https://localhost:8080/"
        },
        "id": "n-vJaFyWH3Ae",
        "outputId": "9deae9d7-9999-404c-aaa8-e698bd0385ca"
      },
      "execution_count": 45,
      "outputs": [
        {
          "output_type": "stream",
          "name": "stdout",
          "text": [
            "+------+------+----------+----------+---------------+-----------+----------------+\n",
            "|Região|ESTADO|      DaTa|CASOSnovos|casosAcumulados|ObitosNovos|ObitosAcumulados|\n",
            "+------+------+----------+----------+---------------+-----------+----------------+\n",
            "| Norte|    RO|2020-01-30|         0|              0|          0|               0|\n",
            "| Norte|    RO|2020-01-31|         0|              0|          0|               0|\n",
            "| Norte|    RO|2020-02-01|         0|              0|          0|               0|\n",
            "| Norte|    RO|2020-02-02|         0|              0|          0|               0|\n",
            "| Norte|    RO|2020-02-03|         0|              0|          0|               0|\n",
            "| Norte|    RO|2020-02-04|         0|              0|          0|               0|\n",
            "| Norte|    RO|2020-02-05|         0|              0|          0|               0|\n",
            "| Norte|    RO|2020-02-06|         0|              0|          0|               0|\n",
            "| Norte|    RO|2020-02-07|         0|              0|          0|               0|\n",
            "| Norte|    RO|2020-02-08|         0|              0|          0|               0|\n",
            "| Norte|    RO|2020-02-09|         0|              0|          0|               0|\n",
            "| Norte|    RO|2020-02-10|         0|              0|          0|               0|\n",
            "| Norte|    RO|2020-02-11|         0|              0|          0|               0|\n",
            "| Norte|    RO|2020-02-12|         0|              0|          0|               0|\n",
            "| Norte|    RO|2020-02-13|         0|              0|          0|               0|\n",
            "| Norte|    RO|2020-02-14|         0|              0|          0|               0|\n",
            "| Norte|    RO|2020-02-15|         0|              0|          0|               0|\n",
            "| Norte|    RO|2020-02-16|         0|              0|          0|               0|\n",
            "| Norte|    RO|2020-02-17|         0|              0|          0|               0|\n",
            "| Norte|    RO|2020-02-18|         0|              0|          0|               0|\n",
            "+------+------+----------+----------+---------------+-----------+----------------+\n",
            "only showing top 20 rows\n",
            "\n"
          ]
        }
      ]
    },
    {
      "cell_type": "code",
      "source": [
        "#WINDOW FUNCTIONS - Funções de Janela\n",
        "from pyspark.sql.window import Window"
      ],
      "metadata": {
        "id": "0VL5rJC5O7Kl"
      },
      "execution_count": 51,
      "outputs": []
    },
    {
      "cell_type": "code",
      "source": [
        "schema = ['nome', 'departamento', 'estado', 'salario']\n",
        "\n",
        "dados = [('Anderson', 'vendas', 'SP', 9000),\n",
        "         ('Kennedy', 'vendas', 'RJ', 4500),\n",
        "         ('Luciana', 'vendas', 'SP', 4500),\n",
        "         ('Marta', 'vendas', 'SP', 4500),\n",
        "         ('João', 'vendas', 'SP', 4500),\n",
        "         ('Diego', 'vendas', 'SP', 4500),\n",
        "         ('Marilia', 'vendas', 'SP', 1200),\n",
        "         ('Gustavo', 'financeiro', 'AM', 8000),\n",
        "         ('Pedro', 'financeiro', 'AM', 2750),\n",
        "         ('Juliana', 'financeiro', 'MG', 3000),\n",
        "         ('Leticia', 'financeiro', 'RJ', 7500),\n",
        "         ('Oswaldo', 'marketing', 'RJ', 2450),\n",
        "         ('Denis', 'marketing', 'MG', 1300)\n",
        "         \n",
        "        ]\n",
        "df_window = spark.createDataFrame(data=dados, schema=schema)"
      ],
      "metadata": {
        "id": "K7yz9qAKNRU1"
      },
      "execution_count": 52,
      "outputs": []
    },
    {
      "cell_type": "code",
      "source": [
        "df_window.show()"
      ],
      "metadata": {
        "colab": {
          "base_uri": "https://localhost:8080/"
        },
        "id": "8WprMWHHNTH9",
        "outputId": "32d4fc69-5f6a-4f9e-ac74-ee125fff3519"
      },
      "execution_count": 53,
      "outputs": [
        {
          "output_type": "stream",
          "name": "stdout",
          "text": [
            "+--------+------------+------+-------+\n",
            "|    nome|departamento|estado|salario|\n",
            "+--------+------------+------+-------+\n",
            "|Anderson|      vendas|    SP|   9000|\n",
            "| Kennedy|      vendas|    RJ|   4500|\n",
            "| Luciana|      vendas|    SP|   4500|\n",
            "|   Marta|      vendas|    SP|   4500|\n",
            "|    João|      vendas|    SP|   4500|\n",
            "|   Diego|      vendas|    SP|   4500|\n",
            "| Marilia|      vendas|    SP|   1200|\n",
            "| Gustavo|  financeiro|    AM|   8000|\n",
            "|   Pedro|  financeiro|    AM|   2750|\n",
            "| Juliana|  financeiro|    MG|   3000|\n",
            "| Leticia|  financeiro|    RJ|   7500|\n",
            "| Oswaldo|   marketing|    RJ|   2450|\n",
            "|   Denis|   marketing|    MG|   1300|\n",
            "+--------+------------+------+-------+\n",
            "\n"
          ]
        }
      ]
    },
    {
      "cell_type": "code",
      "source": [
        "w0 = Window.partitionBy(F.col('departamento')).orderBy('salario')"
      ],
      "metadata": {
        "id": "J-O4k1lUNU_M"
      },
      "execution_count": 60,
      "outputs": []
    },
    {
      "cell_type": "code",
      "source": [
        "#ROW NUMBER - RETORNA O NÚMERO DA LINHA\n",
        "df_window.withColumn('row_number', F.row_number().over(w0)).show()"
      ],
      "metadata": {
        "colab": {
          "base_uri": "https://localhost:8080/"
        },
        "id": "yrsenTZhPlNO",
        "outputId": "fae14c43-0a9c-4b90-9410-dcbaf2bbee15"
      },
      "execution_count": 57,
      "outputs": [
        {
          "output_type": "stream",
          "name": "stdout",
          "text": [
            "+--------+------------+------+-------+----------+\n",
            "|    nome|departamento|estado|salario|row_number|\n",
            "+--------+------------+------+-------+----------+\n",
            "|   Pedro|  financeiro|    AM|   2750|         1|\n",
            "| Juliana|  financeiro|    MG|   3000|         2|\n",
            "| Leticia|  financeiro|    RJ|   7500|         3|\n",
            "| Gustavo|  financeiro|    AM|   8000|         4|\n",
            "|   Denis|   marketing|    MG|   1300|         1|\n",
            "| Oswaldo|   marketing|    RJ|   2450|         2|\n",
            "| Marilia|      vendas|    SP|   1200|         1|\n",
            "| Kennedy|      vendas|    RJ|   4500|         2|\n",
            "| Luciana|      vendas|    SP|   4500|         3|\n",
            "|   Marta|      vendas|    SP|   4500|         4|\n",
            "|    João|      vendas|    SP|   4500|         5|\n",
            "|   Diego|      vendas|    SP|   4500|         6|\n",
            "|Anderson|      vendas|    SP|   9000|         7|\n",
            "+--------+------------+------+-------+----------+\n",
            "\n"
          ]
        }
      ]
    },
    {
      "cell_type": "code",
      "source": [
        "#RANK\n",
        "df_window.withColumn('rank', F.rank().over(w0)).show()"
      ],
      "metadata": {
        "colab": {
          "base_uri": "https://localhost:8080/"
        },
        "id": "lOH-dCSHRA_a",
        "outputId": "cc5fd595-c7f8-4920-950c-45b137b8bc42"
      },
      "execution_count": 61,
      "outputs": [
        {
          "output_type": "stream",
          "name": "stdout",
          "text": [
            "+--------+------------+------+-------+----+\n",
            "|    nome|departamento|estado|salario|rank|\n",
            "+--------+------------+------+-------+----+\n",
            "|   Pedro|  financeiro|    AM|   2750|   1|\n",
            "| Juliana|  financeiro|    MG|   3000|   2|\n",
            "| Leticia|  financeiro|    RJ|   7500|   3|\n",
            "| Gustavo|  financeiro|    AM|   8000|   4|\n",
            "|   Denis|   marketing|    MG|   1300|   1|\n",
            "| Oswaldo|   marketing|    RJ|   2450|   2|\n",
            "| Marilia|      vendas|    SP|   1200|   1|\n",
            "| Kennedy|      vendas|    RJ|   4500|   2|\n",
            "| Luciana|      vendas|    SP|   4500|   2|\n",
            "|   Marta|      vendas|    SP|   4500|   2|\n",
            "|    João|      vendas|    SP|   4500|   2|\n",
            "|   Diego|      vendas|    SP|   4500|   2|\n",
            "|Anderson|      vendas|    SP|   9000|   7|\n",
            "+--------+------------+------+-------+----+\n",
            "\n"
          ]
        }
      ]
    },
    {
      "cell_type": "code",
      "source": [
        "#DENSE_RANK\n",
        "df_window.withColumn('dense_rank', F.dense_rank().over(w0)).show()"
      ],
      "metadata": {
        "colab": {
          "base_uri": "https://localhost:8080/"
        },
        "id": "r25R2L39RERy",
        "outputId": "f40cc7b0-af4b-44b1-9dd1-108051eaa94e"
      },
      "execution_count": 62,
      "outputs": [
        {
          "output_type": "stream",
          "name": "stdout",
          "text": [
            "+--------+------------+------+-------+----------+\n",
            "|    nome|departamento|estado|salario|dense_rank|\n",
            "+--------+------------+------+-------+----------+\n",
            "|   Pedro|  financeiro|    AM|   2750|         1|\n",
            "| Juliana|  financeiro|    MG|   3000|         2|\n",
            "| Leticia|  financeiro|    RJ|   7500|         3|\n",
            "| Gustavo|  financeiro|    AM|   8000|         4|\n",
            "|   Denis|   marketing|    MG|   1300|         1|\n",
            "| Oswaldo|   marketing|    RJ|   2450|         2|\n",
            "| Marilia|      vendas|    SP|   1200|         1|\n",
            "| Kennedy|      vendas|    RJ|   4500|         2|\n",
            "| Luciana|      vendas|    SP|   4500|         2|\n",
            "|   Marta|      vendas|    SP|   4500|         2|\n",
            "|    João|      vendas|    SP|   4500|         2|\n",
            "|   Diego|      vendas|    SP|   4500|         2|\n",
            "|Anderson|      vendas|    SP|   9000|         3|\n",
            "+--------+------------+------+-------+----------+\n",
            "\n"
          ]
        }
      ]
    },
    {
      "cell_type": "code",
      "source": [
        "#LAG\n",
        "df_window.withColumn('lag', F.lag(\"salario\",2).over(w0)).show()"
      ],
      "metadata": {
        "colab": {
          "base_uri": "https://localhost:8080/"
        },
        "id": "5hZ-j_okT-9T",
        "outputId": "e362ba7b-77ed-4702-a923-88089a5c3cba"
      },
      "execution_count": 69,
      "outputs": [
        {
          "output_type": "stream",
          "name": "stdout",
          "text": [
            "+--------+------------+------+-------+----+\n",
            "|    nome|departamento|estado|salario| lag|\n",
            "+--------+------------+------+-------+----+\n",
            "|   Pedro|  financeiro|    AM|   2750|null|\n",
            "| Juliana|  financeiro|    MG|   3000|null|\n",
            "| Leticia|  financeiro|    RJ|   7500|2750|\n",
            "| Gustavo|  financeiro|    AM|   8000|3000|\n",
            "|   Denis|   marketing|    MG|   1300|null|\n",
            "| Oswaldo|   marketing|    RJ|   2450|null|\n",
            "| Marilia|      vendas|    SP|   1200|null|\n",
            "| Kennedy|      vendas|    RJ|   4500|null|\n",
            "| Luciana|      vendas|    SP|   4500|1200|\n",
            "|   Marta|      vendas|    SP|   4500|4500|\n",
            "|    João|      vendas|    SP|   4500|4500|\n",
            "|   Diego|      vendas|    SP|   4500|4500|\n",
            "|Anderson|      vendas|    SP|   9000|4500|\n",
            "+--------+------------+------+-------+----+\n",
            "\n"
          ]
        }
      ]
    },
    {
      "cell_type": "code",
      "source": [
        "#LEAD\n",
        "df_window.withColumn('lead', F.lead(\"salario\",1).over(w0)).show()"
      ],
      "metadata": {
        "colab": {
          "base_uri": "https://localhost:8080/"
        },
        "id": "ptL58n1hUIrH",
        "outputId": "8c679cd0-a7cb-4ba9-d179-83652fb4e60e"
      },
      "execution_count": 70,
      "outputs": [
        {
          "output_type": "stream",
          "name": "stdout",
          "text": [
            "+--------+------------+------+-------+----+\n",
            "|    nome|departamento|estado|salario|lead|\n",
            "+--------+------------+------+-------+----+\n",
            "|   Pedro|  financeiro|    AM|   2750|3000|\n",
            "| Juliana|  financeiro|    MG|   3000|7500|\n",
            "| Leticia|  financeiro|    RJ|   7500|8000|\n",
            "| Gustavo|  financeiro|    AM|   8000|null|\n",
            "|   Denis|   marketing|    MG|   1300|2450|\n",
            "| Oswaldo|   marketing|    RJ|   2450|null|\n",
            "| Marilia|      vendas|    SP|   1200|4500|\n",
            "| Kennedy|      vendas|    RJ|   4500|4500|\n",
            "| Luciana|      vendas|    SP|   4500|4500|\n",
            "|   Marta|      vendas|    SP|   4500|4500|\n",
            "|    João|      vendas|    SP|   4500|4500|\n",
            "|   Diego|      vendas|    SP|   4500|9000|\n",
            "|Anderson|      vendas|    SP|   9000|null|\n",
            "+--------+------------+------+-------+----+\n",
            "\n"
          ]
        }
      ]
    }
  ]
}
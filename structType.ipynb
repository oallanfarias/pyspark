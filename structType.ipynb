{
  "nbformat": 4,
  "nbformat_minor": 0,
  "metadata": {
    "colab": {
      "name": "structType.ipynb",
      "provenance": [],
      "mount_file_id": "1YLViYyoWeoSuYxmctQs47-tKGPHrFXjR",
      "authorship_tag": "ABX9TyMRrFVDJfT7ieX0EfRR3vS3",
      "include_colab_link": true
    },
    "kernelspec": {
      "name": "python3",
      "display_name": "Python 3"
    },
    "language_info": {
      "name": "python"
    }
  },
  "cells": [
    {
      "cell_type": "markdown",
      "metadata": {
        "id": "view-in-github",
        "colab_type": "text"
      },
      "source": [
        "<a href=\"https://colab.research.google.com/github/oallanfarias/pyspark/blob/main/structType.ipynb\" target=\"_parent\"><img src=\"https://colab.research.google.com/assets/colab-badge.svg\" alt=\"Open In Colab\"/></a>"
      ]
    },
    {
      "cell_type": "code",
      "execution_count": null,
      "metadata": {
        "id": "BZ9aIiPlYDA9"
      },
      "outputs": [],
      "source": [
        "!pip install pyspark"
      ]
    },
    {
      "cell_type": "code",
      "source": [
        "from pyspark.sql import SparkSession\n",
        "import pyspark.sql.functions as F"
      ],
      "metadata": {
        "id": "mDc8dYG5YKXe"
      },
      "execution_count": 2,
      "outputs": []
    },
    {
      "cell_type": "markdown",
      "source": [
        "CONFIGURAÇÃO DA SPARKSESSION"
      ],
      "metadata": {
        "id": "0SIYWLB29JYS"
      }
    },
    {
      "cell_type": "code",
      "source": [
        "'''\n",
        "spark = (SparkSession.builder    |  Constrói a sessão\n",
        ".master('local[4]')              |  Define a máquina master. Parênteses indicam a máquina (pode ser local, seu pc ou cloud). [] Define o número de núcleos\n",
        ".appName('intro-pyspark')        |  Define o nome da aplicação (a própria sessão)\n",
        ".config('spark.ui.port', '4050') |  Define as porta da aplicação\n",
        ".getOrCreate()                   |  Função que cria a session\n",
        ")\n",
        "'''\n",
        "spark = ( SparkSession.builder\n",
        "                        .master(\"local\")\n",
        "                        .appName(\"novas_funcoes\")\n",
        "                        .config(\"spark.ui.port\", \"4050\")\n",
        "                        .getOrCreate() \n",
        "        )"
      ],
      "metadata": {
        "id": "FjaibkhcYbhP"
      },
      "execution_count": 3,
      "outputs": []
    },
    {
      "cell_type": "code",
      "source": [
        "df = ( spark.read.format(\"csv\")\n",
        "                  .option(\"header\", \"true\")\n",
        "                  .option(\"inferschema\", \"true\")\n",
        "                  .option(\"delimiter\", \";\")\n",
        "                  .load('/content/drive/MyDrive/Datasets/arquivo_geral.csv')\n",
        ")"
      ],
      "metadata": {
        "id": "-uvfOH-3YdBf"
      },
      "execution_count": 4,
      "outputs": []
    },
    {
      "cell_type": "code",
      "source": [
        "df.printSchema()"
      ],
      "metadata": {
        "colab": {
          "base_uri": "https://localhost:8080/"
        },
        "id": "49Zn7vn1YxEA",
        "outputId": "76dfa8a6-af89-450e-c48d-22a491408abe"
      },
      "execution_count": 5,
      "outputs": [
        {
          "output_type": "stream",
          "name": "stdout",
          "text": [
            "root\n",
            " |-- regiao: string (nullable = true)\n",
            " |-- estado: string (nullable = true)\n",
            " |-- data: timestamp (nullable = true)\n",
            " |-- casosNovos: integer (nullable = true)\n",
            " |-- casosAcumulados: integer (nullable = true)\n",
            " |-- obitosNovos: integer (nullable = true)\n",
            " |-- obitosAcumulados: integer (nullable = true)\n",
            "\n"
          ]
        }
      ]
    },
    {
      "cell_type": "code",
      "source": [
        "#FUNÇãO DE AGREGAÇÃO - agg\n",
        "#AGRUPAR POR ESTADO - SOMA DE CASOS NOVOS, O VALOR MÁXIMO DE CASOS ACUMULADOS, E A MÉDIA DE ÓBITOS ACUMULADOS - mean\n",
        "#df.groupBy('estado').sum('casosNovos').max('casosAcumulados').mean('obitosAcumulados').show()\n",
        "\n",
        "#PARAUTILIZAR MAIS DE UMA FUNÇÃO JUNTO AO GROUPBY SEM ERROS, É NECESSÁRIO, ANTES, UTILIZAR A FUNÇÃO AGG (AGREGATE)\n",
        "#ALIAS: PARA DAR UM APELIDO\n",
        "df.groupBy('estado').agg(F.sum('casosNovos').alias('soma_casos_novos'), \n",
        "                         F.max('casosAcumulados').alias('maximo_casosAcumulados'), \n",
        "                         F.mean('obitosAcumulados').alias('media_obitosAcumulados')).show(10)\n",
        "#df.groupBy('estado').mean('casosNovos').show()"
      ],
      "metadata": {
        "colab": {
          "base_uri": "https://localhost:8080/"
        },
        "id": "2YpfsNwjY382",
        "outputId": "9f1c0cad-a37f-418f-81f3-42d4a6285106"
      },
      "execution_count": 6,
      "outputs": [
        {
          "output_type": "stream",
          "name": "stdout",
          "text": [
            "+------+----------------+----------------------+----------------------+\n",
            "|estado|soma_casos_novos|maximo_casosAcumulados|media_obitosAcumulados|\n",
            "+------+----------------+----------------------+----------------------+\n",
            "|    SC|            1209|                  1209|     6.632183908045977|\n",
            "|    RO|             328|                   328|    0.7586206896551724|\n",
            "|    PI|             297|                   297|    2.4942528735632186|\n",
            "|    AM|            3635|                  3635|    29.482758620689655|\n",
            "|    RR|             345|                   345|    0.6206896551724138|\n",
            "|    GO|             506|                   506|    3.6206896551724137|\n",
            "|    TO|              50|                    50|   0.16091954022988506|\n",
            "|    MT|             247|                   247|    1.0344827586206897|\n",
            "|    SP|           20004|                 20004|     215.8505747126437|\n",
            "|    PB|             447|                   447|     5.195402298850575|\n",
            "+------+----------------+----------------------+----------------------+\n",
            "only showing top 10 rows\n",
            "\n"
          ]
        }
      ]
    },
    {
      "cell_type": "markdown",
      "source": [
        "* count() - Retorna quatidade\n",
        "* mean() - Retorna a média\n",
        "* max() - Retorna o valor máximo\n",
        "* min() - Retorna o valor mínimo\n",
        "* sum() - Retorna a soma"
      ],
      "metadata": {
        "id": "gRrnWwKtwk-P"
      }
    },
    {
      "cell_type": "code",
      "source": [
        "#PARA BUSCAR E SUBSTITUIR VALORES NULOS - FILLNA\n",
        "df.fillna(value='NA') #ALTERA AS STRINGS NULL PARA NA\n",
        "df.fillna(value=0) #ALTERA OS CAMPOS INTEIROS PARA 0\n",
        "df.fillna(value='NAN', subset=['estado', 'regiao'])"
      ],
      "metadata": {
        "colab": {
          "base_uri": "https://localhost:8080/"
        },
        "id": "Fjx39YKgYxl_",
        "outputId": "d730863e-de58-4ba6-e88d-f6c1680b2311"
      },
      "execution_count": 7,
      "outputs": [
        {
          "output_type": "execute_result",
          "data": {
            "text/plain": [
              "DataFrame[regiao: string, estado: string, data: timestamp, casosNovos: int, casosAcumulados: int, obitosNovos: int, obitosAcumulados: int]"
            ]
          },
          "metadata": {},
          "execution_count": 7
        }
      ]
    },
    {
      "cell_type": "markdown",
      "source": [
        "TIPOS BÁSICOS DE DADOS SPARK\n",
        "- ByteType() -    (int)\n",
        "- ShortType() -   (int)\n",
        "- IntegerType() - (int)\n",
        "- LongType()    - (int)\n",
        "- FloatType()   - (float)\n",
        "- DoubleType()  - (float)\n",
        "- StringType()  - (str)\n",
        "- BooleanType() - (bool)\n",
        "- DecimalType() - (decimal.Decimal)\n",
        "- NULL          - null"
      ],
      "metadata": {
        "id": "KScMdTUEx9XA"
      }
    },
    {
      "cell_type": "markdown",
      "source": [
        "TIPOS COMPLEXOS DE DADOS\n",
        "- TimestampType()  - (datetime.datetime)\n",
        "- DateType()       - (datetime.date)\n",
        "- ArrayType()      - (list, tuple, array)\n",
        "- MapType()        - (dict)\n",
        "- StructType()     - (list, tuple)\n",
        "- StructField()    - (Tipo do Field)"
      ],
      "metadata": {
        "id": "syy9Su11zajN"
      }
    },
    {
      "cell_type": "code",
      "source": [
        "#COUNT DISTINCT\n",
        "df.distinct().count()"
      ],
      "metadata": {
        "colab": {
          "base_uri": "https://localhost:8080/"
        },
        "id": "AMoR1cksziYI",
        "outputId": "2f475294-c7ed-4f80-c308-e8b76164582a"
      },
      "execution_count": 8,
      "outputs": [
        {
          "output_type": "execute_result",
          "data": {
            "text/plain": [
              "2349"
            ]
          },
          "metadata": {},
          "execution_count": 8
        }
      ]
    },
    {
      "cell_type": "markdown",
      "source": [
        "CONVERSÕES"
      ],
      "metadata": {
        "id": "lMYH90WV-T5X"
      }
    },
    {
      "cell_type": "code",
      "source": [
        "#CONVERTER O DATAFRAME DO PYSPARK PARA PANDAS\n",
        "df_pandas = df.toPandas()"
      ],
      "metadata": {
        "id": "WysE5m2ezkvb"
      },
      "execution_count": 9,
      "outputs": []
    },
    {
      "cell_type": "code",
      "source": [
        "#CONVERTER UM DATAFRAME DO PANDAS PARA O PYSPARK\n",
        "df_spark = spark.createDataFrame(df_pandas)"
      ],
      "metadata": {
        "id": "xmtal2dl2QJA"
      },
      "execution_count": 10,
      "outputs": []
    },
    {
      "cell_type": "markdown",
      "source": [
        "SPLIT"
      ],
      "metadata": {
        "id": "u-a553Ej-XEH"
      }
    },
    {
      "cell_type": "code",
      "source": [
        "#SPLIT _ DIVIDIR ALGO\n",
        "#TRUNCATE NO FINAL DA FRASE = FALSE SERVE PARA MOSTRAR TODA A COLUNA SEM CORTAR OS VALORES\n",
        "df.show(10)\n",
        "df.select(F.split(F.col('data'), '-').alias('TESTE')).show(truncate=False)"
      ],
      "metadata": {
        "colab": {
          "base_uri": "https://localhost:8080/"
        },
        "id": "lm_q61eaAEIu",
        "outputId": "4577c7bb-c66d-410b-c72b-66f62c2292f8"
      },
      "execution_count": 11,
      "outputs": [
        {
          "output_type": "stream",
          "name": "stdout",
          "text": [
            "+------+------+-------------------+----------+---------------+-----------+----------------+\n",
            "|regiao|estado|               data|casosNovos|casosAcumulados|obitosNovos|obitosAcumulados|\n",
            "+------+------+-------------------+----------+---------------+-----------+----------------+\n",
            "| Norte|    RO|2020-01-30 00:00:00|         0|              0|          0|               0|\n",
            "| Norte|    RO|2020-01-31 00:00:00|         0|              0|          0|               0|\n",
            "| Norte|    RO|2020-02-01 00:00:00|         0|              0|          0|               0|\n",
            "| Norte|    RO|2020-02-02 00:00:00|         0|              0|          0|               0|\n",
            "| Norte|    RO|2020-02-03 00:00:00|         0|              0|          0|               0|\n",
            "| Norte|    RO|2020-02-04 00:00:00|         0|              0|          0|               0|\n",
            "| Norte|    RO|2020-02-05 00:00:00|         0|              0|          0|               0|\n",
            "| Norte|    RO|2020-02-06 00:00:00|         0|              0|          0|               0|\n",
            "| Norte|    RO|2020-02-07 00:00:00|         0|              0|          0|               0|\n",
            "| Norte|    RO|2020-02-08 00:00:00|         0|              0|          0|               0|\n",
            "+------+------+-------------------+----------+---------------+-----------+----------------+\n",
            "only showing top 10 rows\n",
            "\n",
            "+-----------------------+\n",
            "|TESTE                  |\n",
            "+-----------------------+\n",
            "|[2020, 01, 30 00:00:00]|\n",
            "|[2020, 01, 31 00:00:00]|\n",
            "|[2020, 02, 01 00:00:00]|\n",
            "|[2020, 02, 02 00:00:00]|\n",
            "|[2020, 02, 03 00:00:00]|\n",
            "|[2020, 02, 04 00:00:00]|\n",
            "|[2020, 02, 05 00:00:00]|\n",
            "|[2020, 02, 06 00:00:00]|\n",
            "|[2020, 02, 07 00:00:00]|\n",
            "|[2020, 02, 08 00:00:00]|\n",
            "|[2020, 02, 09 00:00:00]|\n",
            "|[2020, 02, 10 00:00:00]|\n",
            "|[2020, 02, 11 00:00:00]|\n",
            "|[2020, 02, 12 00:00:00]|\n",
            "|[2020, 02, 13 00:00:00]|\n",
            "|[2020, 02, 14 00:00:00]|\n",
            "|[2020, 02, 15 00:00:00]|\n",
            "|[2020, 02, 16 00:00:00]|\n",
            "|[2020, 02, 17 00:00:00]|\n",
            "|[2020, 02, 18 00:00:00]|\n",
            "+-----------------------+\n",
            "only showing top 20 rows\n",
            "\n"
          ]
        }
      ]
    },
    {
      "cell_type": "code",
      "source": [
        "#REPLACE - SUBSTITUIR ALGUM TEXTO\n",
        "# A função F.regexp_replace('valor', 'valor2') altera um texto qualquer.\n",
        "# Lemos \"altere todos os 'valor' por 'valor2'.\"\n",
        "\n",
        "df.withColumn('Regiao_alterada', F.regexp_replace('regiao', 'e', ' AAA')).show(10)"
      ],
      "metadata": {
        "colab": {
          "base_uri": "https://localhost:8080/"
        },
        "id": "nahnQTH8B_Et",
        "outputId": "a0ac9712-f23b-4393-c47f-d2bb2893e7e4"
      },
      "execution_count": 12,
      "outputs": [
        {
          "output_type": "stream",
          "name": "stdout",
          "text": [
            "+------+------+-------------------+----------+---------------+-----------+----------------+---------------+\n",
            "|regiao|estado|               data|casosNovos|casosAcumulados|obitosNovos|obitosAcumulados|Regiao_alterada|\n",
            "+------+------+-------------------+----------+---------------+-----------+----------------+---------------+\n",
            "| Norte|    RO|2020-01-30 00:00:00|         0|              0|          0|               0|       Nort AAA|\n",
            "| Norte|    RO|2020-01-31 00:00:00|         0|              0|          0|               0|       Nort AAA|\n",
            "| Norte|    RO|2020-02-01 00:00:00|         0|              0|          0|               0|       Nort AAA|\n",
            "| Norte|    RO|2020-02-02 00:00:00|         0|              0|          0|               0|       Nort AAA|\n",
            "| Norte|    RO|2020-02-03 00:00:00|         0|              0|          0|               0|       Nort AAA|\n",
            "| Norte|    RO|2020-02-04 00:00:00|         0|              0|          0|               0|       Nort AAA|\n",
            "| Norte|    RO|2020-02-05 00:00:00|         0|              0|          0|               0|       Nort AAA|\n",
            "| Norte|    RO|2020-02-06 00:00:00|         0|              0|          0|               0|       Nort AAA|\n",
            "| Norte|    RO|2020-02-07 00:00:00|         0|              0|          0|               0|       Nort AAA|\n",
            "| Norte|    RO|2020-02-08 00:00:00|         0|              0|          0|               0|       Nort AAA|\n",
            "+------+------+-------------------+----------+---------------+-----------+----------------+---------------+\n",
            "only showing top 10 rows\n",
            "\n"
          ]
        }
      ]
    },
    {
      "cell_type": "code",
      "source": [
        "#COMO FAZER UMA CONSULTA EM MASSA\n",
        "#A FUNÇÃO É O WHEN/OTHERWISE \n",
        "#USAMOS F.WHEN (FUNÇÃO) PARA INICIAR \n",
        "#USAMOS O .WHEN (FUNÇÃO) ENCADEADO, QUANDO NÃO É O INÍCIO DA FUNÇÃO\n",
        "'''\n",
        "(\n",
        "    df.withColumn('Regiao_alterada', F.when(F.col('regiao') == 'Norte'), \n",
        "                                      F.regexp_replace('regiao', 'Norte', 'Nordeste'))\n",
        "                                      .when(F.col('regiao') == 'Nordeste'),\n",
        "                                      F.regexp_replace('regiao', 'Nordeste', 'Sudeste')\n",
        "                                      .when()\n",
        ")\n",
        "'''"
      ],
      "metadata": {
        "colab": {
          "base_uri": "https://localhost:8080/",
          "height": 53
        },
        "id": "uY8vxVfeDIjp",
        "outputId": "91a85456-2585-4cb8-dd5b-1b67ebf01489"
      },
      "execution_count": 13,
      "outputs": [
        {
          "output_type": "execute_result",
          "data": {
            "text/plain": [
              "\"\\n(\\n    df.withColumn('Regiao_alterada', F.when(F.col('regiao') == 'Norte'), \\n                                      F.regexp_replace('regiao', 'Norte', 'Nordeste'))\\n                                      .when(F.col('regiao') == 'Nordeste'),\\n                                      F.regexp_replace('regiao', 'Nordeste', 'Sudeste')\\n                                      .when()\\n)\\n\""
            ],
            "application/vnd.google.colaboratory.intrinsic+json": {
              "type": "string"
            }
          },
          "metadata": {},
          "execution_count": 13
        }
      ]
    },
    {
      "cell_type": "code",
      "source": [
        "df.withColumn('Regiao_alterada', F.when(F.col('regiao') == 'Norte', F.regexp_replace('regiao', 'Norte', 'Nordeste'))\n",
        "                                      .when(F.col('regiao') == 'Nordeste', F.regexp_replace('regiao', 'Nordeste', 'Sudeste'))\n",
        "\n",
        ").show(2)"
      ],
      "metadata": {
        "colab": {
          "base_uri": "https://localhost:8080/"
        },
        "id": "HfJwJS8m_nhG",
        "outputId": "cca20310-2690-4839-f386-27dca178e6b0"
      },
      "execution_count": 14,
      "outputs": [
        {
          "output_type": "stream",
          "name": "stdout",
          "text": [
            "+------+------+-------------------+----------+---------------+-----------+----------------+---------------+\n",
            "|regiao|estado|               data|casosNovos|casosAcumulados|obitosNovos|obitosAcumulados|Regiao_alterada|\n",
            "+------+------+-------------------+----------+---------------+-----------+----------------+---------------+\n",
            "| Norte|    RO|2020-01-30 00:00:00|         0|              0|          0|               0|       Nordeste|\n",
            "| Norte|    RO|2020-01-31 00:00:00|         0|              0|          0|               0|       Nordeste|\n",
            "+------+------+-------------------+----------+---------------+-----------+----------------+---------------+\n",
            "only showing top 2 rows\n",
            "\n"
          ]
        }
      ]
    },
    {
      "cell_type": "markdown",
      "source": [
        "#StructType\n",
        "- É um modelo utilizado para alterar os tipos de dados.\n",
        "- É o Schema.\n",
        "- Ele funciona como o Pandera, Pandas, por;em já faz parte do PySpark."
      ],
      "metadata": {
        "id": "sR_RqxoEAWlA"
      }
    },
    {
      "cell_type": "code",
      "source": [
        "# StructType - DEFINE O ESQUEMA PARA O DATAFRAME\n",
        "from pyspark.sql.types import *"
      ],
      "metadata": {
        "id": "v9um7zxyErB7"
      },
      "execution_count": 15,
      "outputs": []
    },
    {
      "cell_type": "code",
      "source": [
        "'''\n",
        "Aqui, montamos o esquema do modo como desajarmos. Isso faz com que o df fique regular\n",
        "Por ex: sem ele, o Python pode ler uma tabela de floats como Integer\n",
        "Da mesma forma, também pode ser utilizado para verificar inconsistências\n",
        "\n",
        "As colunas, aqui, ficarão definidas da forma como você escrever\n",
        "É case sensitive e pode ser usado para organizar, por exemplo se você precisar traduzir um dataset\n",
        "O Schema também define a ordem das colunas\n",
        "'''\n",
        "esquema = (\n",
        "    StructType([\n",
        "        StructField('Região',StringType()),\n",
        "        StructField('ESTADO', StringType()),\n",
        "        StructField('DaTa', DateType()),\n",
        "        StructField('CASOSnovos', IntegerType()),\n",
        "        StructField('casosAcumulados', IntegerType()),\n",
        "        StructField('ObitosNovos', IntegerType()),\n",
        "        StructField('ObitosAcumulados', IntegerType())\n",
        "        ])\n",
        ")"
      ],
      "metadata": {
        "id": "iED4isTjFMxT"
      },
      "execution_count": 16,
      "outputs": []
    },
    {
      "cell_type": "code",
      "source": [
        "# Vamos colocar o inferschema como False, para que ele não interfira\n",
        "df = ( spark.read.format(\"csv\")\n",
        "                  .option(\"header\", \"true\")\n",
        "                  .option(\"inferschema\", \"false\")\n",
        "                  .option(\"delimiter\", \";\")\n",
        "                  .load('/content/drive/MyDrive/Datasets/arquivo_geral.csv', schema=esquema)\n",
        ")"
      ],
      "metadata": {
        "id": "z-bRvm8rHsmA"
      },
      "execution_count": 17,
      "outputs": []
    },
    {
      "cell_type": "code",
      "source": [
        "df.printSchema()"
      ],
      "metadata": {
        "colab": {
          "base_uri": "https://localhost:8080/"
        },
        "id": "Q3kPdJt0H1QF",
        "outputId": "61b2c0d0-217b-449f-beca-3b0f33e197c3"
      },
      "execution_count": 18,
      "outputs": [
        {
          "output_type": "stream",
          "name": "stdout",
          "text": [
            "root\n",
            " |-- Região: string (nullable = true)\n",
            " |-- ESTADO: string (nullable = true)\n",
            " |-- DaTa: date (nullable = true)\n",
            " |-- CASOSnovos: integer (nullable = true)\n",
            " |-- casosAcumulados: integer (nullable = true)\n",
            " |-- ObitosNovos: integer (nullable = true)\n",
            " |-- ObitosAcumulados: integer (nullable = true)\n",
            "\n"
          ]
        }
      ]
    },
    {
      "cell_type": "code",
      "source": [
        "#Como definimos, neste exemplo, que a coluna região é um integer, o StructType mostrará todos os valores nulos, identificando uma inconscistência.\n",
        "df.show()"
      ],
      "metadata": {
        "colab": {
          "base_uri": "https://localhost:8080/"
        },
        "id": "n-vJaFyWH3Ae",
        "outputId": "e970a0d0-ebfd-4544-963e-8bbad37cea28"
      },
      "execution_count": 19,
      "outputs": [
        {
          "output_type": "stream",
          "name": "stdout",
          "text": [
            "+------+------+----------+----------+---------------+-----------+----------------+\n",
            "|Região|ESTADO|      DaTa|CASOSnovos|casosAcumulados|ObitosNovos|ObitosAcumulados|\n",
            "+------+------+----------+----------+---------------+-----------+----------------+\n",
            "| Norte|    RO|2020-01-30|         0|              0|          0|               0|\n",
            "| Norte|    RO|2020-01-31|         0|              0|          0|               0|\n",
            "| Norte|    RO|2020-02-01|         0|              0|          0|               0|\n",
            "| Norte|    RO|2020-02-02|         0|              0|          0|               0|\n",
            "| Norte|    RO|2020-02-03|         0|              0|          0|               0|\n",
            "| Norte|    RO|2020-02-04|         0|              0|          0|               0|\n",
            "| Norte|    RO|2020-02-05|         0|              0|          0|               0|\n",
            "| Norte|    RO|2020-02-06|         0|              0|          0|               0|\n",
            "| Norte|    RO|2020-02-07|         0|              0|          0|               0|\n",
            "| Norte|    RO|2020-02-08|         0|              0|          0|               0|\n",
            "| Norte|    RO|2020-02-09|         0|              0|          0|               0|\n",
            "| Norte|    RO|2020-02-10|         0|              0|          0|               0|\n",
            "| Norte|    RO|2020-02-11|         0|              0|          0|               0|\n",
            "| Norte|    RO|2020-02-12|         0|              0|          0|               0|\n",
            "| Norte|    RO|2020-02-13|         0|              0|          0|               0|\n",
            "| Norte|    RO|2020-02-14|         0|              0|          0|               0|\n",
            "| Norte|    RO|2020-02-15|         0|              0|          0|               0|\n",
            "| Norte|    RO|2020-02-16|         0|              0|          0|               0|\n",
            "| Norte|    RO|2020-02-17|         0|              0|          0|               0|\n",
            "| Norte|    RO|2020-02-18|         0|              0|          0|               0|\n",
            "+------+------+----------+----------+---------------+-----------+----------------+\n",
            "only showing top 20 rows\n",
            "\n"
          ]
        }
      ]
    },
    {
      "cell_type": "markdown",
      "source": [
        "#FUNÇÕES WINDOW\n",
        "### Podem ser entendidas como \"filtros\", porém é preciso criarmos um novo dataframe, e ele sofrerá alterações conforme o uso."
      ],
      "metadata": {
        "id": "p4GKu37iA5B3"
      }
    },
    {
      "cell_type": "code",
      "source": [
        "#WINDOW FUNCTIONS - Funções de Janela\n",
        "from pyspark.sql.window import Window"
      ],
      "metadata": {
        "id": "0VL5rJC5O7Kl"
      },
      "execution_count": 20,
      "outputs": []
    },
    {
      "cell_type": "code",
      "source": [
        "#CRIANDO O SCHEMA\n",
        "schema = ['nome', 'departamento', 'estado', 'salario']\n",
        "\n",
        "dados = [('Anderson', 'vendas', 'SP', 9000),\n",
        "         ('Kennedy', 'vendas', 'RJ', 4500),\n",
        "         ('Luciana', 'vendas', 'SP', 4500),\n",
        "         ('Marta', 'vendas', 'SP', 4500),\n",
        "         ('João', 'vendas', 'SP', 4500),\n",
        "         ('Diego', 'vendas', 'SP', 4500),\n",
        "         ('Marilia', 'vendas', 'SP', 1200),\n",
        "         ('Gustavo', 'financeiro', 'AM', 8000),\n",
        "         ('Pedro', 'financeiro', 'AM', 2750),\n",
        "         ('Juliana', 'financeiro', 'MG', 3000),\n",
        "         ('Leticia', 'financeiro', 'RJ', 7500),\n",
        "         ('Oswaldo', 'marketing', 'RJ', 2450),\n",
        "         ('Denis', 'marketing', 'MG', 1300)\n",
        "         \n",
        "        ]\n",
        "df_window = spark.createDataFrame(data=dados, schema=schema)"
      ],
      "metadata": {
        "id": "K7yz9qAKNRU1"
      },
      "execution_count": 21,
      "outputs": []
    },
    {
      "cell_type": "code",
      "source": [
        "df_window.show()"
      ],
      "metadata": {
        "colab": {
          "base_uri": "https://localhost:8080/"
        },
        "id": "8WprMWHHNTH9",
        "outputId": "8b446002-29b0-4324-989b-3485e9a83206"
      },
      "execution_count": 22,
      "outputs": [
        {
          "output_type": "stream",
          "name": "stdout",
          "text": [
            "+--------+------------+------+-------+\n",
            "|    nome|departamento|estado|salario|\n",
            "+--------+------------+------+-------+\n",
            "|Anderson|      vendas|    SP|   9000|\n",
            "| Kennedy|      vendas|    RJ|   4500|\n",
            "| Luciana|      vendas|    SP|   4500|\n",
            "|   Marta|      vendas|    SP|   4500|\n",
            "|    João|      vendas|    SP|   4500|\n",
            "|   Diego|      vendas|    SP|   4500|\n",
            "| Marilia|      vendas|    SP|   1200|\n",
            "| Gustavo|  financeiro|    AM|   8000|\n",
            "|   Pedro|  financeiro|    AM|   2750|\n",
            "| Juliana|  financeiro|    MG|   3000|\n",
            "| Leticia|  financeiro|    RJ|   7500|\n",
            "| Oswaldo|   marketing|    RJ|   2450|\n",
            "|   Denis|   marketing|    MG|   1300|\n",
            "+--------+------------+------+-------+\n",
            "\n"
          ]
        }
      ]
    },
    {
      "cell_type": "markdown",
      "source": [
        "CRIANDO UMA PARTITION"
      ],
      "metadata": {
        "id": "3BUvBR2HBGy8"
      }
    },
    {
      "cell_type": "code",
      "source": [
        "'''Vamos criar nossa partição\n",
        "Criamos uma variável qualquer (no caso, 'w0') e dizemos qual a coluna que vamos utilizar como partição\n",
        "Após particionar o departamento, podemos usar qualquer coluna para ordenar (ORDER BY)\n",
        "'''\n",
        "w0 = Window.partitionBy(F.col('departamento')).orderBy('salario')"
      ],
      "metadata": {
        "id": "J-O4k1lUNU_M"
      },
      "execution_count": 23,
      "outputs": []
    },
    {
      "cell_type": "markdown",
      "source": [
        "WINDOW FUNCTIONS"
      ],
      "metadata": {
        "id": "brB12QTABRAm"
      }
    },
    {
      "cell_type": "code",
      "source": [
        "#ROW NUMBER - RETORNA O NÚMERO DA LINHA\n",
        "df_window.withColumn('row_number', F.row_number().over(w0)).show()\n",
        "#Se usarmos o orderBy desc, podemos ver ao contrário."
      ],
      "metadata": {
        "colab": {
          "base_uri": "https://localhost:8080/"
        },
        "id": "yrsenTZhPlNO",
        "outputId": "7e3c7adf-4e29-4cdb-e91b-9e785b24b27c"
      },
      "execution_count": 24,
      "outputs": [
        {
          "output_type": "stream",
          "name": "stdout",
          "text": [
            "+--------+------------+------+-------+----------+\n",
            "|    nome|departamento|estado|salario|row_number|\n",
            "+--------+------------+------+-------+----------+\n",
            "|   Pedro|  financeiro|    AM|   2750|         1|\n",
            "| Juliana|  financeiro|    MG|   3000|         2|\n",
            "| Leticia|  financeiro|    RJ|   7500|         3|\n",
            "| Gustavo|  financeiro|    AM|   8000|         4|\n",
            "|   Denis|   marketing|    MG|   1300|         1|\n",
            "| Oswaldo|   marketing|    RJ|   2450|         2|\n",
            "| Marilia|      vendas|    SP|   1200|         1|\n",
            "| Kennedy|      vendas|    RJ|   4500|         2|\n",
            "| Luciana|      vendas|    SP|   4500|         3|\n",
            "|   Marta|      vendas|    SP|   4500|         4|\n",
            "|    João|      vendas|    SP|   4500|         5|\n",
            "|   Diego|      vendas|    SP|   4500|         6|\n",
            "|Anderson|      vendas|    SP|   9000|         7|\n",
            "+--------+------------+------+-------+----------+\n",
            "\n"
          ]
        }
      ]
    },
    {
      "cell_type": "code",
      "source": [
        "#RANK\n",
        "'''\n",
        "A função rank vai ordenar uma posição dentro de cada departamento criado pela Window. \n",
        "Em nosso exemplo, os salários estão em ordem crescente, por departamento.\n",
        "Quando os valores são iguais, eles ocupam a mesma \"posição\" no ranking de cada departamento.\n",
        "'''\n",
        "df_window.withColumn('rank', F.rank().over(w0)).show()"
      ],
      "metadata": {
        "colab": {
          "base_uri": "https://localhost:8080/"
        },
        "id": "lOH-dCSHRA_a",
        "outputId": "aaf1ccb1-1de5-45be-86c1-c207bf6de0b5"
      },
      "execution_count": 25,
      "outputs": [
        {
          "output_type": "stream",
          "name": "stdout",
          "text": [
            "+--------+------------+------+-------+----+\n",
            "|    nome|departamento|estado|salario|rank|\n",
            "+--------+------------+------+-------+----+\n",
            "|   Pedro|  financeiro|    AM|   2750|   1|\n",
            "| Juliana|  financeiro|    MG|   3000|   2|\n",
            "| Leticia|  financeiro|    RJ|   7500|   3|\n",
            "| Gustavo|  financeiro|    AM|   8000|   4|\n",
            "|   Denis|   marketing|    MG|   1300|   1|\n",
            "| Oswaldo|   marketing|    RJ|   2450|   2|\n",
            "| Marilia|      vendas|    SP|   1200|   1|\n",
            "| Kennedy|      vendas|    RJ|   4500|   2|\n",
            "| Luciana|      vendas|    SP|   4500|   2|\n",
            "|   Marta|      vendas|    SP|   4500|   2|\n",
            "|    João|      vendas|    SP|   4500|   2|\n",
            "|   Diego|      vendas|    SP|   4500|   2|\n",
            "|Anderson|      vendas|    SP|   9000|   7|\n",
            "+--------+------------+------+-------+----+\n",
            "\n"
          ]
        }
      ]
    },
    {
      "cell_type": "code",
      "source": [
        "#DENSE_RANK - Faz o ranqueamento entre todos os departamentos.\n",
        "df_window.withColumn('dense_rank', F.dense_rank().over(w0)).show()"
      ],
      "metadata": {
        "colab": {
          "base_uri": "https://localhost:8080/"
        },
        "id": "r25R2L39RERy",
        "outputId": "4172435c-e14d-4a25-c0ef-476c0c82e6bd"
      },
      "execution_count": 26,
      "outputs": [
        {
          "output_type": "stream",
          "name": "stdout",
          "text": [
            "+--------+------------+------+-------+----------+\n",
            "|    nome|departamento|estado|salario|dense_rank|\n",
            "+--------+------------+------+-------+----------+\n",
            "|   Pedro|  financeiro|    AM|   2750|         1|\n",
            "| Juliana|  financeiro|    MG|   3000|         2|\n",
            "| Leticia|  financeiro|    RJ|   7500|         3|\n",
            "| Gustavo|  financeiro|    AM|   8000|         4|\n",
            "|   Denis|   marketing|    MG|   1300|         1|\n",
            "| Oswaldo|   marketing|    RJ|   2450|         2|\n",
            "| Marilia|      vendas|    SP|   1200|         1|\n",
            "| Kennedy|      vendas|    RJ|   4500|         2|\n",
            "| Luciana|      vendas|    SP|   4500|         2|\n",
            "|   Marta|      vendas|    SP|   4500|         2|\n",
            "|    João|      vendas|    SP|   4500|         2|\n",
            "|   Diego|      vendas|    SP|   4500|         2|\n",
            "|Anderson|      vendas|    SP|   9000|         3|\n",
            "+--------+------------+------+-------+----------+\n",
            "\n"
          ]
        }
      ]
    },
    {
      "cell_type": "code",
      "source": [
        "#LAG\n",
        "'''\n",
        "A função lag mostra o resultado da linha anterior.\n",
        "No exemplo: Antes de 2750, não há nenhum valor; Antes de 7000, há 3000...\n",
        "É uma função usada para estatística, uso mais específicos.\n",
        "F,lag('nome-da-coluna'). O número após o nome da coluna define o intervalo.\n",
        "'''\n",
        "df_window.withColumn('lag', F.lag(\"salario\",2).over(w0)).show()"
      ],
      "metadata": {
        "colab": {
          "base_uri": "https://localhost:8080/"
        },
        "id": "5hZ-j_okT-9T",
        "outputId": "82e9792a-ac5a-4141-c822-c953a5b918e7"
      },
      "execution_count": 27,
      "outputs": [
        {
          "output_type": "stream",
          "name": "stdout",
          "text": [
            "+--------+------------+------+-------+----+\n",
            "|    nome|departamento|estado|salario| lag|\n",
            "+--------+------------+------+-------+----+\n",
            "|   Pedro|  financeiro|    AM|   2750|null|\n",
            "| Juliana|  financeiro|    MG|   3000|null|\n",
            "| Leticia|  financeiro|    RJ|   7500|2750|\n",
            "| Gustavo|  financeiro|    AM|   8000|3000|\n",
            "|   Denis|   marketing|    MG|   1300|null|\n",
            "| Oswaldo|   marketing|    RJ|   2450|null|\n",
            "| Marilia|      vendas|    SP|   1200|null|\n",
            "| Kennedy|      vendas|    RJ|   4500|null|\n",
            "| Luciana|      vendas|    SP|   4500|1200|\n",
            "|   Marta|      vendas|    SP|   4500|4500|\n",
            "|    João|      vendas|    SP|   4500|4500|\n",
            "|   Diego|      vendas|    SP|   4500|4500|\n",
            "|Anderson|      vendas|    SP|   9000|4500|\n",
            "+--------+------------+------+-------+----+\n",
            "\n"
          ]
        }
      ]
    },
    {
      "cell_type": "code",
      "source": [
        "#LEAD - É o contrário da função lag: mostra os resultados posteriores.\n",
        "df_window.withColumn('lead', F.lead(\"salario\",1).over(w0)).show()"
      ],
      "metadata": {
        "colab": {
          "base_uri": "https://localhost:8080/"
        },
        "id": "ptL58n1hUIrH",
        "outputId": "211e3c20-e9f9-4d19-ed3b-a1ddfca08c3b"
      },
      "execution_count": 28,
      "outputs": [
        {
          "output_type": "stream",
          "name": "stdout",
          "text": [
            "+--------+------------+------+-------+----+\n",
            "|    nome|departamento|estado|salario|lead|\n",
            "+--------+------------+------+-------+----+\n",
            "|   Pedro|  financeiro|    AM|   2750|3000|\n",
            "| Juliana|  financeiro|    MG|   3000|7500|\n",
            "| Leticia|  financeiro|    RJ|   7500|8000|\n",
            "| Gustavo|  financeiro|    AM|   8000|null|\n",
            "|   Denis|   marketing|    MG|   1300|2450|\n",
            "| Oswaldo|   marketing|    RJ|   2450|null|\n",
            "| Marilia|      vendas|    SP|   1200|4500|\n",
            "| Kennedy|      vendas|    RJ|   4500|4500|\n",
            "| Luciana|      vendas|    SP|   4500|4500|\n",
            "|   Marta|      vendas|    SP|   4500|4500|\n",
            "|    João|      vendas|    SP|   4500|4500|\n",
            "|   Diego|      vendas|    SP|   4500|9000|\n",
            "|Anderson|      vendas|    SP|   9000|null|\n",
            "+--------+------------+------+-------+----+\n",
            "\n"
          ]
        }
      ]
    }
  ]
}
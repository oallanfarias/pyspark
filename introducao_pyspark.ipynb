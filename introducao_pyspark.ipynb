{
  "nbformat": 4,
  "nbformat_minor": 0,
  "metadata": {
    "colab": {
      "name": "introducao_pyspark.ipynb",
      "provenance": [],
      "collapsed_sections": [],
      "mount_file_id": "1tkz1W6yFjIGN2j3o_Z7BZW4488ORy7Co",
      "authorship_tag": "ABX9TyOHJmK2rYFX21vgNwQark2X",
      "include_colab_link": true
    },
    "kernelspec": {
      "name": "python3",
      "display_name": "Python 3"
    },
    "language_info": {
      "name": "python"
    }
  },
  "cells": [
    {
      "cell_type": "markdown",
      "metadata": {
        "id": "view-in-github",
        "colab_type": "text"
      },
      "source": [
        "<a href=\"https://colab.research.google.com/github/oallanfarias/pyspark/blob/atualizacoes/introducao_pyspark.ipynb\" target=\"_parent\"><img src=\"https://colab.research.google.com/assets/colab-badge.svg\" alt=\"Open In Colab\"/></a>"
      ]
    },
    {
      "cell_type": "markdown",
      "source": [
        "# Instalação do PySpark"
      ],
      "metadata": {
        "id": "IEh8flLPFvoi"
      }
    },
    {
      "cell_type": "code",
      "execution_count": 1,
      "metadata": {
        "colab": {
          "base_uri": "https://localhost:8080/"
        },
        "id": "y84ZqRf7FZBb",
        "outputId": "a86c1bf3-252f-4e70-9925-1e83de0c3569"
      },
      "outputs": [
        {
          "output_type": "stream",
          "name": "stdout",
          "text": [
            "Looking in indexes: https://pypi.org/simple, https://us-python.pkg.dev/colab-wheels/public/simple/\n",
            "Requirement already satisfied: pyspark in /usr/local/lib/python3.7/dist-packages (3.3.0)\n",
            "Requirement already satisfied: py4j==0.10.9.5 in /usr/local/lib/python3.7/dist-packages (from pyspark) (0.10.9.5)\n"
          ]
        }
      ],
      "source": [
        "!pip install pyspark"
      ]
    },
    {
      "cell_type": "markdown",
      "source": [
        "#Importação do PySpark"
      ],
      "metadata": {
        "id": "mhhnuFHvhHF9"
      }
    },
    {
      "cell_type": "code",
      "source": [
        "#COMANDO PARA IMPORTAR O SPARKSESSION\n",
        "from pyspark.sql import SparkSession\n",
        "\n",
        "#UTILIZAR UMA FUNCTION\n",
        "import pyspark.sql.functions as F"
      ],
      "metadata": {
        "id": "A-bbNrg8Fubt"
      },
      "execution_count": 2,
      "outputs": []
    },
    {
      "cell_type": "markdown",
      "source": [
        "#Configuração da SparkSession"
      ],
      "metadata": {
        "id": "bmJclujdhLpZ"
      }
    },
    {
      "cell_type": "code",
      "source": [
        "# spark = (SparkSession.builder    |  Constrói a sessão\n",
        "# .master('local[4]')              |  Define a máquina master. Parênteses indicam a máquina (pode ser local, seu pc ou cloud). [] Define o número de núcleos\n",
        "# .appName('intro-pyspark')        |  Define o nome da aplicação (a própria sessão)\n",
        "# .config('spark.ui.port', '4050') |  Define as porta da aplicação\n",
        "# .getOrCreate()                   |  Função que cria a session\n",
        "# )\n",
        "spark = (SparkSession.builder\n",
        "          .master('local[4]')\n",
        "          .appName('intro-pyspark')\n",
        "          .config('spark.ui.port', '4050')\n",
        "          .getOrCreate()\n",
        "        )"
      ],
      "metadata": {
        "id": "Yr6NNM8xIoM7"
      },
      "execution_count": 3,
      "outputs": []
    },
    {
      "cell_type": "code",
      "source": [
        "spark"
      ],
      "metadata": {
        "colab": {
          "base_uri": "https://localhost:8080/",
          "height": 221
        },
        "id": "Iix4TmhHTjUR",
        "outputId": "89284279-14ed-4611-dd0d-6432a6604c1a"
      },
      "execution_count": 4,
      "outputs": [
        {
          "output_type": "execute_result",
          "data": {
            "text/plain": [
              "<pyspark.sql.session.SparkSession at 0x7fde86e1f290>"
            ],
            "text/html": [
              "\n",
              "            <div>\n",
              "                <p><b>SparkSession - in-memory</b></p>\n",
              "                \n",
              "        <div>\n",
              "            <p><b>SparkContext</b></p>\n",
              "\n",
              "            <p><a href=\"http://47b0e86e9291:4050\">Spark UI</a></p>\n",
              "\n",
              "            <dl>\n",
              "              <dt>Version</dt>\n",
              "                <dd><code>v3.3.0</code></dd>\n",
              "              <dt>Master</dt>\n",
              "                <dd><code>local[4]</code></dd>\n",
              "              <dt>AppName</dt>\n",
              "                <dd><code>intro-pyspark</code></dd>\n",
              "            </dl>\n",
              "        </div>\n",
              "        \n",
              "            </div>\n",
              "        "
            ]
          },
          "metadata": {},
          "execution_count": 4
        }
      ]
    },
    {
      "cell_type": "markdown",
      "source": [
        "#DATAFRAMES"
      ],
      "metadata": {
        "id": "4nWnx1shhihC"
      }
    },
    {
      "cell_type": "code",
      "source": [
        "#FORMA DE SE TRABALHAR COM OS DADOS (DATAFRAME - Estrutura de Dados)\n",
        "#CRIAR UM SCHEMA E SUAS INSTÂNCIAS\n",
        "esquema = ['nome', 'cidade', 'estado', 'salario']\n",
        "\n",
        "dados = [\n",
        "    ('João da Silva', 'São Paulo', 'SP', 1100.00),\n",
        "    ('Maria dos Santos', 'São Paulo', 'SP', 2100.00),\n",
        "    ('Carlos Victor', 'Rio de Janeiro', 'RJ', 2100.00),\n",
        "    ('Pedro José', 'Maceió', 'AL', 3600.00)\n",
        "]\n",
        "\n",
        "df = spark.createDataFrame(data = dados, schema = esquema)"
      ],
      "metadata": {
        "id": "tZ5XRsMUTlsN"
      },
      "execution_count": 5,
      "outputs": []
    },
    {
      "cell_type": "code",
      "source": [
        "#MOSTRA DO DATAFRAME GERAL (DF)\n",
        "df.show()"
      ],
      "metadata": {
        "id": "phL_vneWTnld",
        "colab": {
          "base_uri": "https://localhost:8080/"
        },
        "outputId": "04551280-ea2d-42b8-e5ba-d44d5f80fb29"
      },
      "execution_count": 6,
      "outputs": [
        {
          "output_type": "stream",
          "name": "stdout",
          "text": [
            "+----------------+--------------+------+-------+\n",
            "|            nome|        cidade|estado|salario|\n",
            "+----------------+--------------+------+-------+\n",
            "|   João da Silva|     São Paulo|    SP| 1100.0|\n",
            "|Maria dos Santos|     São Paulo|    SP| 2100.0|\n",
            "|   Carlos Victor|Rio de Janeiro|    RJ| 2100.0|\n",
            "|      Pedro José|        Maceió|    AL| 3600.0|\n",
            "+----------------+--------------+------+-------+\n",
            "\n"
          ]
        }
      ]
    },
    {
      "cell_type": "code",
      "source": [
        "#MOSTRA O SCHEMA\n",
        "df.printSchema()"
      ],
      "metadata": {
        "id": "OoFOYzD8TpLl",
        "colab": {
          "base_uri": "https://localhost:8080/"
        },
        "outputId": "07be412f-6777-4ac4-e954-36831af6a942"
      },
      "execution_count": 7,
      "outputs": [
        {
          "output_type": "stream",
          "name": "stdout",
          "text": [
            "root\n",
            " |-- nome: string (nullable = true)\n",
            " |-- cidade: string (nullable = true)\n",
            " |-- estado: string (nullable = true)\n",
            " |-- salario: double (nullable = true)\n",
            "\n"
          ]
        }
      ]
    },
    {
      "cell_type": "markdown",
      "source": [
        "#Importação de dados CSV em PYSPARK"
      ],
      "metadata": {
        "id": "K80H9psih6Ga"
      }
    },
    {
      "cell_type": "code",
      "source": [
        "''' \n",
        "df2 = ( spark                               |\n",
        "        .read                               |   Lê o arquivo\n",
        "        .format('csv')                      |   O formato do arquivo. Poderiam ser outros formatos.\n",
        "        .option('header', 'false')          |   Escolher se queremos ou não o header. Se usar 'False' ele não mostra a primeira linha, o padrão fica C1. \n",
        "        .option('inferschema', 'false')     |   Infere o qual é o tipo de cada dado dentro do esquema. Também 'liga' ou 'desliga' com True ou False.\n",
        "        .option('delimiter', ';').          |   Indica qual o separador\n",
        "        .load('/caminho/arquivo_geral.csv') |   Inserir o caminho dos dados\n",
        "        )'''\n",
        "df2 = ( spark\n",
        "       .read\n",
        "       .format('csv')\n",
        "       .option('header', 'true')\n",
        "       .option('inferschema', 'true')\n",
        "       .option('delimiter', ';')\n",
        "       .load('/content/drive/MyDrive/Datasets/arquivo_geral.csv')\n",
        "    \n",
        "      )"
      ],
      "metadata": {
        "id": "m9u9KOqwV2oD"
      },
      "execution_count": 8,
      "outputs": []
    },
    {
      "cell_type": "code",
      "source": [
        "df2.show(10)"
      ],
      "metadata": {
        "colab": {
          "base_uri": "https://localhost:8080/"
        },
        "id": "Q5Y0rNLEXhqQ",
        "outputId": "e68e5c0c-3fe7-473f-8111-43e2bed368a1"
      },
      "execution_count": 9,
      "outputs": [
        {
          "output_type": "stream",
          "name": "stdout",
          "text": [
            "+------+------+-------------------+----------+---------------+-----------+----------------+\n",
            "|regiao|estado|               data|casosNovos|casosAcumulados|obitosNovos|obitosAcumulados|\n",
            "+------+------+-------------------+----------+---------------+-----------+----------------+\n",
            "| Norte|    RO|2020-01-30 00:00:00|         0|              0|          0|               0|\n",
            "| Norte|    RO|2020-01-31 00:00:00|         0|              0|          0|               0|\n",
            "| Norte|    RO|2020-02-01 00:00:00|         0|              0|          0|               0|\n",
            "| Norte|    RO|2020-02-02 00:00:00|         0|              0|          0|               0|\n",
            "| Norte|    RO|2020-02-03 00:00:00|         0|              0|          0|               0|\n",
            "| Norte|    RO|2020-02-04 00:00:00|         0|              0|          0|               0|\n",
            "| Norte|    RO|2020-02-05 00:00:00|         0|              0|          0|               0|\n",
            "| Norte|    RO|2020-02-06 00:00:00|         0|              0|          0|               0|\n",
            "| Norte|    RO|2020-02-07 00:00:00|         0|              0|          0|               0|\n",
            "| Norte|    RO|2020-02-08 00:00:00|         0|              0|          0|               0|\n",
            "+------+------+-------------------+----------+---------------+-----------+----------------+\n",
            "only showing top 10 rows\n",
            "\n"
          ]
        }
      ]
    },
    {
      "cell_type": "code",
      "source": [
        "df2.dtypes"
      ],
      "metadata": {
        "colab": {
          "base_uri": "https://localhost:8080/"
        },
        "id": "_WeIj63PXjK4",
        "outputId": "ea5ec6c9-819a-4612-ef19-720643ea5bc4"
      },
      "execution_count": 10,
      "outputs": [
        {
          "output_type": "execute_result",
          "data": {
            "text/plain": [
              "[('regiao', 'string'),\n",
              " ('estado', 'string'),\n",
              " ('data', 'timestamp'),\n",
              " ('casosNovos', 'int'),\n",
              " ('casosAcumulados', 'int'),\n",
              " ('obitosNovos', 'int'),\n",
              " ('obitosAcumulados', 'int')]"
            ]
          },
          "metadata": {},
          "execution_count": 10
        }
      ]
    },
    {
      "cell_type": "code",
      "source": [
        "df2.printSchema()"
      ],
      "metadata": {
        "colab": {
          "base_uri": "https://localhost:8080/"
        },
        "id": "_Ee7nRclXsGR",
        "outputId": "dd84f6f1-b561-4d40-f64e-205104c8b59e"
      },
      "execution_count": 11,
      "outputs": [
        {
          "output_type": "stream",
          "name": "stdout",
          "text": [
            "root\n",
            " |-- regiao: string (nullable = true)\n",
            " |-- estado: string (nullable = true)\n",
            " |-- data: timestamp (nullable = true)\n",
            " |-- casosNovos: integer (nullable = true)\n",
            " |-- casosAcumulados: integer (nullable = true)\n",
            " |-- obitosNovos: integer (nullable = true)\n",
            " |-- obitosAcumulados: integer (nullable = true)\n",
            "\n"
          ]
        }
      ]
    },
    {
      "cell_type": "code",
      "source": [
        "#QUANTIDADE DE REGISTROS NO DATAFRAME\n",
        "df2.count()"
      ],
      "metadata": {
        "colab": {
          "base_uri": "https://localhost:8080/"
        },
        "id": "QzOIfXpecPFO",
        "outputId": "b909da37-6387-4e31-b4be-bb6cf4b2a839"
      },
      "execution_count": 12,
      "outputs": [
        {
          "output_type": "execute_result",
          "data": {
            "text/plain": [
              "2349"
            ]
          },
          "metadata": {},
          "execution_count": 12
        }
      ]
    },
    {
      "cell_type": "markdown",
      "source": [
        "#Backup do DF no PYSPARK"
      ],
      "metadata": {
        "id": "LHI_lvHAio_m"
      }
    },
    {
      "cell_type": "code",
      "source": [
        "#BACKUP DO DATAFRAME\n",
        "df_backup = df2"
      ],
      "metadata": {
        "id": "skmzaWS1cRJQ"
      },
      "execution_count": 13,
      "outputs": []
    },
    {
      "cell_type": "code",
      "source": [
        "#DATAFRAME É IMUTÁVEL. PARA MODIFICAR UM DATAFRAME É NECESSÁRIO SOBRESCREVÊ-LO\n",
        "df = df"
      ],
      "metadata": {
        "id": "aasiylvAcT5e"
      },
      "execution_count": 14,
      "outputs": []
    },
    {
      "cell_type": "markdown",
      "source": [
        "#Aplicando filtros"
      ],
      "metadata": {
        "id": "BJs2BRZ0izLT"
      }
    },
    {
      "cell_type": "code",
      "source": [
        "#APLICANDO UM FILTRO PARA MOSTRAR APENAS COLUNAS ESPECÍFICAS\n",
        "df2.select('regiao', 'estado', 'casosAcumulados').show()"
      ],
      "metadata": {
        "colab": {
          "base_uri": "https://localhost:8080/"
        },
        "id": "oqiz4EC7cVyZ",
        "outputId": "44417bf1-5e03-41e1-9c2e-1be9ea904f52"
      },
      "execution_count": 15,
      "outputs": [
        {
          "output_type": "stream",
          "name": "stdout",
          "text": [
            "+------+------+---------------+\n",
            "|regiao|estado|casosAcumulados|\n",
            "+------+------+---------------+\n",
            "| Norte|    RO|              0|\n",
            "| Norte|    RO|              0|\n",
            "| Norte|    RO|              0|\n",
            "| Norte|    RO|              0|\n",
            "| Norte|    RO|              0|\n",
            "| Norte|    RO|              0|\n",
            "| Norte|    RO|              0|\n",
            "| Norte|    RO|              0|\n",
            "| Norte|    RO|              0|\n",
            "| Norte|    RO|              0|\n",
            "| Norte|    RO|              0|\n",
            "| Norte|    RO|              0|\n",
            "| Norte|    RO|              0|\n",
            "| Norte|    RO|              0|\n",
            "| Norte|    RO|              0|\n",
            "| Norte|    RO|              0|\n",
            "| Norte|    RO|              0|\n",
            "| Norte|    RO|              0|\n",
            "| Norte|    RO|              0|\n",
            "| Norte|    RO|              0|\n",
            "+------+------+---------------+\n",
            "only showing top 20 rows\n",
            "\n"
          ]
        }
      ]
    },
    {
      "cell_type": "code",
      "source": [
        "#APLICANDO UM FILTRO PARA MOSTRAR APENAS COLUNAS ESPECÍFICAS COM FUNCTIONS\n",
        "df2.select(F.col('regiao'), F.col('estado'), F.col('casosAcumulados')).show(10)"
      ],
      "metadata": {
        "colab": {
          "base_uri": "https://localhost:8080/"
        },
        "id": "ny2UYsETcusF",
        "outputId": "1af3d516-9f51-48a7-8603-f1829833c87b"
      },
      "execution_count": 16,
      "outputs": [
        {
          "output_type": "stream",
          "name": "stdout",
          "text": [
            "+------+------+---------------+\n",
            "|regiao|estado|casosAcumulados|\n",
            "+------+------+---------------+\n",
            "| Norte|    RO|              0|\n",
            "| Norte|    RO|              0|\n",
            "| Norte|    RO|              0|\n",
            "| Norte|    RO|              0|\n",
            "| Norte|    RO|              0|\n",
            "| Norte|    RO|              0|\n",
            "| Norte|    RO|              0|\n",
            "| Norte|    RO|              0|\n",
            "| Norte|    RO|              0|\n",
            "| Norte|    RO|              0|\n",
            "+------+------+---------------+\n",
            "only showing top 10 rows\n",
            "\n"
          ]
        }
      ]
    },
    {
      "cell_type": "code",
      "source": [
        "#EXIBIR A REGIÃO, ESTADO E CASOS NOVOS APENAS DA REGIÃO NORTE (FILTER)\n",
        "df2.select(F.col('regiao'), F.col('estado'), F.col('casosNovos')).filter(F.col('regiao') == 'Norte').show(10)"
      ],
      "metadata": {
        "colab": {
          "base_uri": "https://localhost:8080/"
        },
        "id": "WQ6bKeOCuShR",
        "outputId": "31c2149e-44cb-49bc-b4bb-ab7149de1476"
      },
      "execution_count": 17,
      "outputs": [
        {
          "output_type": "stream",
          "name": "stdout",
          "text": [
            "+------+------+----------+\n",
            "|regiao|estado|casosNovos|\n",
            "+------+------+----------+\n",
            "| Norte|    RO|         0|\n",
            "| Norte|    RO|         0|\n",
            "| Norte|    RO|         0|\n",
            "| Norte|    RO|         0|\n",
            "| Norte|    RO|         0|\n",
            "| Norte|    RO|         0|\n",
            "| Norte|    RO|         0|\n",
            "| Norte|    RO|         0|\n",
            "| Norte|    RO|         0|\n",
            "| Norte|    RO|         0|\n",
            "+------+------+----------+\n",
            "only showing top 10 rows\n",
            "\n"
          ]
        }
      ]
    },
    {
      "cell_type": "code",
      "source": [
        "#SELECIONAR TODAS AS COLUNAS E FILTRAR POR REGIÃO\n",
        "df2.filter(df2.regiao == 'Sudeste').show(10)"
      ],
      "metadata": {
        "colab": {
          "base_uri": "https://localhost:8080/"
        },
        "id": "cTZkyUY3wyVQ",
        "outputId": "c2c2566e-f0a6-4be4-d598-d0626dbe686e"
      },
      "execution_count": 18,
      "outputs": [
        {
          "output_type": "stream",
          "name": "stdout",
          "text": [
            "+-------+------+-------------------+----------+---------------+-----------+----------------+\n",
            "| regiao|estado|               data|casosNovos|casosAcumulados|obitosNovos|obitosAcumulados|\n",
            "+-------+------+-------------------+----------+---------------+-----------+----------------+\n",
            "|Sudeste|    MG|2020-01-30 00:00:00|         0|              0|          0|               0|\n",
            "|Sudeste|    MG|2020-01-31 00:00:00|         0|              0|          0|               0|\n",
            "|Sudeste|    MG|2020-02-01 00:00:00|         0|              0|          0|               0|\n",
            "|Sudeste|    MG|2020-02-02 00:00:00|         0|              0|          0|               0|\n",
            "|Sudeste|    MG|2020-02-03 00:00:00|         0|              0|          0|               0|\n",
            "|Sudeste|    MG|2020-02-04 00:00:00|         0|              0|          0|               0|\n",
            "|Sudeste|    MG|2020-02-05 00:00:00|         0|              0|          0|               0|\n",
            "|Sudeste|    MG|2020-02-06 00:00:00|         0|              0|          0|               0|\n",
            "|Sudeste|    MG|2020-02-07 00:00:00|         0|              0|          0|               0|\n",
            "|Sudeste|    MG|2020-02-08 00:00:00|         0|              0|          0|               0|\n",
            "+-------+------+-------------------+----------+---------------+-----------+----------------+\n",
            "only showing top 10 rows\n",
            "\n"
          ]
        }
      ]
    },
    {
      "cell_type": "code",
      "source": [
        "#APLICANDO FILTROS ENCADEADOS\n",
        "df2.filter(F.col('regiao') == 'Norte').filter(F.col('casosNovos') > 0).show(10)"
      ],
      "metadata": {
        "colab": {
          "base_uri": "https://localhost:8080/"
        },
        "id": "P3dAkMOXx-eo",
        "outputId": "7aa7275f-cc60-4131-c9d4-ddff024291ac"
      },
      "execution_count": 19,
      "outputs": [
        {
          "output_type": "stream",
          "name": "stdout",
          "text": [
            "+------+------+-------------------+----------+---------------+-----------+----------------+\n",
            "|regiao|estado|               data|casosNovos|casosAcumulados|obitosNovos|obitosAcumulados|\n",
            "+------+------+-------------------+----------+---------------+-----------+----------------+\n",
            "| Norte|    RO|2020-03-20 00:00:00|         1|              1|          0|               0|\n",
            "| Norte|    RO|2020-03-22 00:00:00|         2|              3|          0|               0|\n",
            "| Norte|    RO|2020-03-25 00:00:00|         2|              5|          0|               0|\n",
            "| Norte|    RO|2020-03-27 00:00:00|         1|              6|          0|               0|\n",
            "| Norte|    RO|2020-03-31 00:00:00|         2|              8|          1|               1|\n",
            "| Norte|    RO|2020-04-01 00:00:00|         1|              9|          0|               1|\n",
            "| Norte|    RO|2020-04-02 00:00:00|         1|             10|          0|               1|\n",
            "| Norte|    RO|2020-04-04 00:00:00|         1|             11|          0|               1|\n",
            "| Norte|    RO|2020-04-05 00:00:00|         1|             12|          0|               1|\n",
            "| Norte|    RO|2020-04-06 00:00:00|         2|             14|          0|               1|\n",
            "+------+------+-------------------+----------+---------------+-----------+----------------+\n",
            "only showing top 10 rows\n",
            "\n"
          ]
        }
      ]
    },
    {
      "cell_type": "code",
      "source": [
        "#OUTRA FORMA DE APLICAR FILTRO\n",
        "df2.filter(\"regiao = 'Sudeste'\").show(10)"
      ],
      "metadata": {
        "colab": {
          "base_uri": "https://localhost:8080/"
        },
        "id": "gmpNapmXyeJv",
        "outputId": "1c80420e-5cdf-4c39-834c-da5e57061497"
      },
      "execution_count": 20,
      "outputs": [
        {
          "output_type": "stream",
          "name": "stdout",
          "text": [
            "+-------+------+-------------------+----------+---------------+-----------+----------------+\n",
            "| regiao|estado|               data|casosNovos|casosAcumulados|obitosNovos|obitosAcumulados|\n",
            "+-------+------+-------------------+----------+---------------+-----------+----------------+\n",
            "|Sudeste|    MG|2020-01-30 00:00:00|         0|              0|          0|               0|\n",
            "|Sudeste|    MG|2020-01-31 00:00:00|         0|              0|          0|               0|\n",
            "|Sudeste|    MG|2020-02-01 00:00:00|         0|              0|          0|               0|\n",
            "|Sudeste|    MG|2020-02-02 00:00:00|         0|              0|          0|               0|\n",
            "|Sudeste|    MG|2020-02-03 00:00:00|         0|              0|          0|               0|\n",
            "|Sudeste|    MG|2020-02-04 00:00:00|         0|              0|          0|               0|\n",
            "|Sudeste|    MG|2020-02-05 00:00:00|         0|              0|          0|               0|\n",
            "|Sudeste|    MG|2020-02-06 00:00:00|         0|              0|          0|               0|\n",
            "|Sudeste|    MG|2020-02-07 00:00:00|         0|              0|          0|               0|\n",
            "|Sudeste|    MG|2020-02-08 00:00:00|         0|              0|          0|               0|\n",
            "+-------+------+-------------------+----------+---------------+-----------+----------------+\n",
            "only showing top 10 rows\n",
            "\n"
          ]
        }
      ]
    },
    {
      "cell_type": "code",
      "source": [
        "#UTILIZANDO UMA VARIÁVEL PARA ARMAZENAR O FILTRO\n",
        "filtro = F.col('regiao') == 'Sul'\n",
        "df2.filter(filtro).show(10)"
      ],
      "metadata": {
        "colab": {
          "base_uri": "https://localhost:8080/"
        },
        "id": "6xB8CKmlyoMJ",
        "outputId": "ae3e5499-0bfa-44c8-c73c-617083029d73"
      },
      "execution_count": 21,
      "outputs": [
        {
          "output_type": "stream",
          "name": "stdout",
          "text": [
            "+------+------+-------------------+----------+---------------+-----------+----------------+\n",
            "|regiao|estado|               data|casosNovos|casosAcumulados|obitosNovos|obitosAcumulados|\n",
            "+------+------+-------------------+----------+---------------+-----------+----------------+\n",
            "|   Sul|    PR|2020-01-30 00:00:00|         0|              0|          0|               0|\n",
            "|   Sul|    PR|2020-01-31 00:00:00|         0|              0|          0|               0|\n",
            "|   Sul|    PR|2020-02-01 00:00:00|         0|              0|          0|               0|\n",
            "|   Sul|    PR|2020-02-02 00:00:00|         0|              0|          0|               0|\n",
            "|   Sul|    PR|2020-02-03 00:00:00|         0|              0|          0|               0|\n",
            "|   Sul|    PR|2020-02-04 00:00:00|         0|              0|          0|               0|\n",
            "|   Sul|    PR|2020-02-05 00:00:00|         0|              0|          0|               0|\n",
            "|   Sul|    PR|2020-02-06 00:00:00|         0|              0|          0|               0|\n",
            "|   Sul|    PR|2020-02-07 00:00:00|         0|              0|          0|               0|\n",
            "|   Sul|    PR|2020-02-08 00:00:00|         0|              0|          0|               0|\n",
            "+------+------+-------------------+----------+---------------+-----------+----------------+\n",
            "only showing top 10 rows\n",
            "\n"
          ]
        }
      ]
    },
    {
      "cell_type": "code",
      "source": [
        "#EXEMPLO OCUPANDO MAIS DE UMA LINHA\n",
        "df5 = (df2.select(F.col('regiao'),\n",
        "                  F.col('estado'),\n",
        "                  F.col('casosNovos'),\n",
        "                  F.col('casosAcumulados'),\n",
        "                  F.col('obitosNovos'),\n",
        "                  F.col('obitosAcumulados'))\n",
        "                  .filter(F.col('regiao') == 'Norte') \n",
        "                  .filter(F.col('casosNovos') > 20)\n",
        ")"
      ],
      "metadata": {
        "id": "23hesi5SzPb5"
      },
      "execution_count": 22,
      "outputs": []
    },
    {
      "cell_type": "code",
      "source": [
        "df5.show(10)"
      ],
      "metadata": {
        "colab": {
          "base_uri": "https://localhost:8080/"
        },
        "id": "7HkgzIgx2i9X",
        "outputId": "5db02097-efb0-4b7b-e084-7bb313adb7c3"
      },
      "execution_count": 23,
      "outputs": [
        {
          "output_type": "stream",
          "name": "stdout",
          "text": [
            "+------+------+----------+---------------+-----------+----------------+\n",
            "|regiao|estado|casosNovos|casosAcumulados|obitosNovos|obitosAcumulados|\n",
            "+------+------+----------+---------------+-----------+----------------+\n",
            "| Norte|    RO|        22|             64|          0|               2|\n",
            "| Norte|    RO|        32|            160|          0|               4|\n",
            "| Norte|    RO|        39|            199|          0|               4|\n",
            "| Norte|    RO|        24|            223|          1|               5|\n",
            "| Norte|    RO|        27|            250|          0|               5|\n",
            "| Norte|    RO|        40|            290|          0|               5|\n",
            "| Norte|    RO|        38|            328|          2|               7|\n",
            "| Norte|    AC|        25|            135|          0|               5|\n",
            "| Norte|    AC|        21|            163|          1|               6|\n",
            "| Norte|    AC|        24|            258|          0|              11|\n",
            "+------+------+----------+---------------+-----------+----------------+\n",
            "only showing top 10 rows\n",
            "\n"
          ]
        }
      ]
    },
    {
      "cell_type": "code",
      "source": [
        "#COMANDO SELECT COM LISTA\n",
        "lista_colunas = ['regiao', 'estado', 'casosNovos', 'obitosNovos', 'casosAcumulados']\n",
        "\n",
        "#df2.select('regiao', 'estado', 'casosNovos', 'obitosNovos').show(10)\n",
        "df2.select(lista_colunas).show(10)"
      ],
      "metadata": {
        "colab": {
          "base_uri": "https://localhost:8080/"
        },
        "id": "mH-9p8IR0i_n",
        "outputId": "d1ab4276-6f3f-409f-d771-3978844665e3"
      },
      "execution_count": 24,
      "outputs": [
        {
          "output_type": "stream",
          "name": "stdout",
          "text": [
            "+------+------+----------+-----------+---------------+\n",
            "|regiao|estado|casosNovos|obitosNovos|casosAcumulados|\n",
            "+------+------+----------+-----------+---------------+\n",
            "| Norte|    RO|         0|          0|              0|\n",
            "| Norte|    RO|         0|          0|              0|\n",
            "| Norte|    RO|         0|          0|              0|\n",
            "| Norte|    RO|         0|          0|              0|\n",
            "| Norte|    RO|         0|          0|              0|\n",
            "| Norte|    RO|         0|          0|              0|\n",
            "| Norte|    RO|         0|          0|              0|\n",
            "| Norte|    RO|         0|          0|              0|\n",
            "| Norte|    RO|         0|          0|              0|\n",
            "| Norte|    RO|         0|          0|              0|\n",
            "+------+------+----------+-----------+---------------+\n",
            "only showing top 10 rows\n",
            "\n"
          ]
        }
      ]
    },
    {
      "cell_type": "code",
      "source": [
        "#SEGUNDA MANEIRA DE APLICAR O FILTER MAIS DE UMA VEZ\n",
        "#df2.filter()\n",
        "df2.filter(\"regiao = 'Norte' and estado = 'AM'\").show(10)\n",
        "df2.filter(\"regiao = 'Norte' or estado = 'AM'\").show(10)\n",
        "df2.filter(F.col('regiao') == 'Norte').filter(F.col('estado') == 'AM').show(10)"
      ],
      "metadata": {
        "colab": {
          "base_uri": "https://localhost:8080/"
        },
        "id": "2nHQMzd24ruj",
        "outputId": "ddd17a9b-dac8-4f04-c53a-64d5a158abc7"
      },
      "execution_count": 25,
      "outputs": [
        {
          "output_type": "stream",
          "name": "stdout",
          "text": [
            "+------+------+-------------------+----------+---------------+-----------+----------------+\n",
            "|regiao|estado|               data|casosNovos|casosAcumulados|obitosNovos|obitosAcumulados|\n",
            "+------+------+-------------------+----------+---------------+-----------+----------------+\n",
            "| Norte|    AM|2020-01-30 00:00:00|         0|              0|          0|               0|\n",
            "| Norte|    AM|2020-01-31 00:00:00|         0|              0|          0|               0|\n",
            "| Norte|    AM|2020-02-01 00:00:00|         0|              0|          0|               0|\n",
            "| Norte|    AM|2020-02-02 00:00:00|         0|              0|          0|               0|\n",
            "| Norte|    AM|2020-02-03 00:00:00|         0|              0|          0|               0|\n",
            "| Norte|    AM|2020-02-04 00:00:00|         0|              0|          0|               0|\n",
            "| Norte|    AM|2020-02-05 00:00:00|         0|              0|          0|               0|\n",
            "| Norte|    AM|2020-02-06 00:00:00|         0|              0|          0|               0|\n",
            "| Norte|    AM|2020-02-07 00:00:00|         0|              0|          0|               0|\n",
            "| Norte|    AM|2020-02-08 00:00:00|         0|              0|          0|               0|\n",
            "+------+------+-------------------+----------+---------------+-----------+----------------+\n",
            "only showing top 10 rows\n",
            "\n",
            "+------+------+-------------------+----------+---------------+-----------+----------------+\n",
            "|regiao|estado|               data|casosNovos|casosAcumulados|obitosNovos|obitosAcumulados|\n",
            "+------+------+-------------------+----------+---------------+-----------+----------------+\n",
            "| Norte|    RO|2020-01-30 00:00:00|         0|              0|          0|               0|\n",
            "| Norte|    RO|2020-01-31 00:00:00|         0|              0|          0|               0|\n",
            "| Norte|    RO|2020-02-01 00:00:00|         0|              0|          0|               0|\n",
            "| Norte|    RO|2020-02-02 00:00:00|         0|              0|          0|               0|\n",
            "| Norte|    RO|2020-02-03 00:00:00|         0|              0|          0|               0|\n",
            "| Norte|    RO|2020-02-04 00:00:00|         0|              0|          0|               0|\n",
            "| Norte|    RO|2020-02-05 00:00:00|         0|              0|          0|               0|\n",
            "| Norte|    RO|2020-02-06 00:00:00|         0|              0|          0|               0|\n",
            "| Norte|    RO|2020-02-07 00:00:00|         0|              0|          0|               0|\n",
            "| Norte|    RO|2020-02-08 00:00:00|         0|              0|          0|               0|\n",
            "+------+------+-------------------+----------+---------------+-----------+----------------+\n",
            "only showing top 10 rows\n",
            "\n",
            "+------+------+-------------------+----------+---------------+-----------+----------------+\n",
            "|regiao|estado|               data|casosNovos|casosAcumulados|obitosNovos|obitosAcumulados|\n",
            "+------+------+-------------------+----------+---------------+-----------+----------------+\n",
            "| Norte|    AM|2020-01-30 00:00:00|         0|              0|          0|               0|\n",
            "| Norte|    AM|2020-01-31 00:00:00|         0|              0|          0|               0|\n",
            "| Norte|    AM|2020-02-01 00:00:00|         0|              0|          0|               0|\n",
            "| Norte|    AM|2020-02-02 00:00:00|         0|              0|          0|               0|\n",
            "| Norte|    AM|2020-02-03 00:00:00|         0|              0|          0|               0|\n",
            "| Norte|    AM|2020-02-04 00:00:00|         0|              0|          0|               0|\n",
            "| Norte|    AM|2020-02-05 00:00:00|         0|              0|          0|               0|\n",
            "| Norte|    AM|2020-02-06 00:00:00|         0|              0|          0|               0|\n",
            "| Norte|    AM|2020-02-07 00:00:00|         0|              0|          0|               0|\n",
            "| Norte|    AM|2020-02-08 00:00:00|         0|              0|          0|               0|\n",
            "+------+------+-------------------+----------+---------------+-----------+----------------+\n",
            "only showing top 10 rows\n",
            "\n"
          ]
        }
      ]
    },
    {
      "cell_type": "code",
      "source": [
        "df2 = df_backup"
      ],
      "metadata": {
        "id": "S6bq7t1J-sKH"
      },
      "execution_count": 26,
      "outputs": []
    },
    {
      "cell_type": "code",
      "source": [
        "df2.show()"
      ],
      "metadata": {
        "colab": {
          "base_uri": "https://localhost:8080/"
        },
        "id": "2KTo--UvC9F9",
        "outputId": "637a6377-eef4-4513-f208-7b0b71d95b5b"
      },
      "execution_count": 27,
      "outputs": [
        {
          "output_type": "stream",
          "name": "stdout",
          "text": [
            "+------+------+-------------------+----------+---------------+-----------+----------------+\n",
            "|regiao|estado|               data|casosNovos|casosAcumulados|obitosNovos|obitosAcumulados|\n",
            "+------+------+-------------------+----------+---------------+-----------+----------------+\n",
            "| Norte|    RO|2020-01-30 00:00:00|         0|              0|          0|               0|\n",
            "| Norte|    RO|2020-01-31 00:00:00|         0|              0|          0|               0|\n",
            "| Norte|    RO|2020-02-01 00:00:00|         0|              0|          0|               0|\n",
            "| Norte|    RO|2020-02-02 00:00:00|         0|              0|          0|               0|\n",
            "| Norte|    RO|2020-02-03 00:00:00|         0|              0|          0|               0|\n",
            "| Norte|    RO|2020-02-04 00:00:00|         0|              0|          0|               0|\n",
            "| Norte|    RO|2020-02-05 00:00:00|         0|              0|          0|               0|\n",
            "| Norte|    RO|2020-02-06 00:00:00|         0|              0|          0|               0|\n",
            "| Norte|    RO|2020-02-07 00:00:00|         0|              0|          0|               0|\n",
            "| Norte|    RO|2020-02-08 00:00:00|         0|              0|          0|               0|\n",
            "| Norte|    RO|2020-02-09 00:00:00|         0|              0|          0|               0|\n",
            "| Norte|    RO|2020-02-10 00:00:00|         0|              0|          0|               0|\n",
            "| Norte|    RO|2020-02-11 00:00:00|         0|              0|          0|               0|\n",
            "| Norte|    RO|2020-02-12 00:00:00|         0|              0|          0|               0|\n",
            "| Norte|    RO|2020-02-13 00:00:00|         0|              0|          0|               0|\n",
            "| Norte|    RO|2020-02-14 00:00:00|         0|              0|          0|               0|\n",
            "| Norte|    RO|2020-02-15 00:00:00|         0|              0|          0|               0|\n",
            "| Norte|    RO|2020-02-16 00:00:00|         0|              0|          0|               0|\n",
            "| Norte|    RO|2020-02-17 00:00:00|         0|              0|          0|               0|\n",
            "| Norte|    RO|2020-02-18 00:00:00|         0|              0|          0|               0|\n",
            "+------+------+-------------------+----------+---------------+-----------+----------------+\n",
            "only showing top 20 rows\n",
            "\n"
          ]
        }
      ]
    },
    {
      "cell_type": "code",
      "source": [
        "#TERCEIRA FORMA DE APLICAR O FILTER MAIS DE UMA VEZ COM AND\n",
        "df2.filter((F.col('regiao') == 'Norte') & (F.col('estado') == 'AM')).show(10)"
      ],
      "metadata": {
        "colab": {
          "base_uri": "https://localhost:8080/"
        },
        "id": "Xm4zbsNC-x62",
        "outputId": "b425d8bf-9991-4669-f591-80cdb1929f7b"
      },
      "execution_count": 28,
      "outputs": [
        {
          "output_type": "stream",
          "name": "stdout",
          "text": [
            "+------+------+-------------------+----------+---------------+-----------+----------------+\n",
            "|regiao|estado|               data|casosNovos|casosAcumulados|obitosNovos|obitosAcumulados|\n",
            "+------+------+-------------------+----------+---------------+-----------+----------------+\n",
            "| Norte|    AM|2020-01-30 00:00:00|         0|              0|          0|               0|\n",
            "| Norte|    AM|2020-01-31 00:00:00|         0|              0|          0|               0|\n",
            "| Norte|    AM|2020-02-01 00:00:00|         0|              0|          0|               0|\n",
            "| Norte|    AM|2020-02-02 00:00:00|         0|              0|          0|               0|\n",
            "| Norte|    AM|2020-02-03 00:00:00|         0|              0|          0|               0|\n",
            "| Norte|    AM|2020-02-04 00:00:00|         0|              0|          0|               0|\n",
            "| Norte|    AM|2020-02-05 00:00:00|         0|              0|          0|               0|\n",
            "| Norte|    AM|2020-02-06 00:00:00|         0|              0|          0|               0|\n",
            "| Norte|    AM|2020-02-07 00:00:00|         0|              0|          0|               0|\n",
            "| Norte|    AM|2020-02-08 00:00:00|         0|              0|          0|               0|\n",
            "+------+------+-------------------+----------+---------------+-----------+----------------+\n",
            "only showing top 10 rows\n",
            "\n"
          ]
        }
      ]
    },
    {
      "cell_type": "code",
      "source": [
        "#TERCEIRA FORMA DE APLICAR O FILTER MAIS DE UMA VEZ COM AND\n",
        "df2.filter((F.col('regiao') == 'Norte') | (F.col('estado') == 'AM')).show(10)"
      ],
      "metadata": {
        "colab": {
          "base_uri": "https://localhost:8080/"
        },
        "id": "3_S7ojwm_Adm",
        "outputId": "b1682987-9f9c-476a-d3c0-634f0e38cf3e"
      },
      "execution_count": 29,
      "outputs": [
        {
          "output_type": "stream",
          "name": "stdout",
          "text": [
            "+------+------+-------------------+----------+---------------+-----------+----------------+\n",
            "|regiao|estado|               data|casosNovos|casosAcumulados|obitosNovos|obitosAcumulados|\n",
            "+------+------+-------------------+----------+---------------+-----------+----------------+\n",
            "| Norte|    RO|2020-01-30 00:00:00|         0|              0|          0|               0|\n",
            "| Norte|    RO|2020-01-31 00:00:00|         0|              0|          0|               0|\n",
            "| Norte|    RO|2020-02-01 00:00:00|         0|              0|          0|               0|\n",
            "| Norte|    RO|2020-02-02 00:00:00|         0|              0|          0|               0|\n",
            "| Norte|    RO|2020-02-03 00:00:00|         0|              0|          0|               0|\n",
            "| Norte|    RO|2020-02-04 00:00:00|         0|              0|          0|               0|\n",
            "| Norte|    RO|2020-02-05 00:00:00|         0|              0|          0|               0|\n",
            "| Norte|    RO|2020-02-06 00:00:00|         0|              0|          0|               0|\n",
            "| Norte|    RO|2020-02-07 00:00:00|         0|              0|          0|               0|\n",
            "| Norte|    RO|2020-02-08 00:00:00|         0|              0|          0|               0|\n",
            "+------+------+-------------------+----------+---------------+-----------+----------------+\n",
            "only showing top 10 rows\n",
            "\n"
          ]
        }
      ]
    },
    {
      "cell_type": "code",
      "source": [
        "'''\n",
        "df2 = (df2.select(F.col('regiao'), F.col('casosAcumulados'))\n",
        "            .filter(F.col('regiao') == 'Norte')\n",
        "            .filter(F.col('estado') == 'AM'))\n",
        "            '''"
      ],
      "metadata": {
        "colab": {
          "base_uri": "https://localhost:8080/",
          "height": 35
        },
        "id": "duo_1xOJ55sL",
        "outputId": "8906095c-f94f-4e18-ce4c-abfec1d8bffe"
      },
      "execution_count": 30,
      "outputs": [
        {
          "output_type": "execute_result",
          "data": {
            "text/plain": [
              "\"\\ndf2 = (df2.select(F.col('regiao'), F.col('casosAcumulados'))\\n            .filter(F.col('regiao') == 'Norte')\\n            .filter(F.col('estado') == 'AM'))\\n            \""
            ],
            "application/vnd.google.colaboratory.intrinsic+json": {
              "type": "string"
            }
          },
          "metadata": {},
          "execution_count": 30
        }
      ]
    },
    {
      "cell_type": "code",
      "source": [
        "df2.show(10)"
      ],
      "metadata": {
        "colab": {
          "base_uri": "https://localhost:8080/"
        },
        "id": "lrMv09B-57AS",
        "outputId": "8850c02f-0852-4b75-c430-718d030db336"
      },
      "execution_count": 31,
      "outputs": [
        {
          "output_type": "stream",
          "name": "stdout",
          "text": [
            "+------+------+-------------------+----------+---------------+-----------+----------------+\n",
            "|regiao|estado|               data|casosNovos|casosAcumulados|obitosNovos|obitosAcumulados|\n",
            "+------+------+-------------------+----------+---------------+-----------+----------------+\n",
            "| Norte|    RO|2020-01-30 00:00:00|         0|              0|          0|               0|\n",
            "| Norte|    RO|2020-01-31 00:00:00|         0|              0|          0|               0|\n",
            "| Norte|    RO|2020-02-01 00:00:00|         0|              0|          0|               0|\n",
            "| Norte|    RO|2020-02-02 00:00:00|         0|              0|          0|               0|\n",
            "| Norte|    RO|2020-02-03 00:00:00|         0|              0|          0|               0|\n",
            "| Norte|    RO|2020-02-04 00:00:00|         0|              0|          0|               0|\n",
            "| Norte|    RO|2020-02-05 00:00:00|         0|              0|          0|               0|\n",
            "| Norte|    RO|2020-02-06 00:00:00|         0|              0|          0|               0|\n",
            "| Norte|    RO|2020-02-07 00:00:00|         0|              0|          0|               0|\n",
            "| Norte|    RO|2020-02-08 00:00:00|         0|              0|          0|               0|\n",
            "+------+------+-------------------+----------+---------------+-----------+----------------+\n",
            "only showing top 10 rows\n",
            "\n"
          ]
        }
      ]
    },
    {
      "cell_type": "code",
      "source": [
        "#Aplicando filtro utilizando a função where\n",
        "df2.where(F.col('regiao') == 'Sul').show(50)"
      ],
      "metadata": {
        "colab": {
          "base_uri": "https://localhost:8080/"
        },
        "id": "4dtQPJoq58ZZ",
        "outputId": "b4084f33-5271-4efa-ef06-7641b471d9e5"
      },
      "execution_count": 32,
      "outputs": [
        {
          "output_type": "stream",
          "name": "stdout",
          "text": [
            "+------+------+-------------------+----------+---------------+-----------+----------------+\n",
            "|regiao|estado|               data|casosNovos|casosAcumulados|obitosNovos|obitosAcumulados|\n",
            "+------+------+-------------------+----------+---------------+-----------+----------------+\n",
            "|   Sul|    PR|2020-01-30 00:00:00|         0|              0|          0|               0|\n",
            "|   Sul|    PR|2020-01-31 00:00:00|         0|              0|          0|               0|\n",
            "|   Sul|    PR|2020-02-01 00:00:00|         0|              0|          0|               0|\n",
            "|   Sul|    PR|2020-02-02 00:00:00|         0|              0|          0|               0|\n",
            "|   Sul|    PR|2020-02-03 00:00:00|         0|              0|          0|               0|\n",
            "|   Sul|    PR|2020-02-04 00:00:00|         0|              0|          0|               0|\n",
            "|   Sul|    PR|2020-02-05 00:00:00|         0|              0|          0|               0|\n",
            "|   Sul|    PR|2020-02-06 00:00:00|         0|              0|          0|               0|\n",
            "|   Sul|    PR|2020-02-07 00:00:00|         0|              0|          0|               0|\n",
            "|   Sul|    PR|2020-02-08 00:00:00|         0|              0|          0|               0|\n",
            "|   Sul|    PR|2020-02-09 00:00:00|         0|              0|          0|               0|\n",
            "|   Sul|    PR|2020-02-10 00:00:00|         0|              0|          0|               0|\n",
            "|   Sul|    PR|2020-02-11 00:00:00|         0|              0|          0|               0|\n",
            "|   Sul|    PR|2020-02-12 00:00:00|         0|              0|          0|               0|\n",
            "|   Sul|    PR|2020-02-13 00:00:00|         0|              0|          0|               0|\n",
            "|   Sul|    PR|2020-02-14 00:00:00|         0|              0|          0|               0|\n",
            "|   Sul|    PR|2020-02-15 00:00:00|         0|              0|          0|               0|\n",
            "|   Sul|    PR|2020-02-16 00:00:00|         0|              0|          0|               0|\n",
            "|   Sul|    PR|2020-02-17 00:00:00|         0|              0|          0|               0|\n",
            "|   Sul|    PR|2020-02-18 00:00:00|         0|              0|          0|               0|\n",
            "|   Sul|    PR|2020-02-19 00:00:00|         0|              0|          0|               0|\n",
            "|   Sul|    PR|2020-02-20 00:00:00|         0|              0|          0|               0|\n",
            "|   Sul|    PR|2020-02-21 00:00:00|         0|              0|          0|               0|\n",
            "|   Sul|    PR|2020-02-22 00:00:00|         0|              0|          0|               0|\n",
            "|   Sul|    PR|2020-02-23 00:00:00|         0|              0|          0|               0|\n",
            "|   Sul|    PR|2020-02-24 00:00:00|         0|              0|          0|               0|\n",
            "|   Sul|    PR|2020-02-25 00:00:00|         0|              0|          0|               0|\n",
            "|   Sul|    PR|2020-02-26 00:00:00|         0|              0|          0|               0|\n",
            "|   Sul|    PR|2020-02-27 00:00:00|         0|              0|          0|               0|\n",
            "|   Sul|    PR|2020-02-28 00:00:00|         0|              0|          0|               0|\n",
            "|   Sul|    PR|2020-02-29 00:00:00|         0|              0|          0|               0|\n",
            "|   Sul|    PR|2020-03-01 00:00:00|         0|              0|          0|               0|\n",
            "|   Sul|    PR|2020-03-02 00:00:00|         0|              0|          0|               0|\n",
            "|   Sul|    PR|2020-03-03 00:00:00|         0|              0|          0|               0|\n",
            "|   Sul|    PR|2020-03-04 00:00:00|         0|              0|          0|               0|\n",
            "|   Sul|    PR|2020-03-05 00:00:00|         0|              0|          0|               0|\n",
            "|   Sul|    PR|2020-03-06 00:00:00|         0|              0|          0|               0|\n",
            "|   Sul|    PR|2020-03-07 00:00:00|         0|              0|          0|               0|\n",
            "|   Sul|    PR|2020-03-08 00:00:00|         0|              0|          0|               0|\n",
            "|   Sul|    PR|2020-03-09 00:00:00|         0|              0|          0|               0|\n",
            "|   Sul|    PR|2020-03-10 00:00:00|         0|              0|          0|               0|\n",
            "|   Sul|    PR|2020-03-11 00:00:00|         0|              0|          0|               0|\n",
            "|   Sul|    PR|2020-03-12 00:00:00|         6|              6|          0|               0|\n",
            "|   Sul|    PR|2020-03-13 00:00:00|         0|              6|          0|               0|\n",
            "|   Sul|    PR|2020-03-14 00:00:00|         0|              6|          0|               0|\n",
            "|   Sul|    PR|2020-03-15 00:00:00|         0|              6|          0|               0|\n",
            "|   Sul|    PR|2020-03-16 00:00:00|         0|              6|          0|               0|\n",
            "|   Sul|    PR|2020-03-17 00:00:00|         0|              6|          0|               0|\n",
            "|   Sul|    PR|2020-03-18 00:00:00|         7|             13|          0|               0|\n",
            "|   Sul|    PR|2020-03-19 00:00:00|        10|             23|          0|               0|\n",
            "+------+------+-------------------+----------+---------------+-----------+----------------+\n",
            "only showing top 50 rows\n",
            "\n"
          ]
        }
      ]
    },
    {
      "cell_type": "code",
      "source": [
        "#Aplicando filtro de acordo com letras ou palavras no início\n",
        "df2.filter(F.col('regiao').startswith('Su')).show()"
      ],
      "metadata": {
        "colab": {
          "base_uri": "https://localhost:8080/"
        },
        "id": "GuVUAKz6FOj8",
        "outputId": "dcefe18a-4f96-415b-ffa8-4e6d328e2755"
      },
      "execution_count": 33,
      "outputs": [
        {
          "output_type": "stream",
          "name": "stdout",
          "text": [
            "+-------+------+-------------------+----------+---------------+-----------+----------------+\n",
            "| regiao|estado|               data|casosNovos|casosAcumulados|obitosNovos|obitosAcumulados|\n",
            "+-------+------+-------------------+----------+---------------+-----------+----------------+\n",
            "|Sudeste|    MG|2020-01-30 00:00:00|         0|              0|          0|               0|\n",
            "|Sudeste|    MG|2020-01-31 00:00:00|         0|              0|          0|               0|\n",
            "|Sudeste|    MG|2020-02-01 00:00:00|         0|              0|          0|               0|\n",
            "|Sudeste|    MG|2020-02-02 00:00:00|         0|              0|          0|               0|\n",
            "|Sudeste|    MG|2020-02-03 00:00:00|         0|              0|          0|               0|\n",
            "|Sudeste|    MG|2020-02-04 00:00:00|         0|              0|          0|               0|\n",
            "|Sudeste|    MG|2020-02-05 00:00:00|         0|              0|          0|               0|\n",
            "|Sudeste|    MG|2020-02-06 00:00:00|         0|              0|          0|               0|\n",
            "|Sudeste|    MG|2020-02-07 00:00:00|         0|              0|          0|               0|\n",
            "|Sudeste|    MG|2020-02-08 00:00:00|         0|              0|          0|               0|\n",
            "|Sudeste|    MG|2020-02-09 00:00:00|         0|              0|          0|               0|\n",
            "|Sudeste|    MG|2020-02-10 00:00:00|         0|              0|          0|               0|\n",
            "|Sudeste|    MG|2020-02-11 00:00:00|         0|              0|          0|               0|\n",
            "|Sudeste|    MG|2020-02-12 00:00:00|         0|              0|          0|               0|\n",
            "|Sudeste|    MG|2020-02-13 00:00:00|         0|              0|          0|               0|\n",
            "|Sudeste|    MG|2020-02-14 00:00:00|         0|              0|          0|               0|\n",
            "|Sudeste|    MG|2020-02-15 00:00:00|         0|              0|          0|               0|\n",
            "|Sudeste|    MG|2020-02-16 00:00:00|         0|              0|          0|               0|\n",
            "|Sudeste|    MG|2020-02-17 00:00:00|         0|              0|          0|               0|\n",
            "|Sudeste|    MG|2020-02-18 00:00:00|         0|              0|          0|               0|\n",
            "+-------+------+-------------------+----------+---------------+-----------+----------------+\n",
            "only showing top 20 rows\n",
            "\n"
          ]
        }
      ]
    },
    {
      "cell_type": "code",
      "source": [
        "#Aplicando filtro de acordo com letras ou palavras no final\n",
        "df2.filter(F.col('regiao').endswith('este')).show()"
      ],
      "metadata": {
        "colab": {
          "base_uri": "https://localhost:8080/"
        },
        "id": "QuT41vwdFQFy",
        "outputId": "835efd7a-dc4a-4a79-d199-70e71b28b8ee"
      },
      "execution_count": 34,
      "outputs": [
        {
          "output_type": "stream",
          "name": "stdout",
          "text": [
            "+--------+------+-------------------+----------+---------------+-----------+----------------+\n",
            "|  regiao|estado|               data|casosNovos|casosAcumulados|obitosNovos|obitosAcumulados|\n",
            "+--------+------+-------------------+----------+---------------+-----------+----------------+\n",
            "|Nordeste|    MA|2020-01-30 00:00:00|         0|              0|          0|               0|\n",
            "|Nordeste|    MA|2020-01-31 00:00:00|         0|              0|          0|               0|\n",
            "|Nordeste|    MA|2020-02-01 00:00:00|         0|              0|          0|               0|\n",
            "|Nordeste|    MA|2020-02-02 00:00:00|         0|              0|          0|               0|\n",
            "|Nordeste|    MA|2020-02-03 00:00:00|         0|              0|          0|               0|\n",
            "|Nordeste|    MA|2020-02-04 00:00:00|         0|              0|          0|               0|\n",
            "|Nordeste|    MA|2020-02-05 00:00:00|         0|              0|          0|               0|\n",
            "|Nordeste|    MA|2020-02-06 00:00:00|         0|              0|          0|               0|\n",
            "|Nordeste|    MA|2020-02-07 00:00:00|         0|              0|          0|               0|\n",
            "|Nordeste|    MA|2020-02-08 00:00:00|         0|              0|          0|               0|\n",
            "|Nordeste|    MA|2020-02-09 00:00:00|         0|              0|          0|               0|\n",
            "|Nordeste|    MA|2020-02-10 00:00:00|         0|              0|          0|               0|\n",
            "|Nordeste|    MA|2020-02-11 00:00:00|         0|              0|          0|               0|\n",
            "|Nordeste|    MA|2020-02-12 00:00:00|         0|              0|          0|               0|\n",
            "|Nordeste|    MA|2020-02-13 00:00:00|         0|              0|          0|               0|\n",
            "|Nordeste|    MA|2020-02-14 00:00:00|         0|              0|          0|               0|\n",
            "|Nordeste|    MA|2020-02-15 00:00:00|         0|              0|          0|               0|\n",
            "|Nordeste|    MA|2020-02-16 00:00:00|         0|              0|          0|               0|\n",
            "|Nordeste|    MA|2020-02-17 00:00:00|         0|              0|          0|               0|\n",
            "|Nordeste|    MA|2020-02-18 00:00:00|         0|              0|          0|               0|\n",
            "+--------+------+-------------------+----------+---------------+-----------+----------------+\n",
            "only showing top 20 rows\n",
            "\n"
          ]
        }
      ]
    },
    {
      "cell_type": "code",
      "source": [
        "#Aplicando filtro de acordo com letras ou palavras em qualquer parte\n",
        "df2.filter(F.col('regiao').contains('d')).show()"
      ],
      "metadata": {
        "colab": {
          "base_uri": "https://localhost:8080/"
        },
        "id": "tNBpBxAsFQnr",
        "outputId": "64bb978b-c33d-4d49-f020-fd73fb9bf99b"
      },
      "execution_count": 35,
      "outputs": [
        {
          "output_type": "stream",
          "name": "stdout",
          "text": [
            "+--------+------+-------------------+----------+---------------+-----------+----------------+\n",
            "|  regiao|estado|               data|casosNovos|casosAcumulados|obitosNovos|obitosAcumulados|\n",
            "+--------+------+-------------------+----------+---------------+-----------+----------------+\n",
            "|Nordeste|    MA|2020-01-30 00:00:00|         0|              0|          0|               0|\n",
            "|Nordeste|    MA|2020-01-31 00:00:00|         0|              0|          0|               0|\n",
            "|Nordeste|    MA|2020-02-01 00:00:00|         0|              0|          0|               0|\n",
            "|Nordeste|    MA|2020-02-02 00:00:00|         0|              0|          0|               0|\n",
            "|Nordeste|    MA|2020-02-03 00:00:00|         0|              0|          0|               0|\n",
            "|Nordeste|    MA|2020-02-04 00:00:00|         0|              0|          0|               0|\n",
            "|Nordeste|    MA|2020-02-05 00:00:00|         0|              0|          0|               0|\n",
            "|Nordeste|    MA|2020-02-06 00:00:00|         0|              0|          0|               0|\n",
            "|Nordeste|    MA|2020-02-07 00:00:00|         0|              0|          0|               0|\n",
            "|Nordeste|    MA|2020-02-08 00:00:00|         0|              0|          0|               0|\n",
            "|Nordeste|    MA|2020-02-09 00:00:00|         0|              0|          0|               0|\n",
            "|Nordeste|    MA|2020-02-10 00:00:00|         0|              0|          0|               0|\n",
            "|Nordeste|    MA|2020-02-11 00:00:00|         0|              0|          0|               0|\n",
            "|Nordeste|    MA|2020-02-12 00:00:00|         0|              0|          0|               0|\n",
            "|Nordeste|    MA|2020-02-13 00:00:00|         0|              0|          0|               0|\n",
            "|Nordeste|    MA|2020-02-14 00:00:00|         0|              0|          0|               0|\n",
            "|Nordeste|    MA|2020-02-15 00:00:00|         0|              0|          0|               0|\n",
            "|Nordeste|    MA|2020-02-16 00:00:00|         0|              0|          0|               0|\n",
            "|Nordeste|    MA|2020-02-17 00:00:00|         0|              0|          0|               0|\n",
            "|Nordeste|    MA|2020-02-18 00:00:00|         0|              0|          0|               0|\n",
            "+--------+------+-------------------+----------+---------------+-----------+----------------+\n",
            "only showing top 20 rows\n",
            "\n"
          ]
        }
      ]
    },
    {
      "cell_type": "code",
      "source": [
        "#Aplicando filtro de acordo com letras ou palavras com like\n",
        "df2.filter(\"regiao like 'S%'\").show(10)"
      ],
      "metadata": {
        "colab": {
          "base_uri": "https://localhost:8080/"
        },
        "id": "rkehCCB0FTJx",
        "outputId": "86c01284-b8e2-4242-ac9b-4739386e2d5a"
      },
      "execution_count": 36,
      "outputs": [
        {
          "output_type": "stream",
          "name": "stdout",
          "text": [
            "+-------+------+-------------------+----------+---------------+-----------+----------------+\n",
            "| regiao|estado|               data|casosNovos|casosAcumulados|obitosNovos|obitosAcumulados|\n",
            "+-------+------+-------------------+----------+---------------+-----------+----------------+\n",
            "|Sudeste|    MG|2020-01-30 00:00:00|         0|              0|          0|               0|\n",
            "|Sudeste|    MG|2020-01-31 00:00:00|         0|              0|          0|               0|\n",
            "|Sudeste|    MG|2020-02-01 00:00:00|         0|              0|          0|               0|\n",
            "|Sudeste|    MG|2020-02-02 00:00:00|         0|              0|          0|               0|\n",
            "|Sudeste|    MG|2020-02-03 00:00:00|         0|              0|          0|               0|\n",
            "|Sudeste|    MG|2020-02-04 00:00:00|         0|              0|          0|               0|\n",
            "|Sudeste|    MG|2020-02-05 00:00:00|         0|              0|          0|               0|\n",
            "|Sudeste|    MG|2020-02-06 00:00:00|         0|              0|          0|               0|\n",
            "|Sudeste|    MG|2020-02-07 00:00:00|         0|              0|          0|               0|\n",
            "|Sudeste|    MG|2020-02-08 00:00:00|         0|              0|          0|               0|\n",
            "+-------+------+-------------------+----------+---------------+-----------+----------------+\n",
            "only showing top 10 rows\n",
            "\n"
          ]
        }
      ]
    },
    {
      "cell_type": "code",
      "source": [
        "#UTILIZANDO O IN\n",
        "df2.filter(\"regiao in ('Norte', 'Sul')\").show(10)"
      ],
      "metadata": {
        "colab": {
          "base_uri": "https://localhost:8080/"
        },
        "id": "UCuI2W-7FVc1",
        "outputId": "6957ca70-80a2-4003-ccf5-cd85c0005f2a"
      },
      "execution_count": 37,
      "outputs": [
        {
          "output_type": "stream",
          "name": "stdout",
          "text": [
            "+------+------+-------------------+----------+---------------+-----------+----------------+\n",
            "|regiao|estado|               data|casosNovos|casosAcumulados|obitosNovos|obitosAcumulados|\n",
            "+------+------+-------------------+----------+---------------+-----------+----------------+\n",
            "| Norte|    RO|2020-01-30 00:00:00|         0|              0|          0|               0|\n",
            "| Norte|    RO|2020-01-31 00:00:00|         0|              0|          0|               0|\n",
            "| Norte|    RO|2020-02-01 00:00:00|         0|              0|          0|               0|\n",
            "| Norte|    RO|2020-02-02 00:00:00|         0|              0|          0|               0|\n",
            "| Norte|    RO|2020-02-03 00:00:00|         0|              0|          0|               0|\n",
            "| Norte|    RO|2020-02-04 00:00:00|         0|              0|          0|               0|\n",
            "| Norte|    RO|2020-02-05 00:00:00|         0|              0|          0|               0|\n",
            "| Norte|    RO|2020-02-06 00:00:00|         0|              0|          0|               0|\n",
            "| Norte|    RO|2020-02-07 00:00:00|         0|              0|          0|               0|\n",
            "| Norte|    RO|2020-02-08 00:00:00|         0|              0|          0|               0|\n",
            "+------+------+-------------------+----------+---------------+-----------+----------------+\n",
            "only showing top 10 rows\n",
            "\n"
          ]
        }
      ]
    },
    {
      "cell_type": "code",
      "source": [
        "#LIKE COMO UMA FUNÇÃO\n",
        "df2.filter(F.col('regiao').like('S%')).show()"
      ],
      "metadata": {
        "colab": {
          "base_uri": "https://localhost:8080/"
        },
        "id": "lxhDu_HEFYBz",
        "outputId": "46ba895d-7711-45e2-c7ab-b380fdebfabc"
      },
      "execution_count": 38,
      "outputs": [
        {
          "output_type": "stream",
          "name": "stdout",
          "text": [
            "+-------+------+-------------------+----------+---------------+-----------+----------------+\n",
            "| regiao|estado|               data|casosNovos|casosAcumulados|obitosNovos|obitosAcumulados|\n",
            "+-------+------+-------------------+----------+---------------+-----------+----------------+\n",
            "|Sudeste|    MG|2020-01-30 00:00:00|         0|              0|          0|               0|\n",
            "|Sudeste|    MG|2020-01-31 00:00:00|         0|              0|          0|               0|\n",
            "|Sudeste|    MG|2020-02-01 00:00:00|         0|              0|          0|               0|\n",
            "|Sudeste|    MG|2020-02-02 00:00:00|         0|              0|          0|               0|\n",
            "|Sudeste|    MG|2020-02-03 00:00:00|         0|              0|          0|               0|\n",
            "|Sudeste|    MG|2020-02-04 00:00:00|         0|              0|          0|               0|\n",
            "|Sudeste|    MG|2020-02-05 00:00:00|         0|              0|          0|               0|\n",
            "|Sudeste|    MG|2020-02-06 00:00:00|         0|              0|          0|               0|\n",
            "|Sudeste|    MG|2020-02-07 00:00:00|         0|              0|          0|               0|\n",
            "|Sudeste|    MG|2020-02-08 00:00:00|         0|              0|          0|               0|\n",
            "|Sudeste|    MG|2020-02-09 00:00:00|         0|              0|          0|               0|\n",
            "|Sudeste|    MG|2020-02-10 00:00:00|         0|              0|          0|               0|\n",
            "|Sudeste|    MG|2020-02-11 00:00:00|         0|              0|          0|               0|\n",
            "|Sudeste|    MG|2020-02-12 00:00:00|         0|              0|          0|               0|\n",
            "|Sudeste|    MG|2020-02-13 00:00:00|         0|              0|          0|               0|\n",
            "|Sudeste|    MG|2020-02-14 00:00:00|         0|              0|          0|               0|\n",
            "|Sudeste|    MG|2020-02-15 00:00:00|         0|              0|          0|               0|\n",
            "|Sudeste|    MG|2020-02-16 00:00:00|         0|              0|          0|               0|\n",
            "|Sudeste|    MG|2020-02-17 00:00:00|         0|              0|          0|               0|\n",
            "|Sudeste|    MG|2020-02-18 00:00:00|         0|              0|          0|               0|\n",
            "+-------+------+-------------------+----------+---------------+-----------+----------------+\n",
            "only showing top 20 rows\n",
            "\n"
          ]
        }
      ]
    },
    {
      "cell_type": "code",
      "source": [
        "#UTILIZANDO O IN\n",
        "df2.filter(\"regiao in ('Norte', 'Sul')\").show(10)"
      ],
      "metadata": {
        "colab": {
          "base_uri": "https://localhost:8080/"
        },
        "id": "ohcmVscpSGQm",
        "outputId": "2bad9ede-47ce-471a-fdd4-978f00b78d5e"
      },
      "execution_count": 39,
      "outputs": [
        {
          "output_type": "stream",
          "name": "stdout",
          "text": [
            "+------+------+-------------------+----------+---------------+-----------+----------------+\n",
            "|regiao|estado|               data|casosNovos|casosAcumulados|obitosNovos|obitosAcumulados|\n",
            "+------+------+-------------------+----------+---------------+-----------+----------------+\n",
            "| Norte|    RO|2020-01-30 00:00:00|         0|              0|          0|               0|\n",
            "| Norte|    RO|2020-01-31 00:00:00|         0|              0|          0|               0|\n",
            "| Norte|    RO|2020-02-01 00:00:00|         0|              0|          0|               0|\n",
            "| Norte|    RO|2020-02-02 00:00:00|         0|              0|          0|               0|\n",
            "| Norte|    RO|2020-02-03 00:00:00|         0|              0|          0|               0|\n",
            "| Norte|    RO|2020-02-04 00:00:00|         0|              0|          0|               0|\n",
            "| Norte|    RO|2020-02-05 00:00:00|         0|              0|          0|               0|\n",
            "| Norte|    RO|2020-02-06 00:00:00|         0|              0|          0|               0|\n",
            "| Norte|    RO|2020-02-07 00:00:00|         0|              0|          0|               0|\n",
            "| Norte|    RO|2020-02-08 00:00:00|         0|              0|          0|               0|\n",
            "+------+------+-------------------+----------+---------------+-----------+----------------+\n",
            "only showing top 10 rows\n",
            "\n"
          ]
        }
      ]
    },
    {
      "cell_type": "code",
      "source": [
        "#LIKE COMO UMA FUNÇÃO\n",
        "df2.filter(F.col('regiao').like('S%')).show(10)"
      ],
      "metadata": {
        "colab": {
          "base_uri": "https://localhost:8080/"
        },
        "id": "RgqlVFQMSJLq",
        "outputId": "2ffcf540-9588-4a33-e505-c2e358ff295b"
      },
      "execution_count": 40,
      "outputs": [
        {
          "output_type": "stream",
          "name": "stdout",
          "text": [
            "+-------+------+-------------------+----------+---------------+-----------+----------------+\n",
            "| regiao|estado|               data|casosNovos|casosAcumulados|obitosNovos|obitosAcumulados|\n",
            "+-------+------+-------------------+----------+---------------+-----------+----------------+\n",
            "|Sudeste|    MG|2020-01-30 00:00:00|         0|              0|          0|               0|\n",
            "|Sudeste|    MG|2020-01-31 00:00:00|         0|              0|          0|               0|\n",
            "|Sudeste|    MG|2020-02-01 00:00:00|         0|              0|          0|               0|\n",
            "|Sudeste|    MG|2020-02-02 00:00:00|         0|              0|          0|               0|\n",
            "|Sudeste|    MG|2020-02-03 00:00:00|         0|              0|          0|               0|\n",
            "|Sudeste|    MG|2020-02-04 00:00:00|         0|              0|          0|               0|\n",
            "|Sudeste|    MG|2020-02-05 00:00:00|         0|              0|          0|               0|\n",
            "|Sudeste|    MG|2020-02-06 00:00:00|         0|              0|          0|               0|\n",
            "|Sudeste|    MG|2020-02-07 00:00:00|         0|              0|          0|               0|\n",
            "|Sudeste|    MG|2020-02-08 00:00:00|         0|              0|          0|               0|\n",
            "+-------+------+-------------------+----------+---------------+-----------+----------------+\n",
            "only showing top 10 rows\n",
            "\n"
          ]
        }
      ]
    },
    {
      "cell_type": "code",
      "source": [
        "#CRIAÇÃO DE NOVAS COLUNAS\n",
        "df2.withColumn('casosSomados', F.lit('Um texto qualquer')).show(10)"
      ],
      "metadata": {
        "colab": {
          "base_uri": "https://localhost:8080/"
        },
        "id": "1sdJWgAMSLiz",
        "outputId": "6230deae-b663-400f-f5ec-d0226ce7b2a8"
      },
      "execution_count": 41,
      "outputs": [
        {
          "output_type": "stream",
          "name": "stdout",
          "text": [
            "+------+------+-------------------+----------+---------------+-----------+----------------+-----------------+\n",
            "|regiao|estado|               data|casosNovos|casosAcumulados|obitosNovos|obitosAcumulados|     casosSomados|\n",
            "+------+------+-------------------+----------+---------------+-----------+----------------+-----------------+\n",
            "| Norte|    RO|2020-01-30 00:00:00|         0|              0|          0|               0|Um texto qualquer|\n",
            "| Norte|    RO|2020-01-31 00:00:00|         0|              0|          0|               0|Um texto qualquer|\n",
            "| Norte|    RO|2020-02-01 00:00:00|         0|              0|          0|               0|Um texto qualquer|\n",
            "| Norte|    RO|2020-02-02 00:00:00|         0|              0|          0|               0|Um texto qualquer|\n",
            "| Norte|    RO|2020-02-03 00:00:00|         0|              0|          0|               0|Um texto qualquer|\n",
            "| Norte|    RO|2020-02-04 00:00:00|         0|              0|          0|               0|Um texto qualquer|\n",
            "| Norte|    RO|2020-02-05 00:00:00|         0|              0|          0|               0|Um texto qualquer|\n",
            "| Norte|    RO|2020-02-06 00:00:00|         0|              0|          0|               0|Um texto qualquer|\n",
            "| Norte|    RO|2020-02-07 00:00:00|         0|              0|          0|               0|Um texto qualquer|\n",
            "| Norte|    RO|2020-02-08 00:00:00|         0|              0|          0|               0|Um texto qualquer|\n",
            "+------+------+-------------------+----------+---------------+-----------+----------------+-----------------+\n",
            "only showing top 10 rows\n",
            "\n"
          ]
        }
      ]
    },
    {
      "cell_type": "code",
      "source": [
        "df2.withColumn('casosSomados', F.col('casosNovos') + F.col('casosAcumulados')).show(20)"
      ],
      "metadata": {
        "colab": {
          "base_uri": "https://localhost:8080/"
        },
        "id": "exbsrb0dSOeS",
        "outputId": "826675ff-317a-46ce-dc29-af6da6fcd4ac"
      },
      "execution_count": 42,
      "outputs": [
        {
          "output_type": "stream",
          "name": "stdout",
          "text": [
            "+------+------+-------------------+----------+---------------+-----------+----------------+------------+\n",
            "|regiao|estado|               data|casosNovos|casosAcumulados|obitosNovos|obitosAcumulados|casosSomados|\n",
            "+------+------+-------------------+----------+---------------+-----------+----------------+------------+\n",
            "| Norte|    RO|2020-01-30 00:00:00|         0|              0|          0|               0|           0|\n",
            "| Norte|    RO|2020-01-31 00:00:00|         0|              0|          0|               0|           0|\n",
            "| Norte|    RO|2020-02-01 00:00:00|         0|              0|          0|               0|           0|\n",
            "| Norte|    RO|2020-02-02 00:00:00|         0|              0|          0|               0|           0|\n",
            "| Norte|    RO|2020-02-03 00:00:00|         0|              0|          0|               0|           0|\n",
            "| Norte|    RO|2020-02-04 00:00:00|         0|              0|          0|               0|           0|\n",
            "| Norte|    RO|2020-02-05 00:00:00|         0|              0|          0|               0|           0|\n",
            "| Norte|    RO|2020-02-06 00:00:00|         0|              0|          0|               0|           0|\n",
            "| Norte|    RO|2020-02-07 00:00:00|         0|              0|          0|               0|           0|\n",
            "| Norte|    RO|2020-02-08 00:00:00|         0|              0|          0|               0|           0|\n",
            "| Norte|    RO|2020-02-09 00:00:00|         0|              0|          0|               0|           0|\n",
            "| Norte|    RO|2020-02-10 00:00:00|         0|              0|          0|               0|           0|\n",
            "| Norte|    RO|2020-02-11 00:00:00|         0|              0|          0|               0|           0|\n",
            "| Norte|    RO|2020-02-12 00:00:00|         0|              0|          0|               0|           0|\n",
            "| Norte|    RO|2020-02-13 00:00:00|         0|              0|          0|               0|           0|\n",
            "| Norte|    RO|2020-02-14 00:00:00|         0|              0|          0|               0|           0|\n",
            "| Norte|    RO|2020-02-15 00:00:00|         0|              0|          0|               0|           0|\n",
            "| Norte|    RO|2020-02-16 00:00:00|         0|              0|          0|               0|           0|\n",
            "| Norte|    RO|2020-02-17 00:00:00|         0|              0|          0|               0|           0|\n",
            "| Norte|    RO|2020-02-18 00:00:00|         0|              0|          0|               0|           0|\n",
            "+------+------+-------------------+----------+---------------+-----------+----------------+------------+\n",
            "only showing top 20 rows\n",
            "\n"
          ]
        }
      ]
    }
  ]
}